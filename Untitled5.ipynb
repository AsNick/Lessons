{
 "cells": [
  {
   "cell_type": "code",
   "execution_count": 1,
   "metadata": {},
   "outputs": [
    {
     "name": "stdout",
     "output_type": "stream",
     "text": [
      "1\n",
      "2\n",
      "3\n",
      "4\n",
      "1\n"
     ]
    }
   ],
   "source": [
    "a = int(input())\n",
    "b = int(input())\n",
    "c = int(input())\n",
    "d = int(input())\n",
    "\n",
    "if a <= b and a <= c and a <= d:\n",
    "    print(a)\n",
    "elif b <= a and b <= c and b <= d:\n",
    "    print(b)\n",
    "elif c <= a and c <= b and c <= d:\n",
    "    print(c)\n",
    "else:\n",
    "    print(d)\n"
   ]
  },
  {
   "cell_type": "code",
   "execution_count": 2,
   "metadata": {},
   "outputs": [
    {
     "name": "stdout",
     "output_type": "stream",
     "text": [
      "d\n"
     ]
    },
    {
     "ename": "ValueError",
     "evalue": "invalid literal for int() with base 10: 'd'",
     "output_type": "error",
     "traceback": [
      "\u001b[0;31m---------------------------------------------------------------------------\u001b[0m",
      "\u001b[0;31mValueError\u001b[0m                                Traceback (most recent call last)",
      "\u001b[0;32m<ipython-input-2-387ba9e80ec4>\u001b[0m in \u001b[0;36m<module>\u001b[0;34m\u001b[0m\n\u001b[1;32m     10\u001b[0m \u001b[0;34m\u001b[0m\u001b[0m\n\u001b[1;32m     11\u001b[0m \u001b[0;34m\u001b[0m\u001b[0m\n\u001b[0;32m---> 12\u001b[0;31m \u001b[0mi\u001b[0m \u001b[0;34m=\u001b[0m \u001b[0mint\u001b[0m\u001b[0;34m(\u001b[0m\u001b[0minput\u001b[0m\u001b[0;34m(\u001b[0m\u001b[0;34m)\u001b[0m\u001b[0;34m)\u001b[0m\u001b[0;34m\u001b[0m\u001b[0;34m\u001b[0m\u001b[0m\n\u001b[0m\u001b[1;32m     13\u001b[0m \u001b[0mb\u001b[0m \u001b[0;34m=\u001b[0m \u001b[0;36m1\u001b[0m\u001b[0;34m\u001b[0m\u001b[0;34m\u001b[0m\u001b[0m\n\u001b[1;32m     14\u001b[0m \u001b[0mc\u001b[0m \u001b[0;34m=\u001b[0m \u001b[0;36m0\u001b[0m\u001b[0;34m\u001b[0m\u001b[0;34m\u001b[0m\u001b[0m\n",
      "\u001b[0;31mValueError\u001b[0m: invalid literal for int() with base 10: 'd'"
     ]
    }
   ],
   "source": [
    "def is_prime(n):\n",
    "    if n == 2:\n",
    "        return True\n",
    "    if n < 2 or n % 2 == 0:\n",
    "        return False\n",
    "    for x in range(3, 1 + int(n ** .5), 2):\n",
    "        if n % x == 0:\n",
    "            return False\n",
    "    return True\n",
    "\n",
    "\n",
    "i = int(input())\n",
    "b = 1\n",
    "c = 0\n",
    "c1 = i\n",
    "while True:\n",
    "    if is_prime(i):\n",
    "        if b == 1:\n",
    "            b = -1\n",
    "            c = i\n",
    "            i = c1\n",
    "        else:\n",
    "            c00 = c - c1\n",
    "            ci = c1 - i\n",
    "            if ci > c00:\n",
    "                print(c)\n",
    "            else:\n",
    "                print(i)\n",
    "            exit()\n",
    "    \n",
    "    i += b"
   ]
  },
  {
   "cell_type": "code",
   "execution_count": 3,
   "metadata": {},
   "outputs": [
    {
     "name": "stdout",
     "output_type": "stream",
     "text": [
      "1\n",
      "1\n",
      "0\n"
     ]
    }
   ],
   "source": [
    "n = int(input())\n",
    "\n",
    "total = 0\n",
    "for i in range(n):\n",
    "    s = input()\n",
    "    s2 = s.count('11')\n",
    "    if s2 > 2:\n",
    "        total += 1\n",
    "        \n",
    "print(total)\n",
    "    "
   ]
  },
  {
   "cell_type": "code",
   "execution_count": 7,
   "metadata": {},
   "outputs": [
    {
     "name": "stdout",
     "output_type": "stream",
     "text": [
      "20 50\n",
      "29 31\n",
      "41 43\n"
     ]
    }
   ],
   "source": [
    "def eratosthenes(n1, n2):\n",
    "    a = [True] * (n2 + 1)\n",
    "    a[0] = False\n",
    "    a[1] = False\n",
    "    p = []\n",
    "\n",
    "    for i in range(2, n2 + 1):\n",
    "        if a[i]:\n",
    "            if i >= n1:\n",
    "                p.append(i)\n",
    "            for j in range(i * i, n2 + 1, i):\n",
    "                a[j] = False\n",
    "    return p\n",
    "    \n",
    "    \n",
    "    \n",
    "a, b = map(int, input().split())\n",
    "\n",
    "p = eratosthenes(a, b)\n",
    "for i in range(len(p) - 1):\n",
    "    if p[i] + 2 == p[i + 1]:\n",
    "        print(p[i], p[i + 1])\n",
    "    "
   ]
  },
  {
   "cell_type": "code",
   "execution_count": 14,
   "metadata": {},
   "outputs": [
    {
     "name": "stdout",
     "output_type": "stream",
     "text": [
      "-1 -6 -12 -7\n",
      "0.9999990463256836\n"
     ]
    }
   ],
   "source": [
    "def f(x):\n",
    "    return a * x ** 3 + b * x ** 2 + c * x + d\n",
    "\n",
    "\n",
    "def bin_search(l, r):\n",
    "    for i in range(100):\n",
    "        m = (r + l) / 2\n",
    "        if f(m) <= 0:\n",
    "            l = m\n",
    "        else:\n",
    "            r = m\n",
    "    return l\n",
    "\n",
    "\n",
    "a, b, c, d = map(int, input().split())\n",
    "l, r = -1, 1\n",
    "e = .000001\n",
    "while f(l) * f(r) >= 0:\n",
    "    l = l * 2\n",
    "    r = r * 2\n",
    "    \n",
    "if f(l) > 0:\n",
    "    l, r = r, l\n",
    "    \n",
    "print(bin_search(l, r))"
   ]
  },
  {
   "cell_type": "code",
   "execution_count": 18,
   "metadata": {},
   "outputs": [
    {
     "name": "stdout",
     "output_type": "stream",
     "text": [
      "24\n",
      "5\n",
      "23\n",
      "21\n",
      "19\n",
      "17\n",
      "15\n",
      "13\n",
      "11\n",
      "9\n",
      "7\n",
      "5\n"
     ]
    }
   ],
   "source": [
    "m = int(input())\n",
    "n = int(input())\n",
    "\n",
    "if m % 2 == 0:\n",
    "    m = m - 1\n",
    "    \n",
    "for i in range(m, n -1, -2):\n",
    "    print(i)"
   ]
  },
  {
   "cell_type": "code",
   "execution_count": 19,
   "metadata": {},
   "outputs": [
    {
     "name": "stdout",
     "output_type": "stream",
     "text": [
      "1213312\n",
      "NO\n"
     ]
    }
   ],
   "source": [
    "n = int(input())\n",
    "\n",
    "a = n % 10\n",
    "\n",
    "ans = 'YES'\n",
    "while n > 0:\n",
    "    if n % 10 != a:\n",
    "        ans = 'NO'\n",
    "        break\n",
    "    n //= 10\n",
    "        \n",
    "print(ans)\n",
    "    "
   ]
  },
  {
   "cell_type": "code",
   "execution_count": 21,
   "metadata": {},
   "outputs": [
    {
     "name": "stdout",
     "output_type": "stream",
     "text": [
      "564321\n",
      "NO\n"
     ]
    }
   ],
   "source": [
    "n = int(input())\n",
    "\n",
    "ans = 'YES'\n",
    "a = n % 10\n",
    "n //= 10\n",
    "while n > 0:\n",
    "    if n % 10 < a:\n",
    "        ans = 'NO'\n",
    "        break\n",
    "    a = n % 10\n",
    "    n = n // 10\n",
    "print(ans)"
   ]
  },
  {
   "cell_type": "code",
   "execution_count": null,
   "metadata": {},
   "outputs": [],
   "source": [
    "n = 25\n",
    "\n",
    "for i in range(1, 26):\n",
    "    if n % i == 0:\n",
    "        print(i)\n",
    "        break\n",
    "    "
   ]
  }
 ],
 "metadata": {
  "kernelspec": {
   "display_name": "Python 3",
   "language": "python",
   "name": "python3"
  },
  "language_info": {
   "codemirror_mode": {
    "name": "ipython",
    "version": 3
   },
   "file_extension": ".py",
   "mimetype": "text/x-python",
   "name": "python",
   "nbconvert_exporter": "python",
   "pygments_lexer": "ipython3",
   "version": "3.7.2"
  }
 },
 "nbformat": 4,
 "nbformat_minor": 2
}
