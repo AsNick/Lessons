{
 "cells": [
  {
   "cell_type": "code",
   "execution_count": null,
   "metadata": {},
   "outputs": [],
   "source": [
    "print()"
   ]
  },
  {
   "cell_type": "code",
   "execution_count": 7,
   "metadata": {},
   "outputs": [
    {
     "name": "stdout",
     "output_type": "stream",
     "text": [
      "5\n",
      "6\n",
      "8\n",
      "-1\n",
      "0.6666666666666666\n",
      "0\n",
      "2\n"
     ]
    }
   ],
   "source": [
    "print( 2 + 3)\n",
    "print(2 * 3)\n",
    "print( 2 ** 3)\n",
    "print(2 - 3)\n",
    "print(2 / 3)\n",
    "print(2 // 3)\n",
    "print(2 % 3)"
   ]
  },
  {
   "cell_type": "code",
   "execution_count": 13,
   "metadata": {},
   "outputs": [
    {
     "name": "stdout",
     "output_type": "stream",
     "text": [
      "25 15\n"
     ]
    },
    {
     "ename": "ValueError",
     "evalue": "invalid literal for int() with base 10: '25 15'",
     "output_type": "error",
     "traceback": [
      "\u001b[0;31m---------------------------------------------------------------------------\u001b[0m",
      "\u001b[0;31mValueError\u001b[0m                                Traceback (most recent call last)",
      "\u001b[0;32m<ipython-input-13-606f8f5a0e84>\u001b[0m in \u001b[0;36m<module>\u001b[0;34m\u001b[0m\n\u001b[0;32m----> 1\u001b[0;31m \u001b[0ma\u001b[0m \u001b[0;34m=\u001b[0m \u001b[0mint\u001b[0m\u001b[0;34m(\u001b[0m\u001b[0minput\u001b[0m\u001b[0;34m(\u001b[0m\u001b[0;34m)\u001b[0m\u001b[0;34m)\u001b[0m\u001b[0;34m\u001b[0m\u001b[0;34m\u001b[0m\u001b[0m\n\u001b[0m\u001b[1;32m      2\u001b[0m \u001b[0mb\u001b[0m \u001b[0;34m=\u001b[0m \u001b[0mint\u001b[0m\u001b[0;34m(\u001b[0m\u001b[0minput\u001b[0m\u001b[0;34m(\u001b[0m\u001b[0;34m)\u001b[0m\u001b[0;34m)\u001b[0m\u001b[0;34m\u001b[0m\u001b[0;34m\u001b[0m\u001b[0m\n\u001b[1;32m      3\u001b[0m \u001b[0mprint\u001b[0m\u001b[0;34m(\u001b[0m\u001b[0ma\u001b[0m \u001b[0;34m+\u001b[0m \u001b[0mb\u001b[0m\u001b[0;34m)\u001b[0m\u001b[0;34m\u001b[0m\u001b[0;34m\u001b[0m\u001b[0m\n",
      "\u001b[0;31mValueError\u001b[0m: invalid literal for int() with base 10: '25 15'"
     ]
    }
   ],
   "source": [
    "a = int(input())\n",
    "b = int(input())\n",
    "print(a + b)"
   ]
  },
  {
   "cell_type": "code",
   "execution_count": 18,
   "metadata": {},
   "outputs": [
    {
     "name": "stdout",
     "output_type": "stream",
     "text": [
      "25 15\n",
      "40\n"
     ]
    }
   ],
   "source": [
    "a, b = map(int, input().split())\n",
    "print(a + b)\n"
   ]
  },
  {
   "cell_type": "code",
   "execution_count": 26,
   "metadata": {},
   "outputs": [
    {
     "name": "stdout",
     "output_type": "stream",
     "text": [
      "123\n",
      "*****\n",
      "*123*\n",
      "*****\n"
     ]
    }
   ],
   "source": [
    "a = input()\n",
    "print('*' * 5)\n",
    "print('*' + a + '*')\n",
    "print('*****')"
   ]
  },
  {
   "cell_type": "code",
   "execution_count": 25,
   "metadata": {},
   "outputs": [
    {
     "name": "stdout",
     "output_type": "stream",
     "text": [
      "retyufhdgh\n",
      "fdghjkhgfdsghjkhgfd\n",
      "retyufhdghfdghjkhgfdsghjkhgfd\n",
      "retyufhdghretyufhdghretyufhdghretyufhdghretyufhdghretyufhdghretyufhdghretyufhdghretyufhdghretyufhdghretyufhdghretyufhdghretyufhdghretyufhdghretyufhdghretyufhdghretyufhdghretyufhdghretyufhdghretyufhdgh\n"
     ]
    }
   ],
   "source": [
    "c = input()\n",
    "d = input()\n",
    "print(c + d)\n",
    "print(c * 20)"
   ]
  },
  {
   "cell_type": "code",
   "execution_count": 27,
   "metadata": {},
   "outputs": [
    {
     "name": "stdout",
     "output_type": "stream",
     "text": [
      "5\n",
      "P204BT\n",
      "Yes\n",
      "X182YZ\n",
      "No\n",
      "a216bc\n",
      "No\n",
      "A216BC\n",
      "Yes\n",
      "ABC216\n",
      "No\n"
     ]
    }
   ],
   "source": [
    "n = int(input())\n",
    "sh = 'ABCEHKMOPTXY'\n",
    "sg = '0123456789'\n",
    "for i in range(n):\n",
    "    s = input()\n",
    "    if len(s) != 6:\n",
    "        print('No')\n",
    "    elif s[0] in sh and s[-1] in sh and s[-2] in sh and s[1] in sg and s[2] in sg and s[3] in sg:\n",
    "        print('Yes')\n",
    "    else:\n",
    "        print('No')"
   ]
  },
  {
   "cell_type": "code",
   "execution_count": null,
   "metadata": {},
   "outputs": [],
   "source": [
    "b = int(input())\n",
    "while b != 0:\n",
    "    b -= 1\n",
    "    f = 0\n",
    "\n",
    "    a = str(input())\n",
    "    if len(a) != 6:\n",
    "        print('No')\n",
    "    else:\n",
    "        for i in range(6):\n",
    "            if i == 1 or i == 5 or i == 6:\n",
    "                if a[i] == 'A' or a[i] == 'B' or a[i] == 'C' or a[i] == 'E' or a[i] == 'H' or a[i] == 'K' or a[i] == 'M' or i == 'P' or i == 'O' or i == 'T' or i == 'X' or i == 'Y':\n",
    "                    f += 1\n",
    "                else:\n",
    "                    print('No')\n",
    "                    break\n",
    "                if f == 6:\n",
    "                    print('Yes')\n",
    "            else:\n",
    "                if i == '0' or i == '1' or i == '2' or i == '3' or i == '4' or i == '5' or i == '6' or i == '7' or i == '8' or i == '9':\n",
    "                    f += 1\n",
    "                else:\n",
    "                    print('No')\n",
    "                    break\n",
    "                if f == 6:\n",
    "                    print('Yes')"
   ]
  },
  {
   "cell_type": "markdown",
   "metadata": {},
   "source": [
    "x  - столько журавликов сделал Петя\n",
    "x  - столько журавликов сделал Сережа\n",
    "(x + x) * 2 -  Катя\n",
    "a = int(input())\n",
    "\n",
    "x + x + 2 * (x + x) = a\n",
    "2 * x + 2 * 2 * x = a\n",
    "2 * x + 4 * x = a\n",
    "6 * x = a\n",
    "x = a // 6\n",
    "\n",
    "7\n",
    "111\n",
    "\n",
    "0  1  2     3      4    5      6     7      8\n",
    "0  1  10    11    100   101   110    111    1000\n",
    "\n"
   ]
  },
  {
   "cell_type": "code",
   "execution_count": null,
   "metadata": {},
   "outputs": [],
   "source": [
    "a = ['G', 'C', 'V']\n",
    "n = int(input())\n",
    "for i in range(n):\n",
    "    a[1], a[2] = a[2], a[1]\n",
    "    a[0], a[1] = a[1], a[2]\n",
    "print(a[0], a[1], a[2])\n"
   ]
  },
  {
   "cell_type": "code",
   "execution_count": 30,
   "metadata": {
    "scrolled": true
   },
   "outputs": [
    {
     "name": "stdout",
     "output_type": "stream",
     "text": [
      "4\n",
      "1\n",
      ">\n"
     ]
    }
   ],
   "source": [
    "a = int(input())\n",
    "b = int(input())\n",
    "\n",
    "if a < b:\n",
    "    print('<')\n",
    "if a == b:\n",
    "    print('=')\n",
    "if a > b:\n",
    "    print('>')"
   ]
  },
  {
   "cell_type": "code",
   "execution_count": 33,
   "metadata": {},
   "outputs": [
    {
     "name": "stdout",
     "output_type": "stream",
     "text": [
      "2\n",
      "2\n",
      "=\n"
     ]
    }
   ],
   "source": [
    "a = int(input())\n",
    "b = int(input())\n",
    "\n",
    "if a < b:\n",
    "    print('<')\n",
    "elif a == b:\n",
    "    print('=')\n",
    "else:\n",
    "    print('>')"
   ]
  },
  {
   "cell_type": "code",
   "execution_count": 38,
   "metadata": {},
   "outputs": [
    {
     "name": "stdout",
     "output_type": "stream",
     "text": [
      "000345\n",
      "345\n",
      "NO\n"
     ]
    }
   ],
   "source": [
    "a = int(input())\n",
    "\n",
    "x1 = a % 10\n",
    "x2 = a // 10 % 10\n",
    "x3 = a // 100 % 10\n",
    "x4 = a // 1000 % 10\n",
    "x5 = a // 10000 % 10\n",
    "x6 = a // 100000 % 10\n",
    "\n",
    "s1 = x1 + x2 + x3\n",
    "s2 = x4 + x5 + x6\n",
    "\n",
    "if s1 == s2:\n",
    "    print('YES')\n",
    "else:\n",
    "    print('NO')\n",
    "    \n"
   ]
  },
  {
   "cell_type": "code",
   "execution_count": 39,
   "metadata": {},
   "outputs": [
    {
     "data": {
      "text/plain": [
       "1.5"
      ]
     },
     "execution_count": 39,
     "metadata": {},
     "output_type": "execute_result"
    }
   ],
   "source": [
    "3 / 2"
   ]
  },
  {
   "cell_type": "code",
   "execution_count": 40,
   "metadata": {},
   "outputs": [
    {
     "data": {
      "text/plain": [
       "1"
      ]
     },
     "execution_count": 40,
     "metadata": {},
     "output_type": "execute_result"
    }
   ],
   "source": [
    "3 // 2"
   ]
  },
  {
   "cell_type": "code",
   "execution_count": null,
   "metadata": {},
   "outputs": [],
   "source": [
    "a = int(input())\n",
    "\n",
    "if a % 400 == 0:\n",
    "    print('YES')\n",
    "elif a % 4 == 0 and a % 100 != 0:\n",
    "    print('YES')\n",
    "else:\n",
    "    print('NO')"
   ]
  },
  {
   "cell_type": "code",
   "execution_count": 41,
   "metadata": {},
   "outputs": [
    {
     "name": "stdout",
     "output_type": "stream",
     "text": [
      "1900\n",
      "NO\n"
     ]
    }
   ],
   "source": [
    "a = int(input())\n",
    "\n",
    "if a % 400 == 0:\n",
    "    print('YES')\n",
    "elif a % 4 == 0:\n",
    "    if a % 100 != 0:\n",
    "        print('YES')\n",
    "    else:\n",
    "        print('NO')\n",
    "else:\n",
    "    print('NO')"
   ]
  },
  {
   "cell_type": "markdown",
   "metadata": {},
   "source": [
    "ш л к     я г c\n",
    "\n",
    "3 * 3 = 9\n",
    "(ш я) (ш г) (ш с) (л я) (л г) (л с) (к я) (к г) (к с)\n"
   ]
  }
 ],
 "metadata": {
  "kernelspec": {
   "display_name": "Python 3",
   "language": "python",
   "name": "python3"
  },
  "language_info": {
   "codemirror_mode": {
    "name": "ipython",
    "version": 3
   },
   "file_extension": ".py",
   "mimetype": "text/x-python",
   "name": "python",
   "nbconvert_exporter": "python",
   "pygments_lexer": "ipython3",
   "version": "3.7.2"
  }
 },
 "nbformat": 4,
 "nbformat_minor": 2
}
