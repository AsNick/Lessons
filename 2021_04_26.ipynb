{
 "cells": [
  {
   "cell_type": "code",
   "execution_count": 1,
   "metadata": {},
   "outputs": [],
   "source": [
    "def sift_up(arr, i):\n",
    "    while i != 0 and arr[i] > arr[(i - 1) // 2]:\n",
    "        arr[i], arr[(i - 1) // 2] = arr[(i - 1) // 2], arr[i]\n",
    "        i = (i - 1) // 2"
   ]
  },
  {
   "cell_type": "code",
   "execution_count": 2,
   "metadata": {},
   "outputs": [],
   "source": [
    "def sift_down(arr, i):\n",
    "    while True:\n",
    "        j = i\n",
    "        if 2 * i + 1 < len(arr) and arr[2 * i + 1] > arr[i]:\n",
    "            j = 2 * i + 1\n",
    "        if 2 * i + 2 < len(arr) and arr[2 * i + 2] > arr[j]:\n",
    "            j = 2 * i + 2\n",
    "        if i != j:\n",
    "            arr[i], arr[j] = arr[j], arr[i]\n",
    "            i = j\n",
    "        else:\n",
    "            break"
   ]
  },
  {
   "cell_type": "code",
   "execution_count": 3,
   "metadata": {},
   "outputs": [],
   "source": [
    "def insert(arr, x):\n",
    "    arr.append(x)\n",
    "    sift_up(arr, len(arr) - 1)"
   ]
  },
  {
   "cell_type": "code",
   "execution_count": 4,
   "metadata": {},
   "outputs": [],
   "source": [
    "def extract_max(arr):\n",
    "    ans = arr[0]\n",
    "    arr[0], arr[-1] = arr[-1], arr[0]\n",
    "    arr.pop()\n",
    "    sift_down(arr, 0)\n",
    "    print(ans)"
   ]
  },
  {
   "cell_type": "code",
   "execution_count": null,
   "metadata": {},
   "outputs": [],
   "source": []
  }
 ],
 "metadata": {
  "kernelspec": {
   "display_name": "Python 3",
   "language": "python",
   "name": "python3"
  },
  "language_info": {
   "codemirror_mode": {
    "name": "ipython",
    "version": 3
   },
   "file_extension": ".py",
   "mimetype": "text/x-python",
   "name": "python",
   "nbconvert_exporter": "python",
   "pygments_lexer": "ipython3",
   "version": "3.7.2"
  }
 },
 "nbformat": 4,
 "nbformat_minor": 2
}
