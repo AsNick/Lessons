{
 "cells": [
  {
   "cell_type": "markdown",
   "metadata": {},
   "source": [
    "Олимпиадное, спортивное, алгоритмическое программирование.  \n",
    "Оптимальный алгоритм, критерии. \n",
    "Вычислительная сложность алгоритма, O() нотация  \n",
    "Оценка памяти"
   ]
  },
  {
   "cell_type": "markdown",
   "metadata": {},
   "source": [
    "Считывание данных и вывод на печать\n",
    "Арифметические операции  \n",
    "Логические операции  \n",
    "Условный оператор  \n",
    "Цикл for и while  \n",
    "Одномерные массивы (списки, вектора)  \n",
    "Двумерные массивы  \n",
    "Функции  \n",
    "Рекурсия\n"
   ]
  }
 ],
 "metadata": {
  "kernelspec": {
   "display_name": "Python 3",
   "language": "python",
   "name": "python3"
  },
  "language_info": {
   "codemirror_mode": {
    "name": "ipython",
    "version": 3
   },
   "file_extension": ".py",
   "mimetype": "text/x-python",
   "name": "python",
   "nbconvert_exporter": "python",
   "pygments_lexer": "ipython3",
   "version": "3.7.2"
  }
 },
 "nbformat": 4,
 "nbformat_minor": 2
}
