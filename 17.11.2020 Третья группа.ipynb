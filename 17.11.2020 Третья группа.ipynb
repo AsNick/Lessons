{
 "cells": [
  {
   "cell_type": "code",
   "execution_count": 8,
   "metadata": {},
   "outputs": [
    {
     "name": "stdout",
     "output_type": "stream",
     "text": [
      "1000\n",
      "500500\n"
     ]
    }
   ],
   "source": [
    "n = int(input())\n",
    "a = 0\n",
    "if n > 0:\n",
    "    for i in range(1, n + 1):\n",
    "        a += i\n",
    "else:\n",
    "    for i in range(n, 1 + 1):\n",
    "        a += i\n",
    "    \n",
    "print(a)"
   ]
  },
  {
   "cell_type": "markdown",
   "metadata": {},
   "source": [
    "1 2 3 4 5 6 7 8 9 10 ... N\n",
    "\n",
    "11 + 11 + 11 + 11 + 11 = 5 * 11 = 55\n",
    "\n",
    "\n",
    "(1 + N) * N // 2\n",
    "N = 1000\n",
    "1001 * 500 = 500500"
   ]
  }
 ],
 "metadata": {
  "kernelspec": {
   "display_name": "Python 3",
   "language": "python",
   "name": "python3"
  },
  "language_info": {
   "codemirror_mode": {
    "name": "ipython",
    "version": 3
   },
   "file_extension": ".py",
   "mimetype": "text/x-python",
   "name": "python",
   "nbconvert_exporter": "python",
   "pygments_lexer": "ipython3",
   "version": "3.7.2"
  }
 },
 "nbformat": 4,
 "nbformat_minor": 2
}
