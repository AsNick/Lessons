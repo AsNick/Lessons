{
 "cells": [
  {
   "cell_type": "code",
   "execution_count": 3,
   "metadata": {},
   "outputs": [
    {
     "name": "stdout",
     "output_type": "stream",
     "text": [
      "5\n",
      "1+\n",
      "2++\n",
      "3++\n",
      "4+++\n",
      "5++\n"
     ]
    }
   ],
   "source": [
    "def f(x):\n",
    "    ans = 0\n",
    "    for i in range(1, x + 1):\n",
    "        if x % i == 0:\n",
    "            ans += 1\n",
    "    return ans\n",
    "\n",
    "\n",
    "\n",
    "n = int(input())\n",
    "\n",
    "for i in range(1, n + 1):\n",
    "    print(i, '+' * f(i), sep='')"
   ]
  },
  {
   "cell_type": "markdown",
   "metadata": {},
   "source": [
    "print(((7 - 6.35) / 6.5 + 9.9) / ((1.2 / 36 + 1.2 / 0.25 - 21 / 16) / (169 / 24)))"
   ]
  },
  {
   "cell_type": "code",
   "execution_count": null,
   "metadata": {},
   "outputs": [],
   "source": [
    "x + y + z = 100\n",
    "10 * x + 5 * y + 0.5 * z = 100\n"
   ]
  },
  {
   "cell_type": "code",
   "execution_count": 1,
   "metadata": {},
   "outputs": [
    {
     "name": "stdout",
     "output_type": "stream",
     "text": [
      "1 9 90\n"
     ]
    }
   ],
   "source": [
    "for x in range(0, 101):\n",
    "    for y in range(0, 101):\n",
    "        for z in range(0, 101):\n",
    "            if x + y + z == 100 and 10 * x + 5 * y + 0.5 * z == 100:\n",
    "                print(x, y, z)\n",
    "                "
   ]
  },
  {
   "cell_type": "code",
   "execution_count": 6,
   "metadata": {},
   "outputs": [
    {
     "name": "stdout",
     "output_type": "stream",
     "text": [
      "3689\n",
      "8\n"
     ]
    }
   ],
   "source": [
    "n = int(input())\n",
    "\n",
    "while n > 10:\n",
    "    a = 0\n",
    "    while n != 0:\n",
    "        a += n % 10\n",
    "        n //= 10\n",
    "    n = a\n",
    "    \n",
    "print(n)"
   ]
  },
  {
   "cell_type": "code",
   "execution_count": 9,
   "metadata": {},
   "outputs": [
    {
     "name": "stdout",
     "output_type": "stream",
     "text": [
      "3\n",
      "9\n"
     ]
    }
   ],
   "source": [
    "n = int(input())\n",
    "s = 0\n",
    "f = 1\n",
    "\n",
    "for i in range(1, n + 1):\n",
    "    f = f * i\n",
    "    s += f\n",
    "print(s)"
   ]
  },
  {
   "cell_type": "code",
   "execution_count": 10,
   "metadata": {},
   "outputs": [
    {
     "name": "stdout",
     "output_type": "stream",
     "text": [
      "3\n",
      "9\n"
     ]
    }
   ],
   "source": [
    "n = int(input())\n",
    "s = 0\n",
    "f = 1\n",
    "for i in range(1, n + 1):\n",
    "    f = f * i\n",
    "    s += f\n",
    "print(s)"
   ]
  },
  {
   "cell_type": "code",
   "execution_count": null,
   "metadata": {},
   "outputs": [],
   "source": [
    "s = 0\n",
    "for i in range(10):\n",
    "    s += int(input())\n",
    "print(s)"
   ]
  },
  {
   "cell_type": "code",
   "execution_count": 26,
   "metadata": {},
   "outputs": [
    {
     "name": "stdout",
     "output_type": "stream",
     "text": [
      "1 100000000 2 50000000 4 25000000 5 20000000 8 12500000 10 10000000 16 6250000 20 5000000 25 4000000 32 3125000 40 2500000 50 2000000 64 1562500 80 1250000 100 1000000 125 800000 128 781250 160 625000 200 500000 250 400000 256 390625 320 312500 400 250000 500 200000 625 160000 640 156250 800 125000 1000 100000 1250 80000 1280 78125 1600 62500 2000 50000 2500 40000 3125 32000 3200 31250 4000 25000 5000 20000 6250 16000 6400 15625 8000 12500 10000 \n",
      "81\n"
     ]
    }
   ],
   "source": [
    "n = 100000000\n",
    "k = 0\n",
    "s = 0\n",
    "for i in range(1, int(n ** .5) + 1):\n",
    "    if n % i == 0:\n",
    "        k += 1\n",
    "        s += i\n",
    "        print(i, end=' ')\n",
    "        x = n // i\n",
    "        if x != i:\n",
    "            k += 1\n",
    "            s += x\n",
    "            print(x, end=' ')\n",
    "print()\n",
    "print(k)"
   ]
  },
  {
   "cell_type": "code",
   "execution_count": 27,
   "metadata": {},
   "outputs": [
    {
     "name": "stdout",
     "output_type": "stream",
     "text": [
      "10000.0\n"
     ]
    }
   ],
   "source": [
    "print(100000000 ** .5)"
   ]
  },
  {
   "cell_type": "code",
   "execution_count": 30,
   "metadata": {},
   "outputs": [
    {
     "name": "stdout",
     "output_type": "stream",
     "text": [
      "1\n",
      "2\n",
      "3\n",
      "4\n",
      "5\n",
      "Наименьшее число = 1\n",
      "Наибольшее число = 5\n"
     ]
    }
   ],
   "source": [
    "mn = 1000000000\n",
    "mx = -1000000000\n",
    "\n",
    "for i in range(5):\n",
    "    a = int(input())\n",
    "    if a < mn:\n",
    "        mn = a\n",
    "    if a > mx:\n",
    "        mx = a\n",
    "        \n",
    "print(f'Наименьшее число = {mn}')\n",
    "print(f'Наибольшее число = {mx}')"
   ]
  },
  {
   "cell_type": "code",
   "execution_count": 34,
   "metadata": {},
   "outputs": [
    {
     "name": "stdout",
     "output_type": "stream",
     "text": [
      "123\n",
      "1 2 3\n",
      "3 2 1\n"
     ]
    }
   ],
   "source": [
    "a = int(input())\n",
    "a1 = a // 100\n",
    "b1 = a // 10 % 10\n",
    "c1 = a % 10\n",
    "print(a1, b1, c1)\n",
    "if a1 < b1:\n",
    "    a1, b1 = b1, a1\n",
    "if a1 < c1:\n",
    "    a1, c1 = c1, a1\n",
    "if b1 < c1:\n",
    "    b1, c1 = c1, b1\n",
    "    \n",
    "print(a1, b1, c1)\n",
    "\n",
    "if a1 - c1 == b1:\n",
    "    print('Число интересное')\n",
    "else:\n",
    "    print('Число неинтересное')\n"
   ]
  },
  {
   "cell_type": "code",
   "execution_count": null,
   "metadata": {},
   "outputs": [],
   "source": []
  }
 ],
 "metadata": {
  "kernelspec": {
   "display_name": "Python 3",
   "language": "python",
   "name": "python3"
  },
  "language_info": {
   "codemirror_mode": {
    "name": "ipython",
    "version": 3
   },
   "file_extension": ".py",
   "mimetype": "text/x-python",
   "name": "python",
   "nbconvert_exporter": "python",
   "pygments_lexer": "ipython3",
   "version": "3.7.2"
  }
 },
 "nbformat": 4,
 "nbformat_minor": 2
}
