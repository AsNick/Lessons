{
 "cells": [
  {
   "cell_type": "code",
   "execution_count": 4,
   "metadata": {},
   "outputs": [
    {
     "name": "stdout",
     "output_type": "stream",
     "text": [
      "1992\n",
      "198005\n"
     ]
    }
   ],
   "source": [
    "n = int(input())\n",
    "\n",
    "s = 0\n",
    "for i in range(1, n + 1):\n",
    "    if (i * i) % 10 == 2 or (i * i) % 10 == 5 or (i * i) % 10 == 8:\n",
    "        s += i\n",
    "    \n",
    "print(s)"
   ]
  },
  {
   "cell_type": "code",
   "execution_count": null,
   "metadata": {},
   "outputs": [],
   "source": [
    "def quick_merge(list1, list2):\n",
    "    result = []\n",
    "\n",
    "    p1 = 0  # указатель на первый элемент списка list1\n",
    "    p2 = 0  # указатель на первый элемент списка list2\n",
    "\n",
    "    while p1 < len(list1) and p2 < len(list2):  # пока не закончился хотя бы один список\n",
    "        if list1[p1] <= list2[p2]:\n",
    "            result.append(list1[p1])\n",
    "            p1 += 1\n",
    "        else:\n",
    "            result.append(list2[p2])\n",
    "            p2 += 1\n",
    "\n",
    "    if p1 < len(list1):   # прицепление остатка\n",
    "        result += list1[p1:]\n",
    "    if p2 < len(list2):\n",
    "        result += list2[p2:]\n",
    "    \n",
    "    return result\n",
    "\n",
    "\n",
    "n = int(input())\n",
    "list1 = list(map(int, input().split()))\n",
    "\n",
    "for i in range(1, n):\n",
    "    list2 = list(map(int, input().split()))\n",
    "    list1 = quick_merge(list1, list2)\n",
    "\n",
    "print(list1)"
   ]
  },
  {
   "cell_type": "markdown",
   "metadata": {},
   "source": [
    "1 + 2 + 3 + 4 + 5 + 6 + 7 + 8 + 9 + 10 = 55"
   ]
  },
  {
   "cell_type": "code",
   "execution_count": null,
   "metadata": {},
   "outputs": [],
   "source": [
    "0! = 1\n",
    "1! = 1\n",
    "2! = 1 * 2 = 2\n",
    "3! = 1 * 2 * 3 = 6\n",
    "4! = 1 * 2 * 3 * 4 = 24\n",
    "\n",
    "n! = n * (n - 1)!"
   ]
  },
  {
   "cell_type": "code",
   "execution_count": 8,
   "metadata": {},
   "outputs": [
    {
     "name": "stdout",
     "output_type": "stream",
     "text": [
      "100\n",
      "93326215443944152681699238856266700490715968264381621468592963895217599993229915608941463976156518286253697920827223758251185210916864000000000000000000000000\n"
     ]
    }
   ],
   "source": [
    "n = int(input())\n",
    "ans = 1\n",
    "for i in range(1, n + 1):\n",
    "    ans *= i\n",
    "    \n",
    "print(ans)"
   ]
  },
  {
   "cell_type": "code",
   "execution_count": null,
   "metadata": {},
   "outputs": [],
   "source": [
    "def f(a, b, c):\n",
    "    if a + b > c:\n",
    "        return True    \n",
    "    return False\n",
    "\n",
    "\n",
    "a, b, c = sorted(map(int, input().split()))\n"
   ]
  },
  {
   "cell_type": "code",
   "execution_count": 12,
   "metadata": {},
   "outputs": [
    {
     "name": "stdout",
     "output_type": "stream",
     "text": [
      "54321\n",
      "YES\n"
     ]
    }
   ],
   "source": [
    "n = int(input())\n",
    "flag = True\n",
    "while n > 10:  \n",
    "    last_digit1 = n % 10  \n",
    "    n = n // 10  \n",
    "    last_digit2 = n % 10   \n",
    "    if last_digit2 < last_digit1:\n",
    "        flag = False\n",
    "        break\n",
    "\n",
    "        \n",
    "if flag == True:\n",
    "    print('YES')\n",
    "else:\n",
    "    print('NO')\n"
   ]
  },
  {
   "cell_type": "code",
   "execution_count": 15,
   "metadata": {},
   "outputs": [
    {
     "name": "stdout",
     "output_type": "stream",
     "text": [
      "12\n",
      "2\n"
     ]
    }
   ],
   "source": [
    "n = int(input())\n",
    "    \n",
    "for d in range(2, n + 1):\n",
    "    if n % d == 0:\n",
    "        print(d)\n",
    "        break"
   ]
  },
  {
   "cell_type": "code",
   "execution_count": 23,
   "metadata": {},
   "outputs": [
    {
     "name": "stdout",
     "output_type": "stream",
     "text": [
      "True\n"
     ]
    }
   ],
   "source": [
    "s = 'rt'\n",
    "print(s.isalnum())\n"
   ]
  },
  {
   "cell_type": "code",
   "execution_count": null,
   "metadata": {},
   "outputs": [],
   "source": [
    "s = input()\n",
    "ts = 0\n",
    "for i in s: \n",
    "    if i.isdigit():\n",
    "        ts += 1\n",
    "        break\n",
    "if ts > 0:\n",
    "    print('Цифра')\n",
    "else:\n",
    "    print('Цифр нет')"
   ]
  }
 ],
 "metadata": {
  "kernelspec": {
   "display_name": "Python 3",
   "language": "python",
   "name": "python3"
  },
  "language_info": {
   "codemirror_mode": {
    "name": "ipython",
    "version": 3
   },
   "file_extension": ".py",
   "mimetype": "text/x-python",
   "name": "python",
   "nbconvert_exporter": "python",
   "pygments_lexer": "ipython3",
   "version": "3.7.2"
  }
 },
 "nbformat": 4,
 "nbformat_minor": 2
}
