{
 "cells": [
  {
   "cell_type": "markdown",
   "metadata": {},
   "source": [
    "#### 1. Дерево отрезков для суммы."
   ]
  },
  {
   "cell_type": "code",
   "execution_count": null,
   "metadata": {},
   "outputs": [],
   "source": [
    "def build_sum(v, l, r):\n",
    "    if l == r:\n",
    "        tree_sum[v] = a[l]\n",
    "    else:\n",
    "        mid = (l + r) // 2\n",
    "        build(2 * v, l, mid)\n",
    "        build(2 * v + 1, mid + 1, r)\n",
    "        tree_sum[v] = tree_sum[2 * v] + tree_sum[2 * v + 1]\n"
   ]
  },
  {
   "cell_type": "code",
   "execution_count": null,
   "metadata": {},
   "outputs": [],
   "source": [
    "def update_sum(v, l, r, pos, x):\n",
    "    if l == r:\n",
    "        tree_sum[v] = x\n",
    "    else:\n",
    "        mid = (l + r) // 2\n",
    "        if pos <= mid:\n",
    "            update(2 * v, l, mid, pos, x)\n",
    "        else:\n",
    "            update(2 * v + 1, mid + 1, r, pos, x)\n",
    "        tree_sum[v] = tree_sum[2 * v] + tree_sum[2 * v + 1]"
   ]
  },
  {
   "cell_type": "code",
   "execution_count": null,
   "metadata": {},
   "outputs": [],
   "source": [
    "def get_sum(v, tl, tr, l, r):\n",
    "    if tl == l and tr == r:\n",
    "        return tree_sum[v]\n",
    "    mid = (tl + tr) // 2\n",
    "    if tl <= l <= r <= mid:\n",
    "        return get_sum(2 * v, tl, mid, l, min(r, mid))\n",
    "    elif mid + 1 <= l <= r <= tr:\n",
    "        return get_sum(2 * v + 1, mid + 1, tr, max(l, mid + 1), r)\n",
    "    else:\n",
    "        return get_sum(2 * v, tl, mid, l, min(r, mid)) + get_sum(2 * v + 1, mid + 1, tr, max(l, mid + 1), r)"
   ]
  },
  {
   "cell_type": "markdown",
   "metadata": {},
   "source": [
    "#### 2. Дерево отрезков для минимума."
   ]
  },
  {
   "cell_type": "code",
   "execution_count": null,
   "metadata": {},
   "outputs": [],
   "source": [
    "def build_min(v, l, r):\n",
    "    if l == r:\n",
    "        tree_min[v] = a[l]\n",
    "    else:\n",
    "        mid = (l + r) // 2\n",
    "        build(2 * v, l, mid)\n",
    "        build(2 * v + 1, mid + 1, r)\n",
    "        tree_min[v] = min(tree_min[2 * v], tree_min[2 * v + 1])"
   ]
  },
  {
   "cell_type": "code",
   "execution_count": null,
   "metadata": {},
   "outputs": [],
   "source": [
    "def update_min(v, l, r, pos, x):\n",
    "    if l == r:\n",
    "        tree_min[v] = x\n",
    "    else:\n",
    "        mid = (l + r) // 2\n",
    "        if pos <= mid:\n",
    "            update(2 * v, l, mid, pos, x)\n",
    "        else:\n",
    "            update(2 * v + 1, mid + 1, r, pos, x)\n",
    "        tree_min[v] = min(tree_min[2 * v], tree_min[2 * v + 1])"
   ]
  },
  {
   "cell_type": "code",
   "execution_count": null,
   "metadata": {},
   "outputs": [],
   "source": [
    "def get_min(v, tl, tr, l, r):\n",
    "    if tl == l and tr == r:\n",
    "        return tree_min[v]\n",
    "    mid = (tl + tr) // 2\n",
    "    if tl <= l <= r <= mid:\n",
    "        return get_min(2 * v, tl, mid, l, min(r, mid))\n",
    "    elif mid + 1 <= l <= r <= tr:\n",
    "        return get_min(2 * v + 1, mid + 1, tr, max(l, mid + 1), r)\n",
    "    else:\n",
    "        return min(get_min(2 * v, tl, mid, l, min(r, mid)), get_min(2 * v + 1, mid + 1, tr, max(l, mid + 1), r))"
   ]
  },
  {
   "cell_type": "markdown",
   "metadata": {},
   "source": [
    "#### 3. Дерево отрезков для НОД."
   ]
  },
  {
   "cell_type": "code",
   "execution_count": null,
   "metadata": {},
   "outputs": [],
   "source": [
    "from math import gcd"
   ]
  },
  {
   "cell_type": "code",
   "execution_count": null,
   "metadata": {},
   "outputs": [],
   "source": [
    "def build_gcd(v, l, r):\n",
    "    if l == r:\n",
    "        tree_gcd[v] = a[l]\n",
    "    else:\n",
    "        mid = (l + r) // 2\n",
    "        build_gcd(2 * v, l, mid)\n",
    "        build_gcd(2 * v + 1, mid + 1, r)\n",
    "        tree_gcd[v] = gcd(tree_gcd[2 * v], tree_gcd[2 * v + 1])"
   ]
  },
  {
   "cell_type": "code",
   "execution_count": 1,
   "metadata": {},
   "outputs": [],
   "source": [
    "def update_gcd(v, l, r, pos, x):\n",
    "    if l == r:\n",
    "        tree_gcd[v] = x\n",
    "    else:\n",
    "        mid = (l + r) // 2\n",
    "        if pos <= mid:\n",
    "            update_gcd(2 * v, l, mid, pos, x)\n",
    "        else:\n",
    "            update_gcd(2 * v + 1, mid + 1, r, pos, x)\n",
    "        tree_gcd[v] = gcd(tree_gcd[2 * v], tree_gcd[2 * v + 1])"
   ]
  },
  {
   "cell_type": "code",
   "execution_count": null,
   "metadata": {},
   "outputs": [],
   "source": [
    "def get_gcd(v, tl, tr, l, r):\n",
    "    if tl == l and tr == r:\n",
    "        return tree_gcd[v]\n",
    "    mid = (tl + tr) // 2\n",
    "    if tl <= l <= r <= mid:\n",
    "        return get_gcd(2 * v, tl, mid, l, min(r, mid))\n",
    "    elif mid + 1 <= l <= r <= tr:\n",
    "        return get_gcd(2 * v + 1, mid + 1, tr, max(l, mid + 1), r)\n",
    "    else:\n",
    "        return gcd(get_gcd(2 * v, tl, mid, l, min(r, mid)), get_gcd(2 * v + 1, mid + 1, tr, max(l, mid + 1), r))"
   ]
  },
  {
   "cell_type": "markdown",
   "metadata": {},
   "source": [
    "#### 4. Дерево отрезков для минимума с подсчетом соличества минимальных элементов на отрезке."
   ]
  },
  {
   "cell_type": "code",
   "execution_count": null,
   "metadata": {},
   "outputs": [],
   "source": [
    "def build(v, l, r):\n",
    "    if l == r:\n",
    "        tree_min[v] = [a[l], 1]\n",
    "    else:\n",
    "        mid = (l + r) // 2\n",
    "        build(2 * v, l, mid)\n",
    "        build(2 * v + 1, mid + 1, r)\n",
    "        if tree_min[2 * v][0] < tree_min[2 * v + 1][0]:\n",
    "            tree_min[v] = tree_min[2 * v]\n",
    "        elif tree_min[2 * v][0] > tree_min[2 * v + 1][0]:\n",
    "            tree_min[v] = tree_min[2 * v + 1]\n",
    "        else:\n",
    "            tree_min[v] = [tree_min[2 * v][0], tree_min[2 * v][1] + tree_min[2 * v + 1][1]]\n",
    " "
   ]
  },
  {
   "cell_type": "code",
   "execution_count": null,
   "metadata": {},
   "outputs": [],
   "source": [
    "def update(v, l, r, pos, x):\n",
    "    if l == r:\n",
    "        tree_min[v] = [x, 1]\n",
    "    else:\n",
    "        mid = (l + r) // 2\n",
    "        if pos <= mid:\n",
    "            update(2 * v, l, mid, pos, x)\n",
    "        else:\n",
    "            update(2 * v + 1, mid + 1, r, pos, x)\n",
    " \n",
    "        if tree_min[2 * v][0] < tree_min[2 * v + 1][0]:\n",
    "            tree_min[v] = tree_min[2 * v]\n",
    "        elif tree_min[2 * v][0] > tree_min[2 * v + 1][0]:\n",
    "            tree_min[v] = tree_min[2 * v + 1]\n",
    "        else:\n",
    "            tree_min[v] = [tree_min[2 * v][0], tree_min[2 * v][1] + tree_min[2 * v + 1][1]]"
   ]
  },
  {
   "cell_type": "code",
   "execution_count": null,
   "metadata": {},
   "outputs": [],
   "source": [
    "def get_min(v, tl, tr, l, r):\n",
    "    if tl == l and tr == r:\n",
    "        return tree_min[v]\n",
    "    mid = (tl + tr) // 2\n",
    "    if tl <= l <= r <= mid:\n",
    "        return get_min(2 * v, tl, mid, l, min(r, mid))\n",
    "    elif mid + 1 <= l <= r <= tr:\n",
    "        return get_min(2 * v + 1, mid + 1, tr, max(l, mid + 1), r)\n",
    "    else:\n",
    "        x1 = get_min(2 * v, tl, mid, l, min(r, mid))\n",
    "        x2 = get_min(2 * v + 1, mid + 1, tr, max(l, mid + 1), r)\n",
    "        if x1[0] < x2[0]:\n",
    "            return x1\n",
    "        elif x1[0] > x2[0]:\n",
    "            return x2\n",
    "        else:\n",
    "            return [x1[0], x1[1] + x2[1]]"
   ]
  }
 ],
 "metadata": {
  "kernelspec": {
   "display_name": "Python 3",
   "language": "python",
   "name": "python3"
  },
  "language_info": {
   "codemirror_mode": {
    "name": "ipython",
    "version": 3
   },
   "file_extension": ".py",
   "mimetype": "text/x-python",
   "name": "python",
   "nbconvert_exporter": "python",
   "pygments_lexer": "ipython3",
   "version": "3.7.2"
  }
 },
 "nbformat": 4,
 "nbformat_minor": 2
}
