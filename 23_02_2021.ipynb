{
 "cells": [
  {
   "cell_type": "code",
   "execution_count": 13,
   "metadata": {
    "scrolled": true
   },
   "outputs": [
    {
     "name": "stdout",
     "output_type": "stream",
     "text": [
      "*\n",
      "654\n",
      "*654*\n"
     ]
    }
   ],
   "source": [
    "x = input()\n",
    "y = input()\n",
    "print(x + y + x)"
   ]
  },
  {
   "cell_type": "code",
   "execution_count": 14,
   "metadata": {},
   "outputs": [
    {
     "name": "stdout",
     "output_type": "stream",
     "text": [
      "666\n",
      "*****\n",
      "*666*\n",
      "*****\n"
     ]
    }
   ],
   "source": [
    "n = input()\n",
    "a = '*****'\n",
    "b = '*'\n",
    "\n",
    "print(a)\n",
    "print(b + n + b)\n",
    "print(a)"
   ]
  },
  {
   "cell_type": "markdown",
   "metadata": {},
   "source": [
    "1 5 10 \n",
    "25 \n",
    "\n",
    "120\n",
    "n"
   ]
  },
  {
   "cell_type": "code",
   "execution_count": 21,
   "metadata": {},
   "outputs": [
    {
     "name": "stdout",
     "output_type": "stream",
     "text": [
      "5\n",
      "1\n"
     ]
    }
   ],
   "source": [
    "n = int(input())\n",
    "\n",
    "ans = 0\n",
    "while n != 0:\n",
    "    ans += n // 25\n",
    "    n = n % 25\n",
    "    \n",
    "    ans += n // 10\n",
    "    n = n % 10\n",
    "    \n",
    "    ans += n // 5\n",
    "    n %= 5\n",
    "    \n",
    "    ans += n\n",
    "    n = 0\n",
    "    \n",
    "print(ans)"
   ]
  },
  {
   "cell_type": "code",
   "execution_count": 22,
   "metadata": {},
   "outputs": [
    {
     "name": "stdout",
     "output_type": "stream",
     "text": [
      "2\n",
      "3\n",
      "5\n"
     ]
    }
   ],
   "source": [
    "a = int(input())\n",
    "b = int(input())\n",
    "\n",
    "print(a + b)"
   ]
  },
  {
   "cell_type": "code",
   "execution_count": 28,
   "metadata": {},
   "outputs": [
    {
     "name": "stdout",
     "output_type": "stream",
     "text": [
      "1 2 3 4\n",
      "10\n"
     ]
    }
   ],
   "source": [
    "a, b, c, d = map(int, input().split())\n",
    "print(a + b + c + d)"
   ]
  },
  {
   "cell_type": "code",
   "execution_count": 32,
   "metadata": {},
   "outputs": [
    {
     "name": "stdout",
     "output_type": "stream",
     "text": [
      "5\n",
      "1\n",
      "12\n",
      "123\n",
      "1234\n",
      "12345\n"
     ]
    }
   ],
   "source": [
    "n = int(input())\n",
    "\n",
    "for i in range(1, n + 1):\n",
    "    for j in range(1, i + 1):\n",
    "        print(j, end='')\n",
    "    for \n",
    "    print()"
   ]
  },
  {
   "cell_type": "code",
   "execution_count": 36,
   "metadata": {},
   "outputs": [
    {
     "name": "stdout",
     "output_type": "stream",
     "text": [
      "3 4\n",
      "3+4=7\n"
     ]
    }
   ],
   "source": [
    "a, b = map(int, input().split())\n",
    "print(str(a) + '+' + str(b) + '=' + str(a + b))"
   ]
  },
  {
   "cell_type": "code",
   "execution_count": 42,
   "metadata": {},
   "outputs": [
    {
     "name": "stdout",
     "output_type": "stream",
     "text": [
      "3 5\n",
      "3 + 5 = 8\n"
     ]
    }
   ],
   "source": [
    "a, b = map(int, input().split())\n",
    "print(f'{a}+{b}={a + b}')"
   ]
  },
  {
   "cell_type": "code",
   "execution_count": 46,
   "metadata": {},
   "outputs": [
    {
     "name": "stdout",
     "output_type": "stream",
     "text": [
      "5678\n",
      "26\n",
      "4\n",
      "1680\n",
      "6.5\n"
     ]
    }
   ],
   "source": [
    "n = int(input())\n",
    "\n",
    "s = 0\n",
    "c = 0\n",
    "p = 1\n",
    "while n != 0:\n",
    "    s += n % 10\n",
    "    p *= n % 10\n",
    "    n //= 10\n",
    "    c += 1\n",
    "    \n",
    "print(s)\n",
    "print(c)\n",
    "print(p)\n",
    "print(s / c)\n",
    "    "
   ]
  },
  {
   "cell_type": "code",
   "execution_count": 50,
   "metadata": {},
   "outputs": [
    {
     "name": "stdout",
     "output_type": "stream",
     "text": [
      "5\n",
      "1\n",
      "121\n",
      "12321\n",
      "1234321\n",
      "123454321\n"
     ]
    }
   ],
   "source": [
    "n = int(input())\n",
    "\n",
    "for i in range(1, n + 1):\n",
    "    for j in range(1, i + 1):\n",
    "        print(j, end='')\n",
    "    for j in range(i - 1, 0, -1):\n",
    "        print(j, end='')\n",
    "    print()"
   ]
  },
  {
   "cell_type": "code",
   "execution_count": 51,
   "metadata": {},
   "outputs": [
    {
     "name": "stdout",
     "output_type": "stream",
     "text": [
      "2690\n"
     ]
    }
   ],
   "source": [
    "a = 1345\n",
    "print(a * 2)"
   ]
  },
  {
   "cell_type": "code",
   "execution_count": 52,
   "metadata": {},
   "outputs": [
    {
     "name": "stdout",
     "output_type": "stream",
     "text": [
      "13451345\n"
     ]
    }
   ],
   "source": [
    "b = str(a)\n",
    "print(b * 2)"
   ]
  },
  {
   "cell_type": "code",
   "execution_count": 53,
   "metadata": {},
   "outputs": [
    {
     "name": "stdout",
     "output_type": "stream",
     "text": [
      "4\n"
     ]
    }
   ],
   "source": [
    "print(len(b))"
   ]
  },
  {
   "cell_type": "code",
   "execution_count": 57,
   "metadata": {},
   "outputs": [
    {
     "name": "stdout",
     "output_type": "stream",
     "text": [
      "!\n"
     ]
    }
   ],
   "source": [
    "print('!' if '5' in b else '?')"
   ]
  },
  {
   "cell_type": "code",
   "execution_count": 58,
   "metadata": {},
   "outputs": [
    {
     "name": "stdout",
     "output_type": "stream",
     "text": [
      "Москва\n",
      "Санкт-Петербург\n",
      "Екатеринбург\n",
      "Москва\n",
      "Санкт-Петербург\n"
     ]
    }
   ],
   "source": [
    "a = input()\n",
    "b = input()\n",
    "c = input()\n",
    "\n",
    "if len(a) > len(b):\n",
    "    a, b = b, a\n",
    "if len(a) > len(c):\n",
    "    a, c = c, a\n",
    "if len(b) > len(c):\n",
    "    b, c = c, b\n",
    "    \n",
    "print(a)\n",
    "print(c)"
   ]
  },
  {
   "cell_type": "code",
   "execution_count": 64,
   "metadata": {},
   "outputs": [
    {
     "name": "stdout",
     "output_type": "stream",
     "text": [
      "\"Python is a great language!\", said Fred. \"I don't ever remember having this much fun before.\"\n"
     ]
    }
   ],
   "source": [
    "# \"Python is a great language!\", said Fred. \"I don't ever remember having this much fun before.\"\n",
    "a = '\"Python is a great language!\", said Fred. \"I '\n",
    "b = \"don't \"\n",
    "c = 'ever remember having this much fun before.\"'\n",
    "print(a + b + c)"
   ]
  },
  {
   "cell_type": "code",
   "execution_count": 69,
   "metadata": {},
   "outputs": [
    {
     "name": "stdout",
     "output_type": "stream",
     "text": [
      "3\n",
      "30\n",
      "9 15 17 19 29 30 "
     ]
    }
   ],
   "source": [
    "m = int(input())\n",
    "n = int(input())\n",
    "\n",
    "for i in range(m, n + 1):\n",
    "    if i % 17 == 0 or i % 10 == 9 or (i % 3 == 0 and i % 5 == 0):\n",
    "        print(i, end=' ')"
   ]
  },
  {
   "cell_type": "code",
   "execution_count": 70,
   "metadata": {},
   "outputs": [
    {
     "name": "stdout",
     "output_type": "stream",
     "text": [
      "8\n",
      " 9\n",
      " 7 \n",
      "5 \n",
      "4 \n",
      "3\n",
      "2\n",
      "78\n",
      "1\n",
      "78\n",
      "9\n"
     ]
    }
   ],
   "source": [
    "mx1 = 0\n",
    "mx2 = 0\n",
    "for i in range(int(input())):\n",
    "    x = int(input())\n",
    "    if x > mx1:\n",
    "        mx2 = mx1\n",
    "        mx1 = x\n",
    "    elif x > mx2:\n",
    "        mx2 = x\n",
    "        \n",
    "print(mx1, mx2, sep='\\n')"
   ]
  },
  {
   "cell_type": "code",
   "execution_count": 72,
   "metadata": {},
   "outputs": [
    {
     "name": "stdout",
     "output_type": "stream",
     "text": [
      "3\n",
      "1\n",
      "2\n",
      "YES\n"
     ]
    }
   ],
   "source": [
    "a = int(input())\n",
    "b = int(input())\n",
    "c = int(input())\n",
    "\n",
    "if a > b:\n",
    "    a, b = b, a\n",
    "if a > c:\n",
    "    a, c = c, a\n",
    "if b > c:\n",
    "    b, c = c, b\n",
    "    \n",
    "if b - a == c - b:\n",
    "    print('YES')\n",
    "else:\n",
    "    print('NO')\n"
   ]
  },
  {
   "cell_type": "code",
   "execution_count": 76,
   "metadata": {},
   "outputs": [
    {
     "name": "stdout",
     "output_type": "stream",
     "text": [
      "566\n",
      "NO\n"
     ]
    }
   ],
   "source": [
    "s = '456789765436'\n",
    "\n",
    "x = input()\n",
    "if x in s:\n",
    "    print('YES')\n",
    "else:\n",
    "    print('NO')"
   ]
  },
  {
   "cell_type": "code",
   "execution_count": 77,
   "metadata": {},
   "outputs": [
    {
     "name": "stdout",
     "output_type": "stream",
     "text": [
      "aaaa@bbb.com\n",
      "YES\n"
     ]
    }
   ],
   "source": [
    "s = input()\n",
    "\n",
    "if '@' in s and '.' in s:\n",
    "    print('YES')\n",
    "else:\n",
    "    print('NO')"
   ]
  },
  {
   "cell_type": "code",
   "execution_count": 98,
   "metadata": {},
   "outputs": [
    {
     "name": "stdout",
     "output_type": "stream",
     "text": [
      "250\n",
      "250 мин - это 4 час 10 минут.\n"
     ]
    }
   ],
   "source": [
    "n = int(input())\n",
    "\n",
    "h = n // 60\n",
    "m = n % 60\n",
    "\n",
    "print(f'{n} мин - это {h} час {m} минут.')"
   ]
  },
  {
   "cell_type": "code",
   "execution_count": 101,
   "metadata": {},
   "outputs": [
    {
     "name": "stdout",
     "output_type": "stream",
     "text": [
      "94\n",
      "старость\n"
     ]
    }
   ],
   "source": [
    "t = int(input())\n",
    "\n",
    "if t <= 13:\n",
    "    print('детство')\n",
    "elif 13 < t <= 24:\n",
    "    print('молодость')\n",
    "elif 24 < t <= 59:\n",
    "    print('зрелость')\n",
    "else:\n",
    "    print('старость')"
   ]
  },
  {
   "cell_type": "code",
   "execution_count": 102,
   "metadata": {},
   "outputs": [
    {
     "name": "stdout",
     "output_type": "stream",
     "text": [
      "1\n",
      "100\n",
      "20\n"
     ]
    }
   ],
   "source": [
    "a = int(input())\n",
    "b = int(input())\n",
    "\n",
    "res = 0\n",
    "for i in range(a, b + 1):\n",
    "    if i ** 3 % 10 in (4, 9):\n",
    "        res += 1\n",
    "        \n",
    "print(res)"
   ]
  },
  {
   "cell_type": "markdown",
   "metadata": {},
   "source": [
    "$a_1 = 4$  \n",
    "$d = 10$  \n",
    "\n",
    "$a_2 = a_1 + d = 14$  \n",
    "$a_3 = a_2 + d = 24$  \n",
    "$a_4 = a_3 + d = 34$"
   ]
  },
  {
   "cell_type": "code",
   "execution_count": 103,
   "metadata": {},
   "outputs": [
    {
     "name": "stdout",
     "output_type": "stream",
     "text": [
      "4 14 24 34 44 54 64 74 84 94 104 114 124 134 144 "
     ]
    }
   ],
   "source": [
    "x = 4\n",
    "d = 10\n",
    "for i in range(15):\n",
    "    print(x, end=' ')\n",
    "    x = x + d\n"
   ]
  },
  {
   "cell_type": "code",
   "execution_count": 110,
   "metadata": {},
   "outputs": [
    {
     "name": "stdout",
     "output_type": "stream",
     "text": [
      "2434\n",
      "90099\n",
      "21\n",
      "NO\n"
     ]
    }
   ],
   "source": [
    "a = input()\n",
    "b = input()\n",
    "c = input()\n",
    "\n",
    "a = len(a)\n",
    "b = len(b)\n",
    "c = len(c)\n",
    "\n",
    "if a > b:\n",
    "    a, b = b, a\n",
    "if a > c:\n",
    "    a, c = c, a\n",
    "if b > c:\n",
    "    b, c = c, b\n",
    "    \n",
    "if b - a == c - b:\n",
    "    print('YES')\n",
    "else:\n",
    "    print('NO')\n",
    "\n"
   ]
  },
  {
   "cell_type": "code",
   "execution_count": null,
   "metadata": {},
   "outputs": [],
   "source": [
    "a = int(input())"
   ]
  }
 ],
 "metadata": {
  "kernelspec": {
   "display_name": "Python 3",
   "language": "python",
   "name": "python3"
  },
  "language_info": {
   "codemirror_mode": {
    "name": "ipython",
    "version": 3
   },
   "file_extension": ".py",
   "mimetype": "text/x-python",
   "name": "python",
   "nbconvert_exporter": "python",
   "pygments_lexer": "ipython3",
   "version": "3.7.2"
  }
 },
 "nbformat": 4,
 "nbformat_minor": 2
}
