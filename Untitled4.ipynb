{
 "cells": [
  {
   "cell_type": "code",
   "execution_count": 1,
   "metadata": {},
   "outputs": [
    {
     "name": "stdout",
     "output_type": "stream",
     "text": [
      "{'a', 's', 'b'}\n"
     ]
    }
   ],
   "source": [
    "a = set('abs')\n",
    "print(a)"
   ]
  },
  {
   "cell_type": "code",
   "execution_count": 3,
   "metadata": {},
   "outputs": [
    {
     "name": "stdout",
     "output_type": "stream",
     "text": [
      "{'a', 's', 'b'}\n"
     ]
    }
   ],
   "source": [
    "b = set(['a', 'b', 's'])\n",
    "print(b)"
   ]
  },
  {
   "cell_type": "code",
   "execution_count": 5,
   "metadata": {},
   "outputs": [
    {
     "name": "stdout",
     "output_type": "stream",
     "text": [
      "{'a', 's', 'b'}\n"
     ]
    }
   ],
   "source": [
    "c = set(('a', 'b', 's'))\n",
    "print(c)"
   ]
  },
  {
   "cell_type": "code",
   "execution_count": null,
   "metadata": {},
   "outputs": [],
   "source": [
    "a, b = map(int, input().split())"
   ]
  },
  {
   "cell_type": "code",
   "execution_count": 7,
   "metadata": {},
   "outputs": [
    {
     "name": "stdout",
     "output_type": "stream",
     "text": [
      "4\n"
     ]
    }
   ],
   "source": [
    "n = 23456789076\n",
    "while n >= 1000:\n",
    "    n //= 10\n",
    "print(n % 10)\n"
   ]
  },
  {
   "cell_type": "code",
   "execution_count": 15,
   "metadata": {},
   "outputs": [
    {
     "name": "stdout",
     "output_type": "stream",
     "text": [
      "56639\n",
      "1\n",
      "1\n",
      "2\n",
      "21\n",
      "9\n",
      "1\n"
     ]
    }
   ],
   "source": [
    "n = int(input())\n",
    "\n",
    "v = n % 10\n",
    "k1 = 0\n",
    "k2 = 0\n",
    "k3 = 0\n",
    "k4 = 0\n",
    "k5 = 1\n",
    "k6 = 0\n",
    "\n",
    "while n > 0:\n",
    "    a = n % 10\n",
    "    if a == 3:\n",
    "        k1 += 1\n",
    "    if a == v:\n",
    "        k2 += 1\n",
    "    if a % 2 == 0:\n",
    "        k3 += 1\n",
    "    if a > 5:\n",
    "        k4 += a\n",
    "    if a > 7:\n",
    "        k5 *= a\n",
    "    if a == 0 or a == 5:\n",
    "        k6 += 1\n",
    "    m //= 10\n",
    "print(k1, k2, k3, k4, k5, k6, sep='\\n')"
   ]
  },
  {
   "cell_type": "code",
   "execution_count": 20,
   "metadata": {},
   "outputs": [
    {
     "name": "stdout",
     "output_type": "stream",
     "text": [
      "5\n",
      "1 \n",
      "2 3 \n",
      "4 5 6 \n",
      "7 8 9 10 \n",
      "11 12 13 14 15 \n"
     ]
    }
   ],
   "source": [
    "n = int(input())\n",
    "k = 1\n",
    "for i in range(1, n + 1):\n",
    "    for j in range(i):\n",
    "        print(k, end=' ')\n",
    "        k += 1\n",
    "    print()\n",
    "    "
   ]
  },
  {
   "cell_type": "markdown",
   "metadata": {},
   "source": [
    "a1, a2, a3, a4, ...\n",
    "\n",
    "a1 = 3\n",
    "d = 2\n",
    "\n",
    "a2 = a1 + d = 3 + 2 = 5\n",
    "a3 = a2 + d = 5 + 2 = 7\n",
    "a4 = a3 + d = 7 + 2 = 9\n",
    "a5 = a4 + d = 9 + 2 = 11\n",
    "\n",
    "\n",
    "b1, b2, b3, b4, ...\n",
    "\n",
    "b1 = 3\n",
    "p = 2\n",
    "\n",
    "b2 = b1 * p = b1 * p ^ (2 - 1)\n",
    "b3 = b1 * p * p = b1 * p ^ (3 - 1)\n",
    "b4 = b1 * p * p * p = b1 * p ^ (4 - 1)\n",
    "b5 = b1 * p * p * p * p = b1 * p ^ (5 - 1)\n",
    "\n",
    "bn = b1 * p ^ (n - 1)\n"
   ]
  },
  {
   "cell_type": "code",
   "execution_count": 22,
   "metadata": {},
   "outputs": [
    {
     "name": "stdout",
     "output_type": "stream",
     "text": [
      "10\n",
      "-2\n",
      "6\n",
      "-320\n"
     ]
    }
   ],
   "source": [
    "n1 = int(input())\n",
    "q = int(input())\n",
    "n = int(input())\n",
    "\n",
    "print(n1 * q ** (n - 1))"
   ]
  },
  {
   "cell_type": "code",
   "execution_count": null,
   "metadata": {},
   "outputs": [],
   "source": []
  }
 ],
 "metadata": {
  "kernelspec": {
   "display_name": "Python 3",
   "language": "python",
   "name": "python3"
  },
  "language_info": {
   "codemirror_mode": {
    "name": "ipython",
    "version": 3
   },
   "file_extension": ".py",
   "mimetype": "text/x-python",
   "name": "python",
   "nbconvert_exporter": "python",
   "pygments_lexer": "ipython3",
   "version": "3.7.2"
  }
 },
 "nbformat": 4,
 "nbformat_minor": 2
}
