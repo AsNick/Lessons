{
 "cells": [
  {
   "cell_type": "markdown",
   "metadata": {},
   "source": [
    "n! = 1 * 2 * 3 * 4 * ...* (n - 1) * n\n",
    "\n",
    "n! = (n - 1)! * n\n",
    "0! = 1\n",
    "1! = 1"
   ]
  },
  {
   "cell_type": "code",
   "execution_count": 5,
   "metadata": {},
   "outputs": [
    {
     "name": "stdout",
     "output_type": "stream",
     "text": [
      "10\n",
      "3628800\n"
     ]
    }
   ],
   "source": [
    "n = int(input())\n",
    "\n",
    "ans = 1\n",
    "for i in range(1, n + 1):\n",
    "    ans *= i\n",
    "    \n",
    "print(ans)"
   ]
  },
  {
   "cell_type": "code",
   "execution_count": 6,
   "metadata": {},
   "outputs": [
    {
     "name": "stdout",
     "output_type": "stream",
     "text": [
      "10\n",
      "3628800\n"
     ]
    }
   ],
   "source": [
    "def f(x):\n",
    "    if x == 0:\n",
    "        return 1\n",
    "    else:\n",
    "        return x * f(x - 1)\n",
    "    \n",
    "    \n",
    "print(f(int(input())))"
   ]
  },
  {
   "cell_type": "markdown",
   "metadata": {},
   "source": [
    "$F_n = F_{n-1} + F_{n - 2}$  \n",
    "$F_0 = 0$  \n",
    "$F_1 = 1$"
   ]
  },
  {
   "cell_type": "code",
   "execution_count": 10,
   "metadata": {},
   "outputs": [
    {
     "name": "stdout",
     "output_type": "stream",
     "text": [
      "12\n",
      "[0, 1, 1, 2, 3, 5, 8, 13, 21, 34, 55, 89, 144]\n"
     ]
    }
   ],
   "source": [
    "n = int(input())\n",
    "f = [0] * (n + 1)\n",
    "f[1] = 1\n",
    "for i in range(2, n + 1):\n",
    "    f[i] = f[i - 1] + f[i - 2]\n",
    "    \n",
    "print(f)"
   ]
  },
  {
   "cell_type": "code",
   "execution_count": 11,
   "metadata": {},
   "outputs": [
    {
     "name": "stdout",
     "output_type": "stream",
     "text": [
      "55\n"
     ]
    }
   ],
   "source": [
    "def fib(n):\n",
    "    if n < 2:\n",
    "        return n\n",
    "    else:\n",
    "        return fib(n - 1) + fib(n - 2)\n",
    "    \n",
    "print(fib(10))"
   ]
  },
  {
   "cell_type": "markdown",
   "metadata": {},
   "source": [
    "a = 2  \n",
    "n = 10  \n",
    "$a^{n}$"
   ]
  },
  {
   "cell_type": "code",
   "execution_count": 15,
   "metadata": {},
   "outputs": [
    {
     "name": "stdout",
     "output_type": "stream",
     "text": [
      "10\n",
      "3\n",
      "9\n",
      "27\n",
      "81\n",
      "243\n",
      "729\n",
      "2187\n",
      "6561\n",
      "19683\n",
      "59049\n"
     ]
    }
   ],
   "source": [
    "a = 1\n",
    "n = int(input())\n",
    "for i in range(n):\n",
    "    a *= 3\n",
    "    print(a)\n",
    "    "
   ]
  },
  {
   "cell_type": "code",
   "execution_count": 17,
   "metadata": {},
   "outputs": [
    {
     "name": "stdout",
     "output_type": "stream",
     "text": [
      "2 10\n",
      "1024\n"
     ]
    }
   ],
   "source": [
    "def pow_(a, n):\n",
    "    if n == 0:\n",
    "        return 1\n",
    "    else:\n",
    "        return a * pow_(a, n - 1)\n",
    "    \n",
    "a, n = map(int, input().split())\n",
    "print(pow_(a, n))"
   ]
  },
  {
   "cell_type": "code",
   "execution_count": 18,
   "metadata": {},
   "outputs": [
    {
     "name": "stdout",
     "output_type": "stream",
     "text": [
      "536810102661516739839426111041375155025593437650403225427955397739166001110717238662755465462225564369020312397152304887052284646275816212233901359708681145534725594320860541859630142810514307193310721\n"
     ]
    }
   ],
   "source": [
    "a = 37\n",
    "n = 128\n",
    "print(a ** n)"
   ]
  },
  {
   "cell_type": "markdown",
   "metadata": {},
   "source": [
    "$37^{128} = 37^{64} \\cdot 37^{64}$  \n",
    "$37^{128} = 37^{64} \\cdot 37^{64} = 37 ^ {32} \\cdot 37 ^ {32} \\cdot 37 ^ {32} \\cdot 37 ^ {32}$"
   ]
  },
  {
   "cell_type": "markdown",
   "metadata": {},
   "source": [
    "Возведем $37$ в степень $128$  \n",
    "0. $a = 37$ одна операция присваивания, ноль операций умножения \n",
    "1. $a = a \\cdot a = 37^2 $ одна операция умножения  \n",
    "2. $a = a \\cdot a = 37^{4}$ две операции умножения  \n",
    "3. $a = a \\cdot a = 37^8$ три операции умножения  \n",
    "4. $a = a \\cdot a = 37^{16}$ четыре операции умножения  \n",
    "5. $a = a \\cdot a = 37^{32}$ пять операций умножения  \n",
    "6. $a = a \\cdot a = 37^{64}$ шесть операций умножения  \n",
    "7. $a = a \\cdot a = 37^{128}$ семь операции умножения "
   ]
  },
  {
   "cell_type": "code",
   "execution_count": 24,
   "metadata": {},
   "outputs": [
    {
     "name": "stdout",
     "output_type": "stream",
     "text": [
      "456487940826035155404146917\n"
     ]
    }
   ],
   "source": [
    "def pow_(x, y):\n",
    "    if y == 1:\n",
    "        return x\n",
    "    elif y % 2 == 1:\n",
    "        return x * pow_(x, y - 1)\n",
    "    else:\n",
    "        a = pow_(x, y // 2)\n",
    "        return a * a\n",
    "\n",
    "print(pow_(37, 17))"
   ]
  },
  {
   "cell_type": "code",
   "execution_count": null,
   "metadata": {},
   "outputs": [],
   "source": []
  }
 ],
 "metadata": {
  "kernelspec": {
   "display_name": "Python 3",
   "language": "python",
   "name": "python3"
  },
  "language_info": {
   "codemirror_mode": {
    "name": "ipython",
    "version": 3
   },
   "file_extension": ".py",
   "mimetype": "text/x-python",
   "name": "python",
   "nbconvert_exporter": "python",
   "pygments_lexer": "ipython3",
   "version": "3.7.2"
  }
 },
 "nbformat": 4,
 "nbformat_minor": 2
}
