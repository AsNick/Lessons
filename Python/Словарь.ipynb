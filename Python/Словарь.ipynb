{
 "cells": [
  {
   "cell_type": "markdown",
   "metadata": {},
   "source": [
    "**Словари в Python** - неупорядоченные коллекции произвольных объектов с доступом по ключу.  \n",
    "Их иногда ещё называют ассоциативными массивами или хеш-таблицами.\n",
    "\n",
    "Чтобы работать со словарём, его нужно создать. Создать его можно несколькими способами. "
   ]
  },
  {
   "cell_type": "markdown",
   "metadata": {},
   "source": [
    "#### 1. Создание словаря."
   ]
  },
  {
   "cell_type": "markdown",
   "metadata": {},
   "source": [
    "#### 1.1. Создание словаря с помощью литерала:"
   ]
  },
  {
   "cell_type": "code",
   "execution_count": 1,
   "metadata": {},
   "outputs": [
    {
     "name": "stdout",
     "output_type": "stream",
     "text": [
      "{}\n"
     ]
    }
   ],
   "source": [
    "d = {}\n",
    "print(d)"
   ]
  },
  {
   "cell_type": "markdown",
   "metadata": {},
   "source": [
    "#### 1.2. Создание словаря с помощью функции dict:"
   ]
  },
  {
   "cell_type": "code",
   "execution_count": 2,
   "metadata": {},
   "outputs": [
    {
     "name": "stdout",
     "output_type": "stream",
     "text": [
      "{}\n"
     ]
    }
   ],
   "source": [
    "v = dict()\n",
    "print(v)"
   ]
  },
  {
   "cell_type": "markdown",
   "metadata": {},
   "source": [
    "#### 1.3. Создание словаря с помощью метода fromkeys:"
   ]
  },
  {
   "cell_type": "markdown",
   "metadata": {},
   "source": [
    "Метод требует явного перечисления ключей, которым впоследствии могут быть присвоены некоторые значения."
   ]
  },
  {
   "cell_type": "code",
   "execution_count": 3,
   "metadata": {},
   "outputs": [
    {
     "name": "stdout",
     "output_type": "stream",
     "text": [
      "{'a': None, 'b': None}\n"
     ]
    }
   ],
   "source": [
    "w = dict.fromkeys(['a', 'b'])\n",
    "print(w)"
   ]
  },
  {
   "cell_type": "markdown",
   "metadata": {},
   "source": [
    "#### 1.4. Создание словаря с помощью генераторов словарей, которые очень похожи на генераторы списков."
   ]
  },
  {
   "cell_type": "code",
   "execution_count": 4,
   "metadata": {},
   "outputs": [
    {
     "name": "stdout",
     "output_type": "stream",
     "text": [
      "{0: 0, 1: 1, 2: 4, 3: 9, 4: 16, 5: 25, 6: 36}\n"
     ]
    }
   ],
   "source": [
    "d = {a: a ** 2 for a in range(7)}\n",
    "print(d)"
   ]
  },
  {
   "cell_type": "markdown",
   "metadata": {},
   "source": [
    "#### 2. Добавление записей в словарь."
   ]
  },
  {
   "cell_type": "code",
   "execution_count": 5,
   "metadata": {},
   "outputs": [
    {
     "name": "stdout",
     "output_type": "stream",
     "text": [
      "{}\n"
     ]
    }
   ],
   "source": [
    "capitals = dict()\n",
    "print(capitals)"
   ]
  },
  {
   "cell_type": "code",
   "execution_count": 6,
   "metadata": {},
   "outputs": [
    {
     "name": "stdout",
     "output_type": "stream",
     "text": [
      "{'Ukraine': 'Kyiv'}\n"
     ]
    }
   ],
   "source": [
    "capitals['Ukraine'] = 'Kyiv'\n",
    "print(capitals)"
   ]
  },
  {
   "cell_type": "code",
   "execution_count": 7,
   "metadata": {},
   "outputs": [],
   "source": [
    "capitals['France'] = 'Paris'\n",
    "capitals['German'] = 'Berlin'\n",
    "capitals['Poland'] = 'Warsaw'"
   ]
  },
  {
   "cell_type": "code",
   "execution_count": 8,
   "metadata": {},
   "outputs": [
    {
     "name": "stdout",
     "output_type": "stream",
     "text": [
      "{'Ukraine': 'Kyiv', 'France': 'Paris', 'German': 'Berlin', 'Poland': 'Warsaw'}\n"
     ]
    }
   ],
   "source": [
    "print(capitals)"
   ]
  },
  {
   "cell_type": "code",
   "execution_count": 9,
   "metadata": {},
   "outputs": [],
   "source": [
    "cities = dict()"
   ]
  },
  {
   "cell_type": "code",
   "execution_count": 10,
   "metadata": {},
   "outputs": [],
   "source": [
    "cities['Ukraine'] = ['Kyiv', 'Kharkiv', 'Lviv']"
   ]
  },
  {
   "cell_type": "code",
   "execution_count": 11,
   "metadata": {},
   "outputs": [
    {
     "name": "stdout",
     "output_type": "stream",
     "text": [
      "{'Ukraine': ['Kyiv', 'Kharkiv', 'Lviv']}\n"
     ]
    }
   ],
   "source": [
    "print(cities)"
   ]
  },
  {
   "cell_type": "code",
   "execution_count": 12,
   "metadata": {},
   "outputs": [
    {
     "name": "stdout",
     "output_type": "stream",
     "text": [
      "{'Ukraine': ['Kyiv', 'Kharkiv', 'Lviv', 'Poltava']}\n"
     ]
    }
   ],
   "source": [
    "cities['Ukraine'].append('Poltava')\n",
    "print(cities)"
   ]
  },
  {
   "cell_type": "markdown",
   "metadata": {},
   "source": [
    "Решаем задачу e-olymp 6940 \"Максимальная частота слов\""
   ]
  },
  {
   "cell_type": "code",
   "execution_count": 13,
   "metadata": {},
   "outputs": [
    {
     "name": "stdout",
     "output_type": "stream",
     "text": [
      "10\n",
      "mountain\n",
      "lake\n",
      "lake\n",
      "zebra\n",
      "tree\n",
      "lake\n",
      "zebra\n",
      "zebra\n",
      "animal\n",
      "lakes\n",
      "zebra 3\n"
     ]
    }
   ],
   "source": [
    "the_words = {}\n",
    "\n",
    "for i in range(int(input())):\n",
    "    word = input()\n",
    "    if word in the_words:\n",
    "        the_words[word] += 1\n",
    "    else:\n",
    "        the_words[word] = 1\n",
    "        \n",
    "a = []\n",
    "for i in the_words.keys():\n",
    "    a.append([the_words[i], i])\n",
    "    \n",
    "a.sort()\n",
    "\n",
    "print(a[-1][1], a[-1][0])\n"
   ]
  },
  {
   "cell_type": "markdown",
   "metadata": {},
   "source": [
    "Решаем задачу e-olymp 3966 \"Ярый коллекционер бабочек\""
   ]
  },
  {
   "cell_type": "markdown",
   "metadata": {},
   "source": [
    "#### Наивное решение:"
   ]
  },
  {
   "cell_type": "code",
   "execution_count": null,
   "metadata": {},
   "outputs": [],
   "source": [
    "n = int(input())\n",
    "a = list(map(int, input().split()))\n",
    "m = int(input())\n",
    "b = list(map(int, input().split()))\n",
    "\n",
    "for i in b:\n",
    "    print('YES' if i in a else 'NO')\n"
   ]
  },
  {
   "cell_type": "markdown",
   "metadata": {},
   "source": [
    "#### Решение методом бинарного поиска."
   ]
  },
  {
   "cell_type": "code",
   "execution_count": null,
   "metadata": {},
   "outputs": [],
   "source": [
    "n = int(input())\n",
    "a = list(map(int, input().split()))\n",
    "m = int(input())\n",
    "b = list(map(int, input().split()))\n",
    "\n",
    "pass"
   ]
  },
  {
   "cell_type": "markdown",
   "metadata": {},
   "source": [
    "#### Решение с помощью структуры dict()"
   ]
  },
  {
   "cell_type": "code",
   "execution_count": null,
   "metadata": {},
   "outputs": [],
   "source": [
    "n = int(input())\n",
    "a = list(map(int, input().split()))\n",
    "m = int(input())\n",
    "b = list(map(int, input().split()))\n",
    "\n",
    "d = dict()\n",
    "for i in a:\n",
    "    d[i] = True\n",
    "    \n",
    "for i in b:\n",
    "    print('YES' if i in d else 'NO')\n"
   ]
  },
  {
   "cell_type": "code",
   "execution_count": null,
   "metadata": {},
   "outputs": [],
   "source": [
    "n = int(input())\n",
    "a = list(map(int, input().split()))\n",
    "m = int(input())\n",
    "b = list(map(int, input().split()))\n",
    "\n",
    "d = dict()\n",
    "for i in a:\n",
    "    d[i] = True\n",
    "\n",
    "for i in b:\n",
    "    print('YES' if i in d else 'NO')"
   ]
  },
  {
   "cell_type": "markdown",
   "metadata": {},
   "source": [
    "O(n + m) O(n * m) O(m * log(n))"
   ]
  },
  {
   "cell_type": "code",
   "execution_count": null,
   "metadata": {},
   "outputs": [],
   "source": [
    "a = input().split()\n",
    "if a[0] == '1':\n",
    "    "
   ]
  },
  {
   "cell_type": "code",
   "execution_count": null,
   "metadata": {},
   "outputs": [],
   "source": [
    "a = int(input())\n",
    "d = dict()\n",
    "for i in range(a):\n",
    "    b = input().split()\n",
    "    if b[0] == '1':\n",
    "        if b[i] in d:\n",
    "            d[b[1]] += int(b[2])\n",
    "        else:\n",
    "            d[b[1]] = int(b[2])\n",
    "    else:\n",
    "        if b[1] in d:\n",
    "            print(d[b[1]])\n",
    "        else:\n",
    "            print('ERROR')"
   ]
  },
  {
   "cell_type": "code",
   "execution_count": null,
   "metadata": {},
   "outputs": [],
   "source": [
    "a = int(input())\n",
    "b = int(input())\n",
    "print(f\"Квадрат суммы {a} и {b} равен {(a + b) ** 2}\")\n",
    "print(f\"Сумма квадратов {a} и {b} равна {a ** 2 + b ** 2}\")"
   ]
  },
  {
   "cell_type": "code",
   "execution_count": 16,
   "metadata": {},
   "outputs": [
    {
     "name": "stdout",
     "output_type": "stream",
     "text": [
      "10\n",
      "50\n",
      "6\n",
      "1 10\n",
      "2 15.0\n",
      "3 22.5\n",
      "4 33.75\n",
      "5 50.625\n",
      "6 75.9375\n"
     ]
    }
   ],
   "source": [
    "m = int(input())\n",
    "p = int(input())\n",
    "n = int(input())\n",
    "\n",
    "for i in range(1, 1 + n):\n",
    "    print(i, m)\n",
    "    m = m + m / 2\n",
    "    "
   ]
  },
  {
   "cell_type": "code",
   "execution_count": 24,
   "metadata": {},
   "outputs": [
    {
     "name": "stdout",
     "output_type": "stream",
     "text": [
      "5678\n",
      "26\n",
      "4\n",
      "5\n",
      "6.5\n",
      "5\n",
      "13\n"
     ]
    }
   ],
   "source": [
    "n = int(input())\n",
    "\n",
    "a1 = 0\n",
    "a2 = 0\n",
    "a3 = 1\n",
    "a6 = n % 10\n",
    "\n",
    "while n > 0:\n",
    "    d = n % 10\n",
    "    a1 += d\n",
    "    a2 += 1\n",
    "    a3 *= d\n",
    "    if n < 10:\n",
    "        a5 = n\n",
    "    n //= 10\n",
    "    \n",
    "a4 = a1 / a2\n",
    "    \n",
    "    \n",
    "print(a1, a2, a3, a4, a5, a6 + a5, sep='\\n')"
   ]
  },
  {
   "cell_type": "code",
   "execution_count": 25,
   "metadata": {},
   "outputs": [
    {
     "ename": "SyntaxError",
     "evalue": "invalid syntax (<ipython-input-25-81457a1d95bd>, line 4)",
     "output_type": "error",
     "traceback": [
      "\u001b[0;36m  File \u001b[0;32m\"<ipython-input-25-81457a1d95bd>\"\u001b[0;36m, line \u001b[0;32m4\u001b[0m\n\u001b[0;31m    l, r =\u001b[0m\n\u001b[0m           ^\u001b[0m\n\u001b[0;31mSyntaxError\u001b[0m\u001b[0;31m:\u001b[0m invalid syntax\n"
     ]
    }
   ],
   "source": [
    "e = 0.00001\n",
    "a, b, c, d = map()\n",
    "def f(x):\n",
    "    return a* x ** 3 + b * x ** 2 + c * x + d\n",
    "l, r = \n",
    "while r - l > e:\n",
    "    m = (r + l) / 2\n",
    "    if f(m) < 0:\n",
    "        l = m\n",
    "    else:\n",
    "        r = m\n",
    "        \n",
    "    "
   ]
  },
  {
   "cell_type": "code",
   "execution_count": null,
   "metadata": {},
   "outputs": [],
   "source": []
  }
 ],
 "metadata": {
  "kernelspec": {
   "display_name": "Python 3",
   "language": "python",
   "name": "python3"
  },
  "language_info": {
   "codemirror_mode": {
    "name": "ipython",
    "version": 3
   },
   "file_extension": ".py",
   "mimetype": "text/x-python",
   "name": "python",
   "nbconvert_exporter": "python",
   "pygments_lexer": "ipython3",
   "version": "3.7.2"
  }
 },
 "nbformat": 4,
 "nbformat_minor": 2
}
