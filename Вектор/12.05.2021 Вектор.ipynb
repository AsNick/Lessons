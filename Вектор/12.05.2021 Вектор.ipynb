{
 "cells": [
  {
   "cell_type": "code",
   "execution_count": 3,
   "metadata": {},
   "outputs": [
    {
     "name": "stdout",
     "output_type": "stream",
     "text": [
      "dgfhj+++**\n",
      "Символ + встречается 3 раз\n",
      "Символ * встречается 2 раз\n"
     ]
    }
   ],
   "source": [
    "s = input()\n",
    "a = s.count('+')\n",
    "b = s.count('*')\n",
    "print(f'Символ + встречается {a} раз')\n",
    "print(f'Символ * встречается {b} раз')"
   ]
  },
  {
   "cell_type": "code",
   "execution_count": 6,
   "metadata": {},
   "outputs": [
    {
     "name": "stdout",
     "output_type": "stream",
     "text": [
      "dfgh+*+*\n",
      "Символ + встречается 2 раз\n",
      "Символ * встречается 2 раз\n"
     ]
    }
   ],
   "source": [
    "s = input()\n",
    "print(f\"Символ +* встречается {s.count('+*')} раз\")\n",
    "print(f\"Символ * встречается {s.count('*')} раз\")"
   ]
  },
  {
   "cell_type": "code",
   "execution_count": 8,
   "metadata": {},
   "outputs": [
    {
     "name": "stdout",
     "output_type": "stream",
     "text": [
      "x = 3 y = 57\n",
      "x = 16 y = 45\n",
      "x = 29 y = 33\n",
      "x = 42 y = 21\n",
      "x = 55 y = 9\n",
      "Общее количество натуральных решений = 5\n",
      "None\n"
     ]
    }
   ],
   "source": [
    "# 12x+13y=777.\n",
    "\n",
    "c = 0\n",
    "for x in range(1, 100):\n",
    "    for y in range(1, 100):\n",
    "        if 12 * x + 13 * y == 777:\n",
    "            print(f'x = {x} y = {y}')\n",
    "            c += 1\n",
    "print(print(f'Общее количество натуральных решений = {c}'))"
   ]
  },
  {
   "cell_type": "code",
   "execution_count": 9,
   "metadata": {},
   "outputs": [
    {
     "name": "stdout",
     "output_type": "stream",
     "text": [
      "aaa\n",
      "2\n"
     ]
    }
   ],
   "source": [
    "s1 = input()\n",
    "a1 = 0\n",
    "\n",
    "for i in range(len(s1) - 1):\n",
    "        if s1[i] == s1[i + 1]:\n",
    "            a1 += 1\n",
    "print(a1)"
   ]
  },
  {
   "cell_type": "code",
   "execution_count": 10,
   "metadata": {},
   "outputs": [
    {
     "name": "stdout",
     "output_type": "stream",
     "text": [
      "n = 1 k = 4 m = 7\n",
      "n = 2 k = 1 m = 9\n"
     ]
    }
   ],
   "source": [
    "# 28n+30k+31m=365\n",
    "\n",
    "for n in range(1, 100):\n",
    "    for k in range(1, 100):\n",
    "        for m in range(1, 100):\n",
    "            if 28 * n + 30 * k + 31 * m == 365:\n",
    "                print(f'n = {n} k = {k} m = {m}')\n",
    "        "
   ]
  },
  {
   "cell_type": "code",
   "execution_count": 11,
   "metadata": {},
   "outputs": [
    {
     "name": "stdout",
     "output_type": "stream",
     "text": [
      "Назар\n",
      "Н\n",
      "а\n",
      "з\n",
      "а\n",
      "р\n"
     ]
    }
   ],
   "source": [
    "s = input()\n",
    "\n",
    "for i in range(len(s)):\n",
    "    print(s[i])"
   ]
  },
  {
   "cell_type": "code",
   "execution_count": 12,
   "metadata": {},
   "outputs": [
    {
     "name": "stdout",
     "output_type": "stream",
     "text": [
      "Н\n",
      "а\n",
      "з\n",
      "а\n",
      "р\n"
     ]
    }
   ],
   "source": [
    "x1 = 0\n",
    "x2 = 0\n",
    "for i in s:\n",
    "    if i in ('ауоыиэяюёе'):\n",
    "        x1 += 1\n",
    "    if i in ():\n",
    "        x2 += 1\n"
   ]
  },
  {
   "cell_type": "code",
   "execution_count": null,
   "metadata": {},
   "outputs": [],
   "source": []
  }
 ],
 "metadata": {
  "kernelspec": {
   "display_name": "Python 3",
   "language": "python",
   "name": "python3"
  },
  "language_info": {
   "codemirror_mode": {
    "name": "ipython",
    "version": 3
   },
   "file_extension": ".py",
   "mimetype": "text/x-python",
   "name": "python",
   "nbconvert_exporter": "python",
   "pygments_lexer": "ipython3",
   "version": "3.7.2"
  }
 },
 "nbformat": 4,
 "nbformat_minor": 2
}
