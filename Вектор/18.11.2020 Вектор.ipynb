{
 "cells": [
  {
   "cell_type": "markdown",
   "metadata": {},
   "source": [
    "1 рисовое зерно весит 0,0186 г.\n",
    "расстояние от Земли до Луны 384 400 км\n",
    "0,05 миллиметров толщина тетрадного листа"
   ]
  },
  {
   "cell_type": "code",
   "execution_count": 16,
   "metadata": {},
   "outputs": [
    {
     "name": "stdout",
     "output_type": "stream",
     "text": [
      "1 1\n",
      "2 3\n",
      "4 7\n",
      "8 15\n",
      "16 31\n",
      "32 63\n",
      "64 127\n",
      "128 255\n",
      "256 511\n",
      "512 1023\n",
      "1024 2047\n",
      "2048 4095\n",
      "4096 8191\n",
      "8192 16383\n",
      "16384 32767\n",
      "32768 65535\n",
      "65536 131071\n",
      "131072 262143\n",
      "262144 524287\n",
      "524288 1048575\n",
      "1048576 2097151\n",
      "2097152 4194303\n",
      "4194304 8388607\n",
      "8388608 16777215\n",
      "16777216 33554431\n",
      "33554432 67108863\n",
      "67108864 134217727\n",
      "134217728 268435455\n",
      "268435456 536870911\n",
      "536870912 1073741823\n",
      "1073741824 2147483647\n",
      "2147483648 4294967295\n",
      "4294967296 8589934591\n",
      "8589934592 17179869183\n",
      "17179869184 34359738367\n",
      "34359738368 68719476735\n",
      "68719476736 137438953471\n",
      "137438953472 274877906943\n",
      "274877906944 549755813887\n",
      "549755813888 1099511627775\n",
      "1099511627776 2199023255551\n",
      "2199023255552 4398046511103\n",
      "4398046511104 8796093022207\n",
      "8796093022208 17592186044415\n",
      "17592186044416 35184372088831\n",
      "35184372088832 70368744177663\n",
      "70368744177664 140737488355327\n",
      "140737488355328 281474976710655\n",
      "281474976710656 562949953421311\n",
      "562949953421312 1125899906842623\n",
      "1125899906842624 2251799813685247\n",
      "2251799813685248 4503599627370495\n",
      "4503599627370496 9007199254740991\n",
      "9007199254740992 18014398509481983\n",
      "18014398509481984 36028797018963967\n",
      "36028797018963968 72057594037927935\n",
      "72057594037927936 144115188075855871\n",
      "144115188075855872 288230376151711743\n",
      "288230376151711744 576460752303423487\n",
      "576460752303423488 1152921504606846975\n",
      "1152921504606846976 2305843009213693951\n",
      "2305843009213693952 4611686018427387903\n",
      "4611686018427387904 9223372036854775807\n",
      "9223372036854775808 18446744073709551615\n",
      "36893488147419103231\n"
     ]
    }
   ],
   "source": [
    "s = 0\n",
    "a = 1\n",
    "for i in range(64):   \n",
    "    s += a\n",
    "    print(a, s)\n",
    "    a *= 2\n",
    "s += a\n",
    "print(s)"
   ]
  },
  {
   "cell_type": "code",
   "execution_count": 14,
   "metadata": {},
   "outputs": [
    {
     "name": "stdout",
     "output_type": "stream",
     "text": [
      "20\n"
     ]
    }
   ],
   "source": [
    "print(len('36893488147419103231'))"
   ]
  },
  {
   "cell_type": "code",
   "execution_count": 10,
   "metadata": {},
   "outputs": [
    {
     "name": "stdout",
     "output_type": "stream",
     "text": [
      "3.431094397709976e+17\n"
     ]
    }
   ],
   "source": [
    "print(s * 0.0186)"
   ]
  },
  {
   "cell_type": "code",
   "execution_count": 13,
   "metadata": {},
   "outputs": [
    {
     "name": "stdout",
     "output_type": "stream",
     "text": [
      "343109439770\n"
     ]
    }
   ],
   "source": [
    "print(int(s * 0.0186 / 1000000))"
   ]
  },
  {
   "cell_type": "markdown",
   "metadata": {},
   "source": [
    "343 109 439 770 триста сорок три миллиарда сто девять миллионов четыреста тридцать девять тысяч семьсот семьдесят тонн"
   ]
  },
  {
   "cell_type": "code",
   "execution_count": 17,
   "metadata": {},
   "outputs": [
    {
     "name": "stdout",
     "output_type": "stream",
     "text": [
      "43\n"
     ]
    }
   ],
   "source": [
    "L = 384400000000\n",
    "h = 0.05\n",
    "k = 0\n",
    "while h < L:\n",
    "    h *= 2\n",
    "    k += 1\n",
    "    \n",
    "print(k)"
   ]
  },
  {
   "cell_type": "code",
   "execution_count": 30,
   "metadata": {},
   "outputs": [
    {
     "name": "stdout",
     "output_type": "stream",
     "text": [
      "7 // 5, 7 % 5\n"
     ]
    }
   ],
   "source": [
    "print('7 // 5, 7 % 5')"
   ]
  },
  {
   "cell_type": "code",
   "execution_count": 29,
   "metadata": {},
   "outputs": [
    {
     "name": "stdout",
     "output_type": "stream",
     "text": [
      "Hello, World!\n"
     ]
    }
   ],
   "source": [
    "print('Hello, World!')"
   ]
  },
  {
   "cell_type": "code",
   "execution_count": 35,
   "metadata": {},
   "outputs": [
    {
     "name": "stdout",
     "output_type": "stream",
     "text": [
      "[5, 7, 3, 4, 8, 2]\n",
      "[2, 3, 4, 5, 7, 8]\n"
     ]
    }
   ],
   "source": [
    "a = [5, 7, 3, 4, 8, 2]\n",
    "a.sort()\n",
    "a = sorted(a)\n",
    "print(a)\n",
    "print(b)"
   ]
  },
  {
   "cell_type": "code",
   "execution_count": 37,
   "metadata": {},
   "outputs": [
    {
     "name": "stdout",
     "output_type": "stream",
     "text": [
      "[(1, 6), (2, 7), (3, 8), (4, 9), (5, 10)]\n"
     ]
    }
   ],
   "source": [
    "a = [1, 2, 3, 4, 5]\n",
    "b = [6, 7, 8, 9, 10]\n",
    "c = list(zip(a, b))\n",
    "print(c)"
   ]
  },
  {
   "cell_type": "code",
   "execution_count": null,
   "metadata": {},
   "outputs": [],
   "source": [
    "from collections import deque\n",
    "\n",
    "\n",
    "def v():\n",
    "    while q:\n",
    "        x, y = q.popleft()\n",
    "        for dx, dy in zip((-2, -2, -1, -1, 1, 1, 2, 2), (-1, 1, -2, 2, -2, 2, -1, 1)):\n",
    "            X = x + dx\n",
    "            Y = y + dy\n",
    "            if 0 <= X < n and 0 <= Y < n and d[X][Y] == -1:\n",
    "                d[X][Y] = d[x][y] + 1\n",
    "                q.append((X, Y))\n",
    "\n",
    "\n",
    "n = int(input())\n",
    "x1, y1, = map(int, input().split())\n",
    "x2, y2, = map(int, input().split())\n",
    "\n",
    "x1 -= 1\n",
    "y1 -= 1\n",
    "x2 -= 1\n",
    "y2 -= 1\n",
    "\n",
    "d = [[-1] * n for i in range(n)]\n",
    "q = deque()\n",
    "\n",
    "d[x1][y1] = 0\n",
    "q.append((x1, y1))\n",
    "\n",
    "v()\n",
    "\n",
    "print(d[x2][y2])"
   ]
  }
 ],
 "metadata": {
  "kernelspec": {
   "display_name": "Python 3",
   "language": "python",
   "name": "python3"
  },
  "language_info": {
   "codemirror_mode": {
    "name": "ipython",
    "version": 3
   },
   "file_extension": ".py",
   "mimetype": "text/x-python",
   "name": "python",
   "nbconvert_exporter": "python",
   "pygments_lexer": "ipython3",
   "version": "3.7.2"
  }
 },
 "nbformat": 4,
 "nbformat_minor": 2
}
