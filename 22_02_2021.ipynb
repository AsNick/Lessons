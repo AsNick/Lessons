{
 "cells": [
  {
   "cell_type": "markdown",
   "metadata": {},
   "source": [
    "Мы умеем:  \n",
    "1. Находить все делители числа за $O(\\sqrt{N})$;  \n",
    "2. Проверять число на простоту за $O(\\sqrt{N})$;\n",
    "3. Находить все простые числа на интервале $[1...n]$ за $O(n \\cdot log(log(n)))$;"
   ]
  },
  {
   "cell_type": "code",
   "execution_count": null,
   "metadata": {},
   "outputs": [],
   "source": [
    "def divisor(n):\n",
    "    d = []\n",
    "    for x in range(1, 1 + int(n ** .5)):\n",
    "        if n % x == 0:\n",
    "            d.append(x)\n",
    "            y = n // x\n",
    "            if y != x:\n",
    "                d.append(y)\n",
    "    return d"
   ]
  },
  {
   "cell_type": "code",
   "execution_count": null,
   "metadata": {},
   "outputs": [],
   "source": [
    "def is_prime(n):\n",
    "    if n == 2:\n",
    "        return True\n",
    "    if n < 2 or n % 2 == 0:\n",
    "        return False\n",
    "    for x in range(3, 1 + int(n ** .5), 2):\n",
    "        if n % x == 0:\n",
    "            return False\n",
    "    return True"
   ]
  },
  {
   "cell_type": "code",
   "execution_count": 69,
   "metadata": {},
   "outputs": [],
   "source": [
    "def eratosthenes(n):\n",
    "    a = [True] * (n + 1)\n",
    "    a[0] = False\n",
    "    a[1] = False\n",
    "    p = []\n",
    "\n",
    "    for i in range(n + 1):\n",
    "        if a[i]:\n",
    "            p.append(i)\n",
    "            for j in range(i * i, n + 1, i):\n",
    "                a[j] = False\n",
    "    return p"
   ]
  },
  {
   "cell_type": "code",
   "execution_count": 70,
   "metadata": {},
   "outputs": [],
   "source": [
    "p = eratosthenes(1000)\n",
    "\n",
    "def is_prime_(n):\n",
    "    if n == 2:\n",
    "        return True\n",
    "    if n < 2 or n % 2 == 0:\n",
    "        return False\n",
    "    for x in p:\n",
    "        if n % x == 0:\n",
    "            return False\n",
    "    return True\n"
   ]
  },
  {
   "cell_type": "code",
   "execution_count": 71,
   "metadata": {},
   "outputs": [
    {
     "name": "stdout",
     "output_type": "stream",
     "text": [
      "2 "
     ]
    }
   ],
   "source": [
    "m, n = 1, 20\n",
    "\n",
    "for i in range(m, n + 1):\n",
    "    if is_prime_(i):\n",
    "        print(i, end=' ')"
   ]
  },
  {
   "cell_type": "markdown",
   "metadata": {},
   "source": [
    "e-olymp 0192 \"Просто Фибоначчи\""
   ]
  },
  {
   "cell_type": "code",
   "execution_count": 4,
   "metadata": {},
   "outputs": [
    {
     "name": "stdout",
     "output_type": "stream",
     "text": [
      "5\n",
      "5\n"
     ]
    }
   ],
   "source": [
    "n = int(input())\n",
    "a, b, k = 0, 1, 0\n",
    "while k < n:\n",
    "    a, b = b, a + b\n",
    "    if is_prime(a):\n",
    "        k += 1\n",
    "\n",
    "print(a)"
   ]
  },
  {
   "cell_type": "code",
   "execution_count": 27,
   "metadata": {},
   "outputs": [
    {
     "name": "stdout",
     "output_type": "stream",
     "text": [
      "10\n",
      "267914296\n"
     ]
    }
   ],
   "source": [
    "def is_prime(n):\n",
    "    d = 2\n",
    "    while d * d <= n and n % d != 0:\n",
    "        d += 1\n",
    "    return d * d > n\n",
    "\n",
    "a1 = int(input())\n",
    "a, b = 1, 1\n",
    "\n",
    "while a1 != 0:\n",
    "    a, b = b, a + b\n",
    "    if is_prime(b):\n",
    "        a1 -= 1\n",
    "print(a)"
   ]
  },
  {
   "cell_type": "code",
   "execution_count": 20,
   "metadata": {},
   "outputs": [
    {
     "name": "stdout",
     "output_type": "stream",
     "text": [
      "[0, 1, 1, 2, 3, 5, 8, 13, 21, 34, 55, 89, 144, 233, 377, 610, 987, 1597, 2584, 4181]\n"
     ]
    }
   ],
   "source": [
    "f = [0] * 20\n",
    "f[1] = 1\n",
    "for i in range(2, 20):\n",
    "    f[i] = f[i - 1] + f[i - 2]\n",
    "print(f)"
   ]
  },
  {
   "cell_type": "code",
   "execution_count": 23,
   "metadata": {},
   "outputs": [
    {
     "name": "stdout",
     "output_type": "stream",
     "text": [
      "55\n"
     ]
    }
   ],
   "source": [
    "a, b, k  = 0, 1, 0\n",
    "while k < 10:\n",
    "    a, b = b, a + b\n",
    "    k += 1\n",
    "    \n",
    "print(a)"
   ]
  },
  {
   "cell_type": "code",
   "execution_count": 33,
   "metadata": {},
   "outputs": [
    {
     "name": "stdout",
     "output_type": "stream",
     "text": [
      "1123\n",
      "YES\n"
     ]
    }
   ],
   "source": [
    "def is_prime(n):\n",
    "    if n == 2:\n",
    "        return True\n",
    "    if n < 2 or n % 2 == 0:\n",
    "        return False\n",
    "    for x in range(3, 1 + int(n ** .5), 2):\n",
    "        if n % x == 0:\n",
    "            return False\n",
    "    return True\n",
    "\n",
    "\n",
    "n = input()\n",
    "ans = 'NO'\n",
    "if is_prime(int(n)):\n",
    "    for i in range(1, len(n)):\n",
    "        a = n[:i]\n",
    "        b = n[i:]\n",
    "        if b[0] != '0' and is_prime(int(a)) and is_prime(int(b)):\n",
    "            ans = \"YES\"\n",
    "            break\n",
    "            \n",
    "\n",
    "print(ans)"
   ]
  },
  {
   "cell_type": "code",
   "execution_count": null,
   "metadata": {},
   "outputs": [],
   "source": [
    "def is_prime(x):\n",
    "    for d in range(2, x):\n",
    "        if x % d == 0:\n",
    "            return False\n",
    "    return True\n",
    "\n",
    "\n",
    "\n",
    "def eratosthenes(n):\n",
    "    a = [True] * (n + 1)\n",
    "    a[0] = False\n",
    "    a[1] = False\n",
    "    p = []\n",
    "\n",
    "    for i in range(n + 1):\n",
    "        if a[i]:\n",
    "            p.append(i)\n",
    "            for j in range(i * i, n + 1, i):\n",
    "                a[j] = False\n",
    "    return p\n",
    "\n",
    "\n",
    "p = eratosthenes(1000000)\n",
    "k = int(input())\n",
    "\n",
    "s = 0\n",
    "for i in p:\n",
    "    a = str(i)\n",
    "    a = a[::-1]\n",
    "    if is_prime(int(a)):\n",
    "        s += 1\n",
    "        if s == k:\n",
    "            print(i)\n",
    "            break\n"
   ]
  },
  {
   "cell_type": "code",
   "execution_count": 38,
   "metadata": {},
   "outputs": [
    {
     "name": "stdout",
     "output_type": "stream",
     "text": [
      "2 2\n",
      "2\n"
     ]
    }
   ],
   "source": [
    "def is_prime(y):\n",
    "    m = [True] * (y + 1)\n",
    "    m[0] = False\n",
    "    m[1] = False\n",
    "    mm = []\n",
    "    for i in range(y + 1):\n",
    "        if m[i]:\n",
    "            mm.append(i)\n",
    "            for j in range(i ** 2, y + 1, i):\n",
    "                m[j] = False\n",
    "    return mm\n",
    "\n",
    "\n",
    "a, b = map(int, input().split())\n",
    "h = 0\n",
    "g = is_prime(b)\n",
    "for t in range(len(g)):\n",
    "    if g[t] >= a:\n",
    "        h = t\n",
    "        break\n",
    "print(*g[h:])"
   ]
  },
  {
   "cell_type": "code",
   "execution_count": null,
   "metadata": {},
   "outputs": [],
   "source": [
    "def is_prime(n):\n",
    "    if n == 2:\n",
    "        return True\n",
    "    if n < 2 or n % 2 == 0:\n",
    "        return False\n",
    "    for x in range(3, 1 + int(n ** .5), 2):\n",
    "        if n % x == 0:\n",
    "            return False\n",
    "    return True\n",
    "\n",
    "p = eratosthenes(k)"
   ]
  },
  {
   "cell_type": "code",
   "execution_count": null,
   "metadata": {},
   "outputs": [],
   "source": [
    "def is_prime(n):\n",
    "    if n == 2:\n",
    "        return True\n",
    "    if n < 2 or n % 2 == 0:\n",
    "        return False\n",
    "    for x in p:\n",
    "        if n % x == 0:\n",
    "            return False\n",
    "    return True\n",
    "\n",
    "p = eratosthenes(k)\n",
    "\n",
    "for i in range(n, m + 1):\n",
    "    if is_prime(i):\n",
    "        print(i)"
   ]
  },
  {
   "cell_type": "code",
   "execution_count": 41,
   "metadata": {},
   "outputs": [
    {
     "name": "stdout",
     "output_type": "stream",
     "text": [
      "235\n",
      "235235235\n",
      "705\n",
      "235235235235235\n"
     ]
    }
   ],
   "source": [
    "a = input()\n",
    "b = int(a)\n",
    "c = str(b)\n",
    "\n",
    "print(a * 3)\n",
    "print(b * 3)\n",
    "print(c * 5)"
   ]
  },
  {
   "cell_type": "code",
   "execution_count": 44,
   "metadata": {},
   "outputs": [
    {
     "name": "stdout",
     "output_type": "stream",
     "text": [
      "469\n",
      "46800\n",
      "181\n",
      "2.2569444444444446\n",
      "2\n",
      "37\n"
     ]
    }
   ],
   "source": [
    "n = 325\n",
    "m = 144\n",
    "\n",
    "c1 = n + m\n",
    "c2 = n * m\n",
    "c3 = n - m\n",
    "c4 = n / m\n",
    "c5 = n // m\n",
    "c6 = n % m\n",
    "\n",
    "print(c1, c2, c3, c4, c5, c6, sep='\\n')"
   ]
  },
  {
   "cell_type": "code",
   "execution_count": 46,
   "metadata": {},
   "outputs": [
    {
     "name": "stdout",
     "output_type": "stream",
     "text": [
      "-390614\n"
     ]
    }
   ],
   "source": [
    "a = 2 + 3 * 3 - 25 ** 4\n",
    "print(a)"
   ]
  },
  {
   "cell_type": "code",
   "execution_count": null,
   "metadata": {},
   "outputs": [],
   "source": [
    "n "
   ]
  },
  {
   "cell_type": "markdown",
   "metadata": {},
   "source": [
    "n = 10\n",
    "s = f(1) + f(2) + f(3) + f(4) + f(5) + f(6) + f(7) + f(8) + f(9) + f(10)"
   ]
  },
  {
   "cell_type": "code",
   "execution_count": 50,
   "metadata": {},
   "outputs": [
    {
     "name": "stdout",
     "output_type": "stream",
     "text": [
      "10\n",
      "4037913\n"
     ]
    }
   ],
   "source": [
    "n = int(input())\n",
    "from math import factorial as f\n",
    "s = 0\n",
    "for i in range(1, n + 1):\n",
    "    s += f(i)\n",
    "\n",
    "print(s)\n",
    "    "
   ]
  },
  {
   "cell_type": "markdown",
   "metadata": {},
   "source": [
    "1. 1\n",
    "2. 1 * 2\n",
    "3. 1 * 2 * 3\n",
    "4. 1 * 2 * 3 * 4\n",
    "5. 1 * 2 * 3 * 4 * 5\n",
    "\n",
    "n = 10000\n",
    "d = (n + 1) * n // 2"
   ]
  },
  {
   "cell_type": "code",
   "execution_count": 60,
   "metadata": {},
   "outputs": [
    {
     "name": "stdout",
     "output_type": "stream",
     "text": [
      "10\n",
      "*\n",
      "**\n",
      "***\n",
      "****\n",
      "*****\n",
      "******\n",
      "*******\n",
      "********\n",
      "*********\n",
      "**********\n",
      "*********\n",
      "********\n",
      "*******\n",
      "******\n",
      "*****\n",
      "****\n",
      "***\n",
      "**\n",
      "*\n"
     ]
    }
   ],
   "source": [
    "n = int(input())\n",
    "for i in range(1, n + 1):\n",
    "    print('*'* i)\n",
    "    \n",
    "for i in range(n - 1, 0, -1):\n",
    "    print('*' * i)"
   ]
  },
  {
   "cell_type": "markdown",
   "metadata": {},
   "source": [
    " $f(a,b) = 3 * (a +b)^3 + 275 * b^2 − 127 * a − 41$"
   ]
  },
  {
   "cell_type": "code",
   "execution_count": 62,
   "metadata": {},
   "outputs": [
    {
     "name": "stdout",
     "output_type": "stream",
     "text": [
      "4\n",
      "8\n",
      "22235\n"
     ]
    }
   ],
   "source": [
    "a = int(input())\n",
    "b = int(input())\n",
    "\n",
    "f = 3 * (a + b) ** 3 + 275 * b ** 2 - 127 * a - 41\n",
    "print(f)"
   ]
  },
  {
   "cell_type": "markdown",
   "metadata": {},
   "source": [
    "$f_0 = 0$  \n",
    "$f_1 = 1$  \n",
    "$f_2 = f_0 + f_1 = 0 + 1 = 1$  \n",
    "$f_3 = f_2 + f+1 = 1 + 1 = 2$  \n",
    "$f_4 = f_3 + f_2 = 2 + 1 = 3$  \n",
    "$f_5 = f_4 + f_3 = 3 + 2 = 5$  \n",
    "\n",
    "\n",
    "$f_n = f_{n - 1} + f_{n - 2}$"
   ]
  },
  {
   "cell_type": "code",
   "execution_count": 67,
   "metadata": {},
   "outputs": [
    {
     "name": "stdout",
     "output_type": "stream",
     "text": [
      "5\n",
      "5\n"
     ]
    }
   ],
   "source": [
    "n = int(input())\n",
    "a = 1\n",
    "b = 1\n",
    "\n",
    "for i in range(2, n + 1):\n",
    "    a, b = b, a + b\n",
    "\n",
    "print(a)"
   ]
  },
  {
   "cell_type": "code",
   "execution_count": null,
   "metadata": {},
   "outputs": [],
   "source": [
    "a = int(input())\n",
    "b = int(input())\n",
    "c = int(input())\n",
    "d = int(input())\n",
    "\n",
    "if abs(a - c) == abs(b - d) or a == c or b == d:\n",
    "    print('YES')\n",
    "else:\n",
    "    print('NO')"
   ]
  },
  {
   "cell_type": "code",
   "execution_count": null,
   "metadata": {},
   "outputs": [],
   "source": []
  }
 ],
 "metadata": {
  "kernelspec": {
   "display_name": "Python 3",
   "language": "python",
   "name": "python3"
  },
  "language_info": {
   "codemirror_mode": {
    "name": "ipython",
    "version": 3
   },
   "file_extension": ".py",
   "mimetype": "text/x-python",
   "name": "python",
   "nbconvert_exporter": "python",
   "pygments_lexer": "ipython3",
   "version": "3.7.2"
  }
 },
 "nbformat": 4,
 "nbformat_minor": 2
}
