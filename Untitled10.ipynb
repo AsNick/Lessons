{
 "cells": [
  {
   "cell_type": "markdown",
   "metadata": {},
   "source": [
    "1. взять с github три функции  \n",
    "2. считываем n, m  \n",
    "3. Считываем массив $a$\n",
    "4. $tree_sum = [0] 4 * len(a)$\n",
    "5. "
   ]
  },
  {
   "cell_type": "code",
   "execution_count": 1,
   "metadata": {},
   "outputs": [],
   "source": [
    "def build(v, l, r):\n",
    "    if l == r:\n",
    "        tree_min[v] = a[l]\n",
    "    else:\n",
    "        mid = (l + r) // 2\n",
    "        build(2 * v, l, mid)\n",
    "        build(2 * v + 1, mid + 1, r)\n",
    "        tree_min[v] = min(tree_min[2 * v], tree_min[2 * v + 1])\n"
   ]
  },
  {
   "cell_type": "code",
   "execution_count": 2,
   "metadata": {},
   "outputs": [],
   "source": [
    "def update(v, l, r, pos, x):\n",
    "    if l == r:\n",
    "        tree_min[v] = x\n",
    "    else:\n",
    "        mid = (l + r) // 2\n",
    "        if pos <= mid:\n",
    "            update(2 * v, l, mid, pos, x)\n",
    "        else:\n",
    "            update(2 * v + 1, mid + 1, r, pos, x)\n",
    "        tree_min[v] = min(tree_min[2 * v], tree_min[2 * v + 1])"
   ]
  },
  {
   "cell_type": "code",
   "execution_count": 3,
   "metadata": {},
   "outputs": [],
   "source": [
    "def get_min(v, tl, tr, l, r):\n",
    "    if tl == l and tr == r:\n",
    "        return tree_min[v]\n",
    "    mid = (tl + tr) // 2\n",
    "    if tl <= l <= r <= mid:\n",
    "        return get_min(2 * v, tl, mid, l, min(r, mid))\n",
    "    elif mid + 1 <= l <= r <= tr:\n",
    "        return get_min(2 * v + 1, mid + 1, tr, max(l, mid + 1), r)\n",
    "    else:\n",
    "        return min(get_sum(2 * v, tl, mid, l, min(r, mid)), get_sum(2 * v + 1, mid + 1, tr, max(l, mid + 1), r))"
   ]
  },
  {
   "cell_type": "code",
   "execution_count": 4,
   "metadata": {},
   "outputs": [
    {
     "name": "stdout",
     "output_type": "stream",
     "text": [
      "6 4\n",
      "1 2 3 4 5 6\n",
      "[0, 21, 6, 15, 3, 3, 9, 6, 1, 2, 0, 0, 4, 5, 0, 0, 0, 0, 0, 0, 0, 0, 0, 0]\n"
     ]
    }
   ],
   "source": [
    "n, m = map(int, input().split())\n",
    "a = list(map(int, input().split()))\n",
    "tree_sum = [0] * 4 * n\n",
    "build(1, 0, n - 1)\n",
    "print(tree_sum)"
   ]
  },
  {
   "cell_type": "code",
   "execution_count": null,
   "metadata": {},
   "outputs": [],
   "source": [
    "for i in range(m):\n",
    "    x, y, z = map(int, input().split())\n",
    "    if x == 1:\n",
    "        update(1, 0, n - 1, y, z)\n",
    "    else:\n",
    "        print(get_sum(1, 0, n - 1, y, z - 1))"
   ]
  }
 ],
 "metadata": {
  "kernelspec": {
   "display_name": "Python 3",
   "language": "python",
   "name": "python3"
  },
  "language_info": {
   "codemirror_mode": {
    "name": "ipython",
    "version": 3
   },
   "file_extension": ".py",
   "mimetype": "text/x-python",
   "name": "python",
   "nbconvert_exporter": "python",
   "pygments_lexer": "ipython3",
   "version": "3.7.2"
  }
 },
 "nbformat": 4,
 "nbformat_minor": 2
}
