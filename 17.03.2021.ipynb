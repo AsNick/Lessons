{
 "cells": [
  {
   "cell_type": "code",
   "execution_count": 8,
   "metadata": {},
   "outputs": [
    {
     "name": "stdout",
     "output_type": "stream",
     "text": [
      "1 -3 3 -1\n",
      "1.000006878748536\n"
     ]
    }
   ],
   "source": [
    "def f(x):\n",
    "    return a * x ** 3 + b * x ** 2 + c * x + d\n",
    "    \n",
    "\n",
    "\n",
    "a, b, c, d = map(int, input().split())    \n",
    "l, r = -10, 10\n",
    "\n",
    "while f(l) * f(r) >= 0:\n",
    "    l -= 10\n",
    "    r += 10\n",
    "    \n",
    "if f(l) > 0:\n",
    "    l, r = r , l\n",
    "\n",
    "e = 0.00000001\n",
    "while abs(r - l) > e:\n",
    "    m = (l + r) / 2\n",
    "    if f(m) <= 0:\n",
    "        l = m\n",
    "    else:\n",
    "        r = m\n",
    "        \n",
    "print(m)"
   ]
  },
  {
   "cell_type": "code",
   "execution_count": null,
   "metadata": {},
   "outputs": [],
   "source": [
    "1 -3 3 -1\n"
   ]
  }
 ],
 "metadata": {
  "kernelspec": {
   "display_name": "Python 3",
   "language": "python",
   "name": "python3"
  },
  "language_info": {
   "codemirror_mode": {
    "name": "ipython",
    "version": 3
   },
   "file_extension": ".py",
   "mimetype": "text/x-python",
   "name": "python",
   "nbconvert_exporter": "python",
   "pygments_lexer": "ipython3",
   "version": "3.7.2"
  }
 },
 "nbformat": 4,
 "nbformat_minor": 2
}
