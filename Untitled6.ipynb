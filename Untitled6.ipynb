{
 "cells": [
  {
   "cell_type": "code",
   "execution_count": null,
   "metadata": {},
   "outputs": [],
   "source": [
    "s = input()\n",
    "ans = 0\n",
    "mx = 0\n",
    "\n",
    "for i in s:\n",
    "    x = s.count(i)\n",
    "    if x >= mx:\n",
    "        mx = x\n",
    "        ans = i\n",
    "    \n",
    "print(ans)"
   ]
  },
  {
   "cell_type": "code",
   "execution_count": null,
   "metadata": {},
   "outputs": [],
   "source": [
    "s = 'fghjg.comjkhlj'\n",
    "s = input()\n",
    "x = s.rfind('.com')\n",
    "ans = 'NO'\n",
    "if x == len(s) - 4:\n",
    "    ans = 'YES'\n",
    "y = s.rfind('.ru')\n",
    "if x == len(s) - 3:\n",
    "    ans = 'YES'\n",
    "    \n",
    "print(ans)\n",
    "    "
   ]
  },
  {
   "cell_type": "code",
   "execution_count": 5,
   "metadata": {},
   "outputs": [
    {
     "name": "stdout",
     "output_type": "stream",
     "text": [
      "{2: 3, 4: 2, 3: 2, 1: 1, 6: 1, 7: 1, 5: 1}\n",
      "3\n"
     ]
    }
   ],
   "source": [
    "d = dict()\n",
    "\n",
    "a = [2, 4, 3, 2, 1, 6, 7, 5, 4, 3, 2]\n",
    "\n",
    "for i in a:\n",
    "    if i in d:\n",
    "        d[i] += 1\n",
    "    else:\n",
    "        d[i] = 1\n",
    "        \n",
    "print(d)\n",
    "print(d[2])"
   ]
  },
  {
   "cell_type": "code",
   "execution_count": 7,
   "metadata": {},
   "outputs": [
    {
     "name": "stdout",
     "output_type": "stream",
     "text": [
      "[(2, 3), (4, 2), (3, 2), (1, 1), (6, 1), (7, 1), (5, 1)]\n"
     ]
    }
   ],
   "source": [
    "b = list(d.items())\n",
    "print(b)"
   ]
  },
  {
   "cell_type": "code",
   "execution_count": 8,
   "metadata": {},
   "outputs": [
    {
     "name": "stdout",
     "output_type": "stream",
     "text": [
      "[(1, 1), (2, 3), (3, 2), (4, 2), (5, 1), (6, 1), (7, 1)]\n"
     ]
    }
   ],
   "source": [
    "b.sort()\n",
    "print(b)"
   ]
  },
  {
   "cell_type": "code",
   "execution_count": 11,
   "metadata": {},
   "outputs": [
    {
     "name": "stdout",
     "output_type": "stream",
     "text": [
      "1 2 2 2 3 3 4 4 5 6 7 "
     ]
    }
   ],
   "source": [
    "for i in b:\n",
    "    print(*[i[0]] * i[1], end=' ')"
   ]
  },
  {
   "cell_type": "code",
   "execution_count": 12,
   "metadata": {},
   "outputs": [
    {
     "name": "stdout",
     "output_type": "stream",
     "text": [
      "5\n",
      "5 x 1 = 5\n",
      "5 x 2 = 10\n",
      "5 x 3 = 15\n",
      "5 x 4 = 20\n",
      "5 x 5 = 25\n",
      "5 x 6 = 30\n",
      "5 x 7 = 35\n",
      "5 x 8 = 40\n",
      "5 x 9 = 45\n",
      "5 x 10 = 50\n"
     ]
    }
   ],
   "source": [
    "n = int(input())\n",
    "\n",
    "for i in range(1, 11):\n",
    "    print(f'{n} x {i} = {n * i}')"
   ]
  },
  {
   "cell_type": "code",
   "execution_count": 15,
   "metadata": {},
   "outputs": [
    {
     "name": "stdout",
     "output_type": "stream",
     "text": [
      "71253\n"
     ]
    }
   ],
   "source": [
    "n = 100\n",
    "sm = 0\n",
    "\n",
    "for i in range(1, 378):\n",
    "    sm = sm + i\n",
    "print(sm)"
   ]
  },
  {
   "cell_type": "code",
   "execution_count": null,
   "metadata": {},
   "outputs": [],
   "source": [
    "a = int(input())\n",
    "b = int(input())\n",
    "\n",
    "c = 0\n",
    "for x in range(a, b + 1):\n",
    "    if x * x * x % 10 == 4 or x * x * x % 10 == 9:\n",
    "        c = c + 1\n",
    "        \n",
    "print(c)\n",
    "    "
   ]
  },
  {
   "cell_type": "markdown",
   "metadata": {},
   "source": [
    "a = 8\n",
    "b = 26\n",
    "\n",
    "a = 2 * 2 * 2 = 2 ^ 3\n",
    "b = 2 * 13\n",
    "\n",
    "a = 2^3 * 13^0\n",
    "b = 2^1 * 13^1\n",
    "\n",
    "нок(a, b) = 2^3 * 13^1 = 78"
   ]
  },
  {
   "cell_type": "markdown",
   "metadata": {},
   "source": [
    "a = 36\n",
    "b = 62\n",
    "\n",
    "a = 2 * 3 * 3\n",
    "b = 2 * 31\n",
    "\n",
    "a = 2^2 * 3^2 * 31^0\n",
    "b = 2^1 * 3^0 * 31^1\n",
    "\n",
    "нок(a, b) = 2 * 3 * 3 * 31\n",
    "нод(a, b) = 2\n",
    "\n",
    "\n",
    "нок(a, b) = a * b // (нод(a, b))"
   ]
  },
  {
   "cell_type": "code",
   "execution_count": 17,
   "metadata": {},
   "outputs": [
    {
     "name": "stdout",
     "output_type": "stream",
     "text": [
      "10\n",
      "0.6263831609742079\n"
     ]
    }
   ],
   "source": [
    "from math import *\n",
    "\n",
    "n = int(input())\n",
    "\n",
    "s = 0\n",
    "for i in range(1, n + 1):\n",
    "    s = s + 1 / i\n",
    "    \n",
    "print(s - log(n))"
   ]
  },
  {
   "cell_type": "code",
   "execution_count": null,
   "metadata": {},
   "outputs": [],
   "source": [
    "g = [0] * n"
   ]
  }
 ],
 "metadata": {
  "kernelspec": {
   "display_name": "Python 3",
   "language": "python",
   "name": "python3"
  },
  "language_info": {
   "codemirror_mode": {
    "name": "ipython",
    "version": 3
   },
   "file_extension": ".py",
   "mimetype": "text/x-python",
   "name": "python",
   "nbconvert_exporter": "python",
   "pygments_lexer": "ipython3",
   "version": "3.7.2"
  }
 },
 "nbformat": 4,
 "nbformat_minor": 2
}
