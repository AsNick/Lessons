{
 "cells": [
  {
   "cell_type": "code",
   "execution_count": 1,
   "metadata": {},
   "outputs": [
    {
     "name": "stdout",
     "output_type": "stream",
     "text": [
      "7\n",
      "100\n"
     ]
    }
   ],
   "source": [
    "from collections import deque\n",
    "  \n",
    "\n",
    "def bfs(y, x):\n",
    "    q = deque()\n",
    "    q.append((y, x))\n",
    "    while q:\n",
    "        c = q.popleft()\n",
    "        cy, cx = c[0], c[1]\n",
    "        g[cy][cx] = '@'\n",
    "        for dy, dx in zip((-1, 0, 0, 1), (0, -1, 1, 0)):\n",
    "            X = cx + dx\n",
    "            Y = cy + dy\n",
    "            if 0 <= X < m and 0 <= Y < n and g[Y][X] == '#':\n",
    "                g[Y][X] = '@'\n",
    "                q.append((Y, X))\n",
    "  \n",
    "  \n",
    "n, m = map(int, input().split())\n",
    "g = []\n",
    "for i in range(n):\n",
    "    g.append(list(input()))\n",
    "\n",
    "c = 0\n",
    "for y in range(n):\n",
    "    for x in range(m):\n",
    "        if g[y][x] == '#':\n",
    "            c += 1\n",
    "            bfs(y, x)\n",
    "\n",
    "print(c)"
   ]
  }
 ],
 "metadata": {
  "kernelspec": {
   "display_name": "Python 3",
   "language": "python",
   "name": "python3"
  },
  "language_info": {
   "codemirror_mode": {
    "name": "ipython",
    "version": 3
   },
   "file_extension": ".py",
   "mimetype": "text/x-python",
   "name": "python",
   "nbconvert_exporter": "python",
   "pygments_lexer": "ipython3",
   "version": "3.7.2"
  }
 },
 "nbformat": 4,
 "nbformat_minor": 2
}
