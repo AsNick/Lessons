{
 "cells": [
  {
   "cell_type": "markdown",
   "metadata": {},
   "source": [
    "**Задача e-olymp 4369 \"Поджог\".**"
   ]
  },
  {
   "cell_type": "markdown",
   "metadata": {},
   "source": [
    "Особенности задачи:  \n",
    "  \n",
    "1. Реализация **bfs** на графе, заданном списком смежности.\n",
    "2. На старте поджигаем сразу несколько вершин."
   ]
  },
  {
   "cell_type": "code",
   "execution_count": 10,
   "metadata": {},
   "outputs": [
    {
     "name": "stdout",
     "output_type": "stream",
     "text": [
      "6 6\n",
      "1 2\n",
      "2 6\n",
      "1 5\n",
      "5 6\n",
      "3 5\n",
      "4 5\n",
      "2\n",
      "1 2\n",
      "2\n",
      "3\n"
     ]
    }
   ],
   "source": [
    "from collections import deque\n",
    "\n",
    "\n",
    "def bfs(a):\n",
    "    while a:\n",
    "        cur = a.popleft()\n",
    "        for i in g[cur]:\n",
    "            if d[i] == -1:\n",
    "                d[i] = d[cur] + 1\n",
    "                a.append(i)\n",
    "\n",
    "\n",
    "n, m = map(int, input().split())\n",
    "g = [[] for i in range(n)]\n",
    "for i in range(m):\n",
    "    a, b = map(int, input().split())\n",
    "    a -= 1\n",
    "    b -= 1\n",
    "    g[b].append(a)\n",
    "    g[a].append(b)\n",
    "\n",
    "k = int(input())\n",
    "q = deque()\n",
    "a = list((map(int, input().split())))\n",
    "d = [-1] * n\n",
    "for i in a:\n",
    "    q.append(i - 1)\n",
    "    d[i - 1] = 0\n",
    "\n",
    "\n",
    "bfs(q)\n",
    "mx = max(d)\n",
    "print(mx)\n",
    "print(d.index(mx) + 1)"
   ]
  },
  {
   "cell_type": "markdown",
   "metadata": {},
   "source": [
    "**Задача acmp 128 \"Один конь\".**"
   ]
  },
  {
   "cell_type": "markdown",
   "metadata": {},
   "source": [
    "Особенности задачи:  \n",
    "  \n",
    "1. Вершины графа - клетки шахматной доски.  \n",
    "2. Ребро графа - пара вершин, таких, что коннь может сделать ход из первой во вторую и из второй в первую  \n",
    "3. Конструкция zip."
   ]
  },
  {
   "cell_type": "code",
   "execution_count": 11,
   "metadata": {},
   "outputs": [
    {
     "name": "stdout",
     "output_type": "stream",
     "text": [
      "5\n",
      "1 1\n",
      "3 1\n",
      "2\n"
     ]
    }
   ],
   "source": [
    "from collections import deque\n",
    "\n",
    "n = int(input())\n",
    "x1, y1 = map(int, input().split())\n",
    "x2, y2 = map(int, input().split())\n",
    "\n",
    "q = deque()\n",
    "d = [[-1] * n for i in range(n)]\n",
    "d[x1 - 1][y1 - 1] = 0\n",
    "q.append([x1 - 1, y1 - 1])\n",
    "  \n",
    "while q:\n",
    "    p = q.popleft()\n",
    "    for dx, dy in zip((-1, -1, 1, 1, -2, -2, 2, 2), (-2, 2, -2, 2, -1, 1, -1, 1)):\n",
    "        x = p[0] + dx\n",
    "        y = p[1] + dy\n",
    "        if 0 <= x < n and 0 <= y < n and d[x][y] == -1:\n",
    "            d[x][y] = d[p[0]][p[1]] + 1\n",
    "            q.append([x, y])\n",
    "  \n",
    "  \n",
    "print(d[x2 - 1][y2 - 1])"
   ]
  },
  {
   "cell_type": "code",
   "execution_count": null,
   "metadata": {},
   "outputs": [],
   "source": []
  },
  {
   "cell_type": "code",
   "execution_count": null,
   "metadata": {},
   "outputs": [],
   "source": []
  },
  {
   "cell_type": "code",
   "execution_count": null,
   "metadata": {},
   "outputs": [],
   "source": []
  },
  {
   "cell_type": "code",
   "execution_count": null,
   "metadata": {},
   "outputs": [],
   "source": []
  },
  {
   "cell_type": "markdown",
   "metadata": {},
   "source": [
    "**Задача acmp 432 \"Грядки\".**"
   ]
  },
  {
   "cell_type": "code",
   "execution_count": 12,
   "metadata": {},
   "outputs": [
    {
     "name": "stdout",
     "output_type": "stream",
     "text": [
      "5 10\n",
      " ##..#####.\n",
      ".#.#.#....\n",
      "###..##.#.\n",
      "..##.....#\n",
      ".###.#####\n",
      "5\n"
     ]
    }
   ],
   "source": [
    "from collections import deque\n",
    " \n",
    "\n",
    "def bfs(y, x):\n",
    "    q = deque()\n",
    "    q.append((y, x))\n",
    "    while q:\n",
    "        c = q.popleft()\n",
    "        cy, cx = c[0], c[1]\n",
    "        g[cy][cx] = '@'\n",
    "        for dy, dx in zip((-1, 0, 0, 1), (0, -1, 1, 0)):\n",
    "            X = cx + dx\n",
    "            Y = cy + dy\n",
    "            if 0 <= X < m and 0 <= Y < n and g[Y][X] == '#':\n",
    "                g[Y][X] = '@'\n",
    "                q.append((Y, X))\n",
    " \n",
    " \n",
    "n, m = map(int, input().split())\n",
    "g = []\n",
    "for i in range(n):\n",
    "    g.append(list(input()))\n",
    "\n",
    "c = 0\n",
    "for y in range(n):\n",
    "    for x in range(m):\n",
    "        if g[y][x] == '#':\n",
    "            c += 1\n",
    "            bfs(y, x)\n",
    "\n",
    "print(c)"
   ]
  },
  {
   "cell_type": "code",
   "execution_count": null,
   "metadata": {},
   "outputs": [],
   "source": [
    "\n",
    "\n",
    "\n",
    "\n",
    "\n",
    "\n"
   ]
  },
  {
   "cell_type": "code",
   "execution_count": null,
   "metadata": {},
   "outputs": [],
   "source": []
  },
  {
   "cell_type": "code",
   "execution_count": null,
   "metadata": {},
   "outputs": [],
   "source": []
  },
  {
   "cell_type": "code",
   "execution_count": null,
   "metadata": {},
   "outputs": [],
   "source": []
  },
  {
   "cell_type": "markdown",
   "metadata": {},
   "source": [
    "**Задача e-olymp 4369 \"Кратчайшее расстояние\".**"
   ]
  },
  {
   "cell_type": "markdown",
   "metadata": {},
   "source": [
    "Особенности задачи:  \n",
    "\n",
    "1. **Ориентрованный** граф задан списком смежности.\n"
   ]
  },
  {
   "cell_type": "code",
   "execution_count": 13,
   "metadata": {},
   "outputs": [
    {
     "name": "stdout",
     "output_type": "stream",
     "text": [
      "6 5\n",
      "0 1 1 0 0 0\n",
      "1 0 0 0 0 0\n",
      "1 1 0 0 0 0\n",
      "0 0 0 0 1 0\n",
      "0 0 1 1 0 0\n",
      "0 1 0 0 0 0\n",
      "2 2 1 1 0 -1\n"
     ]
    }
   ],
   "source": [
    "from collections import deque\n",
    "\n",
    "\n",
    "def bfs(x):\n",
    "    q = deque()\n",
    "    q.append(x)\n",
    "    d[x] = 0\n",
    "    while q:\n",
    "        cur = q.popleft()\n",
    "        for i in range(n):\n",
    "            if g[cur][i] and d[i] == -1:\n",
    "                d[i] = d[cur] + 1\n",
    "                q.append(i)\n",
    "\n",
    "\n",
    "n, start = map(int, input().split())\n",
    "start -= 1\n",
    "g = []\n",
    "for i in range(n):\n",
    "    g.append(list(map(int, input().split())))\n",
    "\n",
    "d = [-1] * n\n",
    "bfs(start)\n",
    "print(*d)"
   ]
  }
 ],
 "metadata": {
  "kernelspec": {
   "display_name": "Python 3",
   "language": "python",
   "name": "python3"
  },
  "language_info": {
   "codemirror_mode": {
    "name": "ipython",
    "version": 3
   },
   "file_extension": ".py",
   "mimetype": "text/x-python",
   "name": "python",
   "nbconvert_exporter": "python",
   "pygments_lexer": "ipython3",
   "version": "3.7.2"
  }
 },
 "nbformat": 4,
 "nbformat_minor": 2
}
