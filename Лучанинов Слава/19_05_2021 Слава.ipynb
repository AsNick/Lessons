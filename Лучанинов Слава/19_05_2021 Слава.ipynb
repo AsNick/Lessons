{
 "cells": [
  {
   "cell_type": "code",
   "execution_count": 2,
   "metadata": {},
   "outputs": [
    {
     "name": "stdout",
     "output_type": "stream",
     "text": [
      "5\n",
      "__M__\n",
      "_MMM_\n",
      "MMMMM\n"
     ]
    }
   ],
   "source": [
    "n = int(input())\n",
    "for i in range(1, n + 1, 2):\n",
    "    x = (n - i) // 2\n",
    "    print(f'{\"_\" * x}{\"M\" * i}{\"_\" * x}')"
   ]
  },
  {
   "cell_type": "markdown",
   "metadata": {},
   "source": [
    "1. 0\n",
    "2. 5\n",
    "3. (2, 4, 6, 8) -> (2, 4, 8, 6)\n",
    "  - сделаем 1, 2 или 3 итерации, что бы последняя цифра стала равной 2\n",
    "  - сколько циклов длины 4 помещается в k\n",
    "  - за один цикл наше число n увеличивается на 20\n",
    "4. (1,3,7,9) после первой итерации все сволится к пункту № 3"
   ]
  }
 ],
 "metadata": {
  "kernelspec": {
   "display_name": "Python 3",
   "language": "python",
   "name": "python3"
  },
  "language_info": {
   "codemirror_mode": {
    "name": "ipython",
    "version": 3
   },
   "file_extension": ".py",
   "mimetype": "text/x-python",
   "name": "python",
   "nbconvert_exporter": "python",
   "pygments_lexer": "ipython3",
   "version": "3.7.2"
  }
 },
 "nbformat": 4,
 "nbformat_minor": 2
}
