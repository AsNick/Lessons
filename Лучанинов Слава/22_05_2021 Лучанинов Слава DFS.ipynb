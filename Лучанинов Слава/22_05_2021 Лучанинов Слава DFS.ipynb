{
 "cells": [
  {
   "cell_type": "markdown",
   "metadata": {},
   "source": [
    "Что умеет $BFS$:  \n",
    "+ находить кратчайшие расстояния от вершины start до всех остальных вершин, лежащих в одной компоненте связности с вершиной start  \n",
    "+ находить все компонетны связности графа\n",
    "+ находить все вершины и ребра, лежащие на кратчайшем пути между вершинами $v_1$ и $v_2$\n"
   ]
  },
  {
   "cell_type": "markdown",
   "metadata": {},
   "source": [
    "Что умеет $DFS$: \n",
    "+ находить все компонетны связности графа\n",
    "+ находить кратчайшие расстояния от вершины start до всех остальных вершин, лежащих в одной компоненте связности с вершиной start "
   ]
  },
  {
   "cell_type": "markdown",
   "metadata": {},
   "source": [
    "Продолжим изучение возможностей $DFS$ в приложении с к особой разновидности графов - деревьям."
   ]
  },
  {
   "cell_type": "markdown",
   "metadata": {},
   "source": [
    "Дерево - это ***связный ациклический*** граф.  \n",
    "Дерево - это ***связный*** граф, состоящий из **$n$** вершин и $n - 1$ ребра. "
   ]
  },
  {
   "cell_type": "markdown",
   "metadata": {},
   "source": [
    "Пользуясь вторым определением, можно легко проверить, является граф, состоящий из $n$ вершин деревом или нет.  \n",
    "Как?  \n",
    "1. Запускаем $DFS$ из какой-нибудь вершины.  \n",
    "2. Если после отработки $DFS$ все $n$ вершин оказались посещены и количество ребер в графе равно $n - 1$, то граф - дерево."
   ]
  },
  {
   "cell_type": "markdown",
   "metadata": {},
   "source": [
    "### Корневое или подвешенное дерево."
   ]
  },
  {
   "attachments": {
    "image.png": {
     "image/png": "[encoded data removed]"
    }
   },
   "cell_type": "markdown",
   "metadata": {},
   "source": [
    "graph (10).png![image.png](attachment:image.png)"
   ]
  },
  {
   "cell_type": "markdown",
   "metadata": {},
   "source": [
    "При решении задач практически всегда возникает необходимость работать с ***корневыми*** деревьями.  \n",
    "\n",
    "***Корневым*** или ***подвешенным*** деревом называется дерево с одной выделенной вершиной 𝑟𝑜𝑜𝑡  - корнем дерева  (практически всегда  𝑟𝑜𝑜𝑡=$1$ ). Для корневого дерева можно ввести следующие понятия:"
   ]
  },
  {
   "cell_type": "markdown",
   "metadata": {},
   "source": [
    "* $h[v]$ - ***высота*** вершины $v$ ($height[v]$), равняется расстоянию от вершины $root$ до вершины $v$. Например, $h[root]$ всегда равно $0$, а в дереве на рисунке выше при $root = 1$, $h[8] = 3$, $h[5] = 2$;"
   ]
  },
  {
   "cell_type": "markdown",
   "metadata": {},
   "source": [
    "* $p[v]$ - ***предок*** вершины $v$ ($parent[v]$), а именно единственная вершина на высоте $h[v] - 1$, соединенная ребром с вершиной $v$. Для удобства считается, что $p[root] = root$. Например, в дереве на рисунке выше $p[1] = 1$, $p[8] = 6$, $p[5] = 3$;\n"
   ]
  },
  {
   "cell_type": "markdown",
   "metadata": {},
   "source": [
    "* $subtree$ of $v$ - ***поддерево*** вершины $v$, а именно множество всех вершин, в которые можно добраться из $v$, не проходя через вершину $p[v]$. В частности, поддерево вершины $root$ всегда является полным множеством всех вершин дерева.  \n",
    "В дереве на рисунке выше $subtree(1)$ = {$1, 2, 3, 4, 5, 6, 7, 8, 9$}, $subtree(6)$ = {$6, 8, 9$}, $subtree(5)$ = {$5$};\n"
   ]
  },
  {
   "cell_type": "markdown",
   "metadata": {},
   "source": [
    "* $sz[v]$ - ***размер поддерева*** вершины $v$ ($size[v]$), а именно кол-во вершин в поддереве вершины $v$."
   ]
  },
  {
   "cell_type": "markdown",
   "metadata": {},
   "source": [
    "Зададим граф списком смежности и инициализируем вспомогательные структуры:"
   ]
  },
  {
   "cell_type": "code",
   "execution_count": 9,
   "metadata": {},
   "outputs": [],
   "source": [
    "g = [[1, 2], [0, 5], [0, 3, 4, 6], [2], [2], [1, 7, 8], [2], [5], [5]]\n",
    "n = len(g)\n",
    "used = [0] * n\n",
    "h = [-1] * n\n",
    "p = [-1] * n\n",
    "sz = [0] * n\n",
    "root = 0\n",
    "p[root] = root\n",
    "h[root] = root"
   ]
  },
  {
   "cell_type": "markdown",
   "metadata": {},
   "source": [
    "#### Задание №1."
   ]
  },
  {
   "cell_type": "markdown",
   "metadata": {},
   "source": [
    "Для каждой вершины $v$ дерева на рисунке $10$ вручную выписать $h[v]$, $p[v]$, $subtree(v)$, $sz[v]$.\n",
    "  \n",
    "Массив высот:                h = []  \n",
    "Массив предков                p = []   \n",
    "Список поддеревьев  \n",
    "Массив размера поддеревьев      sz = []"
   ]
  },
  {
   "cell_type": "markdown",
   "metadata": {},
   "source": [
    "Массив высот: h = [0, 1, 1, 2, 2, 2, 2, 3, 3]  \n",
    "\n",
    "Массив предков p = [0, 0, 0, 2, 2, 1, 2, 5, 5]  \n",
    "\n",
    "Массив размера поддеревьев sz = [9, 4, 4, 1, 1, 3, 1, 1, 1]\n"
   ]
  },
  {
   "cell_type": "markdown",
   "metadata": {},
   "source": [
    "#### Задание №2."
   ]
  },
  {
   "cell_type": "markdown",
   "metadata": {},
   "source": [
    "Написать программу, которая выполняет ***dfs*** обход дерева, автоматически подсчитывая массивы $h$, $p$, $sz$.  \n",
    "Программа должна считывать $n$ и $root$ в первой строке, а затем $(n - 1)$ строку - ребра дерева, а выводить $3$ массива - $h$, $p$, $sz$. "
   ]
  },
  {
   "cell_type": "markdown",
   "metadata": {},
   "source": [
    "Запустить программу на тесте, соответствующем рисунку $10$, и убедиться,  \n",
    "что массивы $h$, $p$, $sz$ совпадают с массивами, найденными в задании №$1$."
   ]
  },
  {
   "cell_type": "markdown",
   "metadata": {},
   "source": [
    "#### Обход дерева."
   ]
  },
  {
   "cell_type": "markdown",
   "metadata": {},
   "source": [
    "Базовая реализация ***dfs***:"
   ]
  },
  {
   "cell_type": "code",
   "execution_count": 10,
   "metadata": {},
   "outputs": [
    {
     "name": "stdout",
     "output_type": "stream",
     "text": [
      "Массив высот: h = [0, -1, -1, -1, -1, -1, -1, -1, -1]\n",
      "Массив предков p = [0, -1, -1, -1, -1, -1, -1, -1, -1]\n",
      "Массив размера поддеревьев sz = [0, 0, 0, 0, 0, 0, 0, 0, 0]\n"
     ]
    }
   ],
   "source": [
    "def dfs(v):\n",
    "    used[v] = 1\n",
    "    for to in g[v]:\n",
    "        if not used[to]:\n",
    "            dfs(to)\n",
    "\n",
    "\n",
    "dfs(root)\n",
    "\n",
    "print(f'Массив высот: h = {h}')\n",
    "print(f'Массив предков p = {p}')\n",
    "print(f'Массив размера поддеревьев sz = {sz}')"
   ]
  },
  {
   "cell_type": "markdown",
   "metadata": {},
   "source": [
    "* Для того, чтобы обойти все вершины дерева, достаточно реализовать рекурсивную функцию ***dfs***$(v)$, которая будет обходить все вершины поддерева $v$.  \n",
    "Для этого достаточно перебрать все смежные с вершиной $v$ вершины $to$ и в случае если $to \\neq p[v]$, нужно выставить предка вершины $to$ $(p[to] = v)$ и запустить ***dfs***$(to)$.  "
   ]
  },
  {
   "cell_type": "markdown",
   "metadata": {},
   "source": [
    "* Такая реализация ***dfs*** на дереве автоматически подсчитывает массив предков $p$."
   ]
  },
  {
   "cell_type": "code",
   "execution_count": 17,
   "metadata": {},
   "outputs": [
    {
     "name": "stdout",
     "output_type": "stream",
     "text": [
      "Массив высот: h = [0, 1, 1, 2, 2, 2, 2, 3, 3]\n",
      "Массив предков p = [0, 0, 0, 2, 2, 1, 2, 5, 5]\n",
      "Массив размера поддеревьев sz = [9, 4, 4, 1, 1, 3, 1, 1, 1]\n"
     ]
    }
   ],
   "source": [
    "def dfs(v):\n",
    "    #used[v] = 1\n",
    "    for to in g[v]:\n",
    "        if to != p[v]:\n",
    "            p[to] = v\n",
    "            dfs(to)\n",
    "\n",
    "\n",
    "dfs(root)\n",
    "\n",
    "print(f'Массив высот: h = {h}')\n",
    "print(f'Массив предков p = {p}')\n",
    "print(f'Массив размера поддеревьев sz = {sz}')"
   ]
  },
  {
   "cell_type": "markdown",
   "metadata": {},
   "source": [
    "* Для того чтобы посчитать массив высот $h$, необходимо перед вызовом ***dfs***($to$) просто присвоить $h[to] = h[v] + 1$. "
   ]
  },
  {
   "cell_type": "code",
   "execution_count": 18,
   "metadata": {},
   "outputs": [
    {
     "name": "stdout",
     "output_type": "stream",
     "text": [
      "Массив высот: h = [0, 1, 1, 2, 2, 2, 2, 3, 3]\n",
      "Массив предков p = [0, 0, 0, 2, 2, 1, 2, 5, 5]\n",
      "Массив размера поддеревьев sz = [9, 4, 4, 1, 1, 3, 1, 1, 1]\n"
     ]
    }
   ],
   "source": [
    "def dfs(v):\n",
    "    #used[v] = 1\n",
    "    for to in g[v]:\n",
    "        if to != p[v]:\n",
    "            p[to] = v\n",
    "            h[to] = h[v] + 1\n",
    "            dfs(to)\n",
    "\n",
    "\n",
    "dfs(root)\n",
    "\n",
    "print(f'Массив высот: h = {h}')\n",
    "print(f'Массив предков p = {p}')\n",
    "print(f'Массив размера поддеревьев sz = {sz}')"
   ]
  },
  {
   "cell_type": "markdown",
   "metadata": {},
   "source": [
    "* Для подсчета массива $sz$ можно воспользоваться рекуррентной формулой: $sz[v] = 1 + \\sum_{to \\neq p[v]} sz[to]$."
   ]
  },
  {
   "cell_type": "code",
   "execution_count": 13,
   "metadata": {},
   "outputs": [
    {
     "name": "stdout",
     "output_type": "stream",
     "text": [
      "Массив высот: h = [0, 1, 1, 2, 2, 2, 2, 3, 3]\n",
      "Массив предков p = [0, 0, 0, 2, 2, 1, 2, 5, 5]\n",
      "Массив размера поддеревьев sz = [9, 4, 4, 1, 1, 3, 1, 1, 1]\n"
     ]
    }
   ],
   "source": [
    "def dfs(v):\n",
    "    sz[v] = 1\n",
    "    for to in g[v]:\n",
    "        if to != p[v]:\n",
    "            p[to] = v\n",
    "            h[to] = h[v] + 1\n",
    "            dfs(to)\n",
    "            sz[v] += sz[to] \n",
    "\n",
    "\n",
    "dfs(root)\n",
    "\n",
    "print(f'Массив высот: h = {h}')\n",
    "print(f'Массив предков p = {p}')\n",
    "print(f'Массив размера поддеревьев sz = {sz}')"
   ]
  },
  {
   "cell_type": "markdown",
   "metadata": {},
   "source": [
    "#### Задание №3."
   ]
  },
  {
   "cell_type": "markdown",
   "metadata": {},
   "source": [
    "Не запуская программу, написанную в задании №$2$, выпишите порядок вершин, в котором функция dfs посетит все вершины дерева.  \n",
    "\n",
    "**Ответ:** $0\\rightarrow1\\rightarrow5\\rightarrow7\\rightarrow8\\rightarrow2\\rightarrow3\\rightarrow4\\rightarrow6$\t\t\t"
   ]
  },
  {
   "cell_type": "markdown",
   "metadata": {},
   "source": [
    "####  Задание №4."
   ]
  },
  {
   "cell_type": "markdown",
   "metadata": {},
   "source": [
    "Модифицируйте программу, написанную в задании №$2$ так, чтобы она находила и выводила массив $order$ - список всех вершин в порядке посещения. Убедитесь, что полученный массив $order$ совпадает с порядком вершин, выписанным в задании №$3$.\n"
   ]
  },
  {
   "cell_type": "code",
   "execution_count": 16,
   "metadata": {},
   "outputs": [
    {
     "name": "stdout",
     "output_type": "stream",
     "text": [
      "[0, 1, 5, 7, 8, 2, 3, 4, 6]\n"
     ]
    }
   ],
   "source": [
    "def dfs(v):\n",
    "    order.append(v)\n",
    "    for to in g[v]:\n",
    "        if to != p[v]:\n",
    "            p[to] = v\n",
    "            dfs(to)\n",
    "            \n",
    "order = []\n",
    "dfs(root)\n",
    "print(order)"
   ]
  },
  {
   "cell_type": "markdown",
   "metadata": {},
   "source": [
    "#### Определение:"
   ]
  },
  {
   "cell_type": "markdown",
   "metadata": {},
   "source": [
    "+ Назовем **tin[v]** ($time$_$in[v]$) - время входа в вершину $v$ в процессе обхода дерева.  \n",
    "  А именно, **tin[v]** - это позиция вершины $v$ массиве $order$.   \n",
    "\n",
    "+ Аналогично скажем, что **tout[v]** - это время выхода из вершины $v$ в процессе обхода дерева.  \n",
    "  А именно, **tout[v]** - это самая правая позиция какой-то вершины $x \\in subtree(v)$в массиве $order$.\n"
   ]
  },
  {
   "cell_type": "markdown",
   "metadata": {},
   "source": [
    "#### Задание №5."
   ]
  },
  {
   "cell_type": "markdown",
   "metadata": {},
   "source": [
    "Выпишите, чему равны массивы **tin** и **tout** для дерева, соответствующего рисунку $1$."
   ]
  },
  {
   "cell_type": "markdown",
   "metadata": {},
   "source": [
    "#### Решение:"
   ]
  },
  {
   "cell_type": "markdown",
   "metadata": {},
   "source": [
    "**tin** =   $[0, 1, 5, 6, 7, 2, 8, 3, 4]$\t"
   ]
  },
  {
   "cell_type": "markdown",
   "metadata": {},
   "source": [
    "**tout** = $[8, 4, 8, 6, 7, 4, 8, 3, 4]\t$"
   ]
  },
  {
   "cell_type": "markdown",
   "metadata": {},
   "source": [
    "#### Задание №6."
   ]
  },
  {
   "cell_type": "markdown",
   "metadata": {},
   "source": [
    "Модифицируйте программу, написанную в задании №$4$ так, чтобы она находила выводила массивы **tin** и **tout**.  \n",
    "Убедитесь, что полученные массивы совпадают с соответствующими массивами, выписанным в задании №$5$."
   ]
  },
  {
   "cell_type": "markdown",
   "metadata": {},
   "source": [
    "Для того, чтобы посчитать значения **tin[v]**, достаточно в самом начале функции **dfs** присвоить $tin[v] = len(order)$.  \n",
    "Аналогично, для подсчета значений **tout[v]**, достаточно в конце функции **dfs** присвоить $tout[v] = len(order) - 1$."
   ]
  },
  {
   "cell_type": "code",
   "execution_count": 21,
   "metadata": {},
   "outputs": [],
   "source": [
    "def dfs(v):\n",
    "    tin[v] = len(order)\n",
    "    order.append(v)\n",
    "    for to in g[v]:\n",
    "        if to != p[v]:\n",
    "            p[to] = v\n",
    "            dfs(to)\n",
    "    tout[v] = len(order) - 1\n",
    "    "
   ]
  },
  {
   "cell_type": "code",
   "execution_count": 23,
   "metadata": {},
   "outputs": [
    {
     "name": "stdout",
     "output_type": "stream",
     "text": [
      "[0, 1, 2, 3, 4, 5, 6, 7, 8]\n",
      "[0, 1, 5, 7, 8, 2, 3, 4, 6]\n",
      "[0, 1, 5, 6, 7, 2, 8, 3, 4]\n",
      "[8, 4, 8, 6, 7, 4, 8, 3, 4]\n"
     ]
    }
   ],
   "source": [
    "order = []\n",
    "tin = [0] * n\n",
    "tout = [0] * n\n",
    "dfs(root)\n",
    "print([i for i in range(9)])\n",
    "print(order)\n",
    "print(tin)\n",
    "print(tout)\n"
   ]
  },
  {
   "cell_type": "markdown",
   "metadata": {},
   "source": [
    "Если посмотреть внимательно на массивы **tin** и **tout**, то можно заметить, что подотрезок массива $order$ от **tin[v]** до **tout[v]** будет представлять собой все вершины из поддерева $v$.\n"
   ]
  },
  {
   "cell_type": "markdown",
   "metadata": {},
   "source": [
    "#### Задание №7."
   ]
  },
  {
   "cell_type": "markdown",
   "metadata": {},
   "source": [
    "Используя массивы **tin** и **tout** вывести список вершин $subtree(v)$ для каждой вершины $v$."
   ]
  },
  {
   "cell_type": "markdown",
   "metadata": {},
   "source": [
    "#### Решение:"
   ]
  },
  {
   "cell_type": "markdown",
   "metadata": {},
   "source": [
    "$subtree(v) =  [[1, 2, 6, 8, 9, 3, 4, 5, 7], [2, 6, 8, 9], [3, 4, 5, 7], [4], [5], [6, 8, 9], [7], [8], [9]]$"
   ]
  },
  {
   "cell_type": "code",
   "execution_count": 27,
   "metadata": {},
   "outputs": [
    {
     "name": "stdout",
     "output_type": "stream",
     "text": [
      "subtree(0) = [0, 1, 5, 7, 8, 2, 3, 4, 6]\n",
      "subtree(1) = [1, 5, 7, 8]\n",
      "subtree(2) = [2, 3, 4, 6]\n",
      "subtree(3) = [3]\n",
      "subtree(4) = [4]\n",
      "subtree(5) = [5, 7, 8]\n",
      "subtree(6) = [6]\n",
      "subtree(7) = [7]\n",
      "subtree(8) = [8]\n"
     ]
    }
   ],
   "source": [
    "for v in range(n):\n",
    "    print(f'subtree({v}) = {order[tin[v]:tout[v] + 1]}')"
   ]
  },
  {
   "cell_type": "markdown",
   "metadata": {},
   "source": [
    "#### Проверка того, что одна вершина является предком другой."
   ]
  },
  {
   "cell_type": "markdown",
   "metadata": {},
   "source": [
    "Если вершина $a$ является предком вершины $b$, то поддерево вершины $a$ содержит все вершины из поддерева $b$: $subtree(b) \\subset subtree(a)$."
   ]
  },
  {
   "cell_type": "markdown",
   "metadata": {},
   "source": [
    "Поскольку поддерево любой вершины $v$ однозначно задается отрезком $[tin[v], tout[v]]$, то получаем простой критерий того, что вершина $a$ является предком $b$: "
   ]
  },
  {
   "cell_type": "markdown",
   "metadata": {},
   "source": [
    "+ $tin[a] \\leq tin[b] \\leq tout[b] \\leq tout[a]$"
   ]
  },
  {
   "cell_type": "markdown",
   "metadata": {},
   "source": [
    "#### Задание №8."
   ]
  },
  {
   "cell_type": "markdown",
   "metadata": {},
   "source": [
    "Реализовать функцию $is\\_ancestor(a, b)$, которая возвращает $True$, если вершина $a$ является предком $b$, и $False$ в противном случае. Вывести значение данной функции для всех пар вершин $u$, $v$."
   ]
  },
  {
   "cell_type": "code",
   "execution_count": 28,
   "metadata": {},
   "outputs": [],
   "source": [
    "def is_ancestor(a, b):\n",
    "    return tin[a] <= tin[b] <= tout[b] <= tout[a]"
   ]
  },
  {
   "cell_type": "code",
   "execution_count": 29,
   "metadata": {},
   "outputs": [
    {
     "name": "stdout",
     "output_type": "stream",
     "text": [
      "1 1 1 1 1 1 1 1 1 \n",
      "0 1 0 0 0 1 0 1 1 \n",
      "0 0 1 1 1 0 1 0 0 \n",
      "0 0 0 1 0 0 0 0 0 \n",
      "0 0 0 0 1 0 0 0 0 \n",
      "0 0 0 0 0 1 0 1 1 \n",
      "0 0 0 0 0 0 1 0 0 \n",
      "0 0 0 0 0 0 0 1 0 \n",
      "0 0 0 0 0 0 0 0 1 \n"
     ]
    }
   ],
   "source": [
    "for i in range(n):\n",
    "    for j in range(n):\n",
    "        print(1 if is_ancestor(i, j) else 0, end=' ')\n",
    "    print()"
   ]
  },
  {
   "cell_type": "markdown",
   "metadata": {},
   "source": [
    "#### Задание №9. "
   ]
  },
  {
   "cell_type": "markdown",
   "metadata": {},
   "source": [
    "Сдать задачу “Предок” (e-olimp № $1941$)."
   ]
  },
  {
   "cell_type": "code",
   "execution_count": 16,
   "metadata": {},
   "outputs": [],
   "source": [
    "#TODO"
   ]
  },
  {
   "cell_type": "markdown",
   "metadata": {},
   "source": [
    "#### Определение:"
   ]
  },
  {
   "cell_type": "markdown",
   "metadata": {},
   "source": [
    "+ **Наименьшим общим предком** ($least$ $common$ $ancestor$) двух вершин $a$ и $b$ называется такая вершина $c$, которая одновременно является и предком $a$, и предком $b$, а ее высота $h[c]$ - максимально возможная (находится как можно дальше от $root$).\n",
    "    "
   ]
  },
  {
   "cell_type": "markdown",
   "metadata": {},
   "source": [
    "#### Задание №10."
   ]
  },
  {
   "cell_type": "markdown",
   "metadata": {},
   "source": [
    "Постройте вручную табличку, в которую запишите значение наименьшего общего предка для каждой пары вершин $a$, $b$."
   ]
  },
  {
   "cell_type": "code",
   "execution_count": null,
   "metadata": {},
   "outputs": [],
   "source": []
  }
 ],
 "metadata": {
  "kernelspec": {
   "display_name": "Python 3",
   "language": "python",
   "name": "python3"
  },
  "language_info": {
   "codemirror_mode": {
    "name": "ipython",
    "version": 3
   },
   "file_extension": ".py",
   "mimetype": "text/x-python",
   "name": "python",
   "nbconvert_exporter": "python",
   "pygments_lexer": "ipython3",
   "version": "3.7.2"
  }
 },
 "nbformat": 4,
 "nbformat_minor": 2
}
