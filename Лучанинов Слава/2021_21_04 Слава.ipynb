{
 "cells": [
  {
   "cell_type": "markdown",
   "metadata": {},
   "source": [
    "1. Считывем количество вершин (n).\n",
    "2. Считываем матрицу смежности графа.\n",
    "3. Считываем номера вершин start, finish\n",
    "4. Создаем массив d длины n. В этом массиве будем хранить расстояния от вершины start до всех остальных вершин, до которых можем добраться. Изначально массив заполнен -1.\n",
    "5. Напишем функцию bfs (Breadth First Search)\n",
    "6. Запускаем bfs из вершины start\n",
    "7. $d[finish]$ "
   ]
  },
  {
   "cell_type": "code",
   "execution_count": null,
   "metadata": {},
   "outputs": [],
   "source": [
    "from collections import deque\n",
    "\n",
    "\n",
    "def bfs(x):\n",
    "    d[x] = 0\n",
    "    q.append(x)\n",
    "    while q:\n",
    "        cur = q.popleft()\n",
    "        for i in range(n):\n",
    "            if g[cur][i] == 1 and d[i] == -1:\n",
    "                d[i] = d[cur] + 1\n",
    "                q.append(i)\n",
    "\n",
    "\n",
    "n = int(input())\n",
    "g = []\n",
    "for i in range(n):\n",
    "    g.append(list(map(int, input().split())))\n",
    "start, finish = map(int, input().split())\n",
    "start -= 1\n",
    "finish -= 1\n",
    "\n",
    "d = [-1] * n\n",
    "q = deque()\n",
    "\n",
    "bfs(start)\n",
    "print(d[finish])\n",
    "print(d)"
   ]
  }
 ],
 "metadata": {
  "kernelspec": {
   "display_name": "Python 3",
   "language": "python",
   "name": "python3"
  },
  "language_info": {
   "codemirror_mode": {
    "name": "ipython",
    "version": 3
   },
   "file_extension": ".py",
   "mimetype": "text/x-python",
   "name": "python",
   "nbconvert_exporter": "python",
   "pygments_lexer": "ipython3",
   "version": "3.7.2"
  }
 },
 "nbformat": 4,
 "nbformat_minor": 2
}
