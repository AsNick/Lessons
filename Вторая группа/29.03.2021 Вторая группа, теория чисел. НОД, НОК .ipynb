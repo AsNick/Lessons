{
 "cells": [
  {
   "cell_type": "markdown",
   "metadata": {},
   "source": [
    "Что мы умеем:"
   ]
  },
  {
   "cell_type": "markdown",
   "metadata": {},
   "source": [
    "+ Находить все делители числа $n$ за $O(\\sqrt{n})$"
   ]
  },
  {
   "cell_type": "code",
   "execution_count": 1,
   "metadata": {},
   "outputs": [],
   "source": [
    "def divisor(n):\n",
    "    d = []\n",
    "    for x in range(1, 1 + int(n ** .5)):\n",
    "        if n % x == 0:\n",
    "            d.append(x)\n",
    "            y = n // x\n",
    "            if y != x:\n",
    "                d.append(y)\n",
    "    return d"
   ]
  },
  {
   "cell_type": "markdown",
   "metadata": {},
   "source": [
    "+ Проверять число $n$ на простоту за $O(\\sqrt{n})$"
   ]
  },
  {
   "cell_type": "code",
   "execution_count": 2,
   "metadata": {},
   "outputs": [],
   "source": [
    "def is_prime(n):\n",
    "    if n == 2:\n",
    "        return True\n",
    "    if n < 2 or n % 2 == 0:\n",
    "        return False\n",
    "    for x in range(3, 1 + int(n ** .5), 2):\n",
    "        if n % x == 0:\n",
    "            return False\n",
    "    return True"
   ]
  },
  {
   "cell_type": "markdown",
   "metadata": {},
   "source": [
    "+ С помощью алгоритма \"Решето Эратосфена\" находить все простые числа на интервале $[1,...,n]$ за $O(n \\cdot \\log(\\log({n}))$"
   ]
  },
  {
   "cell_type": "code",
   "execution_count": 3,
   "metadata": {},
   "outputs": [],
   "source": [
    "def eratosthenes(n):\n",
    "    a = [True] * (n + 1)\n",
    "    a[0] = False\n",
    "    a[1] = False\n",
    "    p = []\n",
    "\n",
    "    for i in range(n + 1):\n",
    "        if a[i]:\n",
    "            p.append(i)\n",
    "            for j in range(i * i, n + 1, i):\n",
    "                a[j] = False\n",
    "    return p"
   ]
  },
  {
   "cell_type": "markdown",
   "metadata": {},
   "source": [
    "+ Выполнять разложение числа $n$ на простые множители (факторизация числа) в худшем случае за $O(\\sqrt(n)$"
   ]
  },
  {
   "cell_type": "code",
   "execution_count": 4,
   "metadata": {},
   "outputs": [],
   "source": [
    "def factor(x):\n",
    "    d = 2\n",
    "    p = []\n",
    "    while d * d <= x:\n",
    "        while x % d == 0:\n",
    "            x //= d\n",
    "            p.append(d)\n",
    "        d += 1\n",
    "    if x > 1:\n",
    "        p.append(x)\n",
    "    return p"
   ]
  },
  {
   "cell_type": "markdown",
   "metadata": {},
   "source": [
    "Сегодня мы научимся эффективно находить   \n",
    "НОД(a, b) - наибольший общий делитель чисел $a$ и $b$   \n",
    "НОК(a, b) - наименьшее общее кратное чисел $a$ и $b$"
   ]
  },
  {
   "cell_type": "markdown",
   "metadata": {},
   "source": [
    "### Наибольший общий делитель."
   ]
  },
  {
   "cell_type": "markdown",
   "metadata": {},
   "source": [
    "Определение:\n",
    "\n",
    "Наибольшим общим делителем (НОД) для двух целых чисел $m$ и $n$ называется наибольший из их общих делителей.   \n",
    "Наибольший общий делитель существует и однозначно определён, если хотя бы одно из чисел $m$ или $n$ не равно нулю.\n",
    "\n",
    "Возможные обозначения наибольшего общего делителя чисел $m$ и $n$:\n",
    "\n",
    "НОД(m, n)  \n",
    "$(m,n)$  \n",
    "$gcd(m,n)$ (от англ. greatest common divisor);\n",
    "\n",
    "Пример\n",
    "\n",
    "Найдем НОД(12, 44):  \n",
    "\n",
    "$d(12) = [1, 2, 3, 4, 6, 12]$  \n",
    "$d(44) = [1, 2, 4, 11, 22, 44]$  \n",
    "НОД(12, 44) = 4"
   ]
  },
  {
   "cell_type": "markdown",
   "metadata": {},
   "source": [
    "#### 1. Наивный алгоритм нахождения НОД(a, b)"
   ]
  },
  {
   "cell_type": "code",
   "execution_count": 11,
   "metadata": {},
   "outputs": [
    {
     "name": "stdout",
     "output_type": "stream",
     "text": [
      "12\n"
     ]
    }
   ],
   "source": [
    "a, b = 12, 36\n",
    "a, b = min(a, b), max(a, b)\n",
    "\n",
    "d = 1\n",
    "for x in range(1, 1 + int(a ** .5)):\n",
    "    if a % x == 0:\n",
    "        if b % x == 0:\n",
    "            d = x\n",
    "        y = a // x\n",
    "        if b % y == 0:\n",
    "            d = y\n",
    "            break\n",
    "print(d)"
   ]
  },
  {
   "cell_type": "markdown",
   "metadata": {},
   "source": [
    "Вычислительная сложность алгоритма $O(\\sqrt{min(a, b)}$\n",
    "\n"
   ]
  },
  {
   "cell_type": "markdown",
   "metadata": {},
   "source": [
    "#### 2. Алгоритм Евклида."
   ]
  },
  {
   "cell_type": "markdown",
   "metadata": {},
   "source": [
    "Алгоритм Евклида - эффективный способ быстро находить наибольший общий делитель двух целых неотрицательных чисел $n$ и $m$."
   ]
  },
  {
   "cell_type": "markdown",
   "metadata": {},
   "source": [
    "+ **2.1 Алгоритм Евклида вычитанием.**"
   ]
  },
  {
   "cell_type": "markdown",
   "metadata": {},
   "source": [
    "Заметим, что\n",
    "\n",
    "       НОД(a, a) = a                                          (1)\n",
    "       НОД(a, 0) = a                                          (2)\n",
    "       НОД(a, 1) = 1                                          (3) \n",
    "       НОД(a, b) = НОД(a - b, b)   при a > b                  (4)"
   ]
  },
  {
   "cell_type": "markdown",
   "metadata": {},
   "source": [
    "Последнее равенство позволяет нам организовать следующий процесс для чисел $a$ и $b$:"
   ]
  },
  {
   "cell_type": "markdown",
   "metadata": {},
   "source": [
    "(8, 26)  \n",
    "\n",
    "(26 - 8, 8) = (18, 8)  \n",
    "(18 - 8, 8) = (10, 8)  \n",
    "(10 - 8, 8) = (2, 8)  \n",
    "(8 - 2, 2) = (6, 2)  \n",
    "(6 - 2, 2) = (4, 2)  \n",
    "(4 - 2, 2) = (2, 2)  \n",
    "(2 - 2, 2) = (2, 0)"
   ]
  },
  {
   "cell_type": "code",
   "execution_count": 17,
   "metadata": {},
   "outputs": [],
   "source": [
    "def gcd(a, b):\n",
    "    while b > 0:\n",
    "        if a > b:\n",
    "            a -= b\n",
    "        else:\n",
    "            b -= a\n",
    "    return a"
   ]
  },
  {
   "cell_type": "code",
   "execution_count": 18,
   "metadata": {},
   "outputs": [
    {
     "name": "stdout",
     "output_type": "stream",
     "text": [
      "2\n"
     ]
    }
   ],
   "source": [
    "print(gcd(8, 26))"
   ]
  },
  {
   "cell_type": "markdown",
   "metadata": {},
   "source": [
    "+ **2.2 Алгоритм Евклида делением.**\n",
    "\n",
    "Вместо того, чтобы много раз вычитать из числа $a$ число $b$, можно сразу от  \n",
    "числа $a$ отнять выражение $k\\cdot b$, где $k = a\\div b$ (целочисленное деление $a$ на $b$).   \n",
    "  \n",
    "  \n",
    "Помним, что $a - (a\\div b)\\cdot b = a$ % $b$  \n",
    "В результате получим процесс $(a, b)\\rightarrow (b, a$ % $b)$.  \n",
    "Процесс продолжаем, пока $b > 0$.  \n",
    "На выходе получим пару $(a, 0)$, НОД которой равен $a$."
   ]
  },
  {
   "cell_type": "markdown",
   "metadata": {},
   "source": [
    "Реализация алгоритма Евклида делением \"вручную\" для чисел $n = 36, m = 124$:\n",
    "\n",
    "НОД(36, 124) $\\rightarrow$  \n",
    "НОД(36, 124 % 36)$\\rightarrow$  \n",
    "НОД(36, 16) $\\rightarrow$  \n",
    "НОД(36 % 16, 16) $\\rightarrow$  \n",
    "НОД(4, 16) $\\rightarrow$  \n",
    "НОД(4, 16 % 4) $\\rightarrow$\n",
    "НОД(4, 0)"
   ]
  },
  {
   "cell_type": "markdown",
   "metadata": {},
   "source": [
    "Програмная реализация:"
   ]
  },
  {
   "cell_type": "code",
   "execution_count": 14,
   "metadata": {},
   "outputs": [],
   "source": [
    "def gcd_(a, b):\n",
    "    while a * b > 0:\n",
    "        a, b = b, a % b\n",
    "    return a + b"
   ]
  },
  {
   "cell_type": "code",
   "execution_count": 15,
   "metadata": {},
   "outputs": [
    {
     "name": "stdout",
     "output_type": "stream",
     "text": [
      "4\n"
     ]
    }
   ],
   "source": [
    "print(gcd_(36, 124))"
   ]
  },
  {
   "cell_type": "markdown",
   "metadata": {},
   "source": [
    "+ **2.3 Библиотека math.**"
   ]
  },
  {
   "cell_type": "markdown",
   "metadata": {},
   "source": [
    "Начиная с версии 3.x в языке программирования Python появилась библиотечная реализация нахождения НОД."
   ]
  },
  {
   "cell_type": "code",
   "execution_count": 16,
   "metadata": {},
   "outputs": [
    {
     "name": "stdout",
     "output_type": "stream",
     "text": [
      "57 3478\n",
      "1\n"
     ]
    }
   ],
   "source": [
    "from math import gcd\n",
    "\n",
    "a, b = map(int, input().split())\n",
    "print(gcd(a, b))"
   ]
  },
  {
   "cell_type": "markdown",
   "metadata": {},
   "source": [
    "### Наименьшее общее кратное.\n"
   ]
  },
  {
   "cell_type": "markdown",
   "metadata": {},
   "source": [
    "**Наиме́ньшее о́бщее кра́тное** двух целых чисел $m$ и $n$ есть наименьшее натуральное число, которое делится на $m$ и $n$ без остатка, то есть кратно им обоим. Обозначается одним из следующих способов:\n",
    "\n",
    "${\\displaystyle \\mathrm {HOK} (m,n)}$;  \n",
    "${\\displaystyle [m,n]}$;  \n",
    "${\\displaystyle \\mathrm {LCM} (m,n)}\\, или\\, {\\displaystyle \\mathrm {lcm} (m,n)}$ (от англ. least common multiple)\n"
   ]
  },
  {
   "cell_type": "markdown",
   "metadata": {},
   "source": [
    "**Наименьшее общее кратное для нескольких чисел** — это наименьшее натуральное число, которое делится на каждое из этих чисел."
   ]
  },
  {
   "cell_type": "markdown",
   "metadata": {},
   "source": [
    "**Нахождение НОК.**  \n",
    "\n",
    "Пусть известно каноническое разложение чисел $a$ и $b$ на простые множители:\n",
    "\n",
    "${\\displaystyle a=p_{1}^{d_{1}}\\cdot \\dots \\cdot p_{k}^{d_{k}},}$  \n",
    "${\\displaystyle b=p_{1}^{e_{1}}\\cdot \\dots \\cdot p_{k}^{e_{k}},}$\n",
    "\n",
    "Тогда ${\\displaystyle \\mathrm {HOK} (a,b)}$ вычисляется по формуле:\n",
    "\n",
    "${\\displaystyle \\operatorname {lcm} (a,b)=p_{1}^{\\max(d_{1},e_{1})}\\cdot \\dots \\cdot p_{k}^{\\max(d_{k},e_{k})}.}$"
   ]
  },
  {
   "cell_type": "markdown",
   "metadata": {},
   "source": [
    "Задание: найдите lcm(36, 124)"
   ]
  },
  {
   "cell_type": "markdown",
   "metadata": {},
   "source": [
    "36  = 2 * 2 * 3 * 3\n",
    "124 = 2 * 2 * 31\n",
    "\n",
    "HOK(36, 124) = 2 ^ 2 * 3 ^ 2 * 31  \n",
    "\n",
    "\n",
    "НОК(36, 124) = (36 * 124) // НОД(36, 124)"
   ]
  },
  {
   "cell_type": "markdown",
   "metadata": {},
   "source": [
    "Связь НОК(a, b) c НОД(a, b)."
   ]
  },
  {
   "cell_type": "markdown",
   "metadata": {},
   "source": [
    "НОД(36, 124) = 2 ^ 2 "
   ]
  },
  {
   "cell_type": "markdown",
   "metadata": {},
   "source": [
    "$$\\operatorname {lcm}[a,b]={\\frac  {|a\\cdot b|}{\\operatorname {gcd}(a,b)}}$$"
   ]
  },
  {
   "cell_type": "code",
   "execution_count": null,
   "metadata": {},
   "outputs": [],
   "source": []
  }
 ],
 "metadata": {
  "kernelspec": {
   "display_name": "Python 3",
   "language": "python",
   "name": "python3"
  },
  "language_info": {
   "codemirror_mode": {
    "name": "ipython",
    "version": 3
   },
   "file_extension": ".py",
   "mimetype": "text/x-python",
   "name": "python",
   "nbconvert_exporter": "python",
   "pygments_lexer": "ipython3",
   "version": "3.7.2"
  }
 },
 "nbformat": 4,
 "nbformat_minor": 2
}
