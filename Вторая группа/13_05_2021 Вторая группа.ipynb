{
 "cells": [
  {
   "cell_type": "code",
   "execution_count": 3,
   "metadata": {},
   "outputs": [
    {
     "name": "stdout",
     "output_type": "stream",
     "text": [
      "dfsghj4Hghjk\n",
      "True\n"
     ]
    }
   ],
   "source": [
    "def is_password_good(password):\n",
    "    request = 0\n",
    "    if len(password) >= 8:\n",
    "        request += 1\n",
    "    for i in password:\n",
    "        if 65 <= ord(i)  <= 90:\n",
    "            request += 1\n",
    "            break\n",
    "    for i in txt:\n",
    "        if 97 <= ord(i)  <= 122:\n",
    "            request += 1\n",
    "            break\n",
    "    for i in txt:\n",
    "        if i.isalnum() == True:\n",
    "            request += 1\n",
    "            break\n",
    "            \n",
    "    return request == 4\n",
    "\n",
    "                \n",
    "txt = input()\n",
    "print(is_password_good(txt))\n"
   ]
  },
  {
   "cell_type": "code",
   "execution_count": null,
   "metadata": {},
   "outputs": [],
   "source": []
  }
 ],
 "metadata": {
  "kernelspec": {
   "display_name": "Python 3",
   "language": "python",
   "name": "python3"
  },
  "language_info": {
   "codemirror_mode": {
    "name": "ipython",
    "version": 3
   },
   "file_extension": ".py",
   "mimetype": "text/x-python",
   "name": "python",
   "nbconvert_exporter": "python",
   "pygments_lexer": "ipython3",
   "version": "3.7.2"
  }
 },
 "nbformat": 4,
 "nbformat_minor": 2
}
