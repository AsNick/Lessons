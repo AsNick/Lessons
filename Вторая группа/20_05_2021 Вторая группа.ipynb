{
 "cells": [
  {
   "cell_type": "code",
   "execution_count": 12,
   "metadata": {},
   "outputs": [
    {
     "name": "stdout",
     "output_type": "stream",
     "text": [
      "5\n",
      "__M__\n",
      "_MMM_\n",
      "MMMMM\n"
     ]
    }
   ],
   "source": [
    "n = int(input())\n",
    "for i in range(1, n + 1, 2):\n",
    "    d = (n - i) // 2\n",
    "    print(f'{\"_\" * d}{\"M\" * i}{\"_\" * d}')"
   ]
  },
  {
   "cell_type": "code",
   "execution_count": 24,
   "metadata": {},
   "outputs": [
    {
     "name": "stdout",
     "output_type": "stream",
     "text": [
      "216\n",
      "block\n"
     ]
    }
   ],
   "source": [
    "x1, x2, x3 = sorted(map(int, list(input())))\n",
    "\n",
    "a = [[1, 2, 3], [4, 5, 6], [7, 8, 9], [1, 4, 7], [2, 5, 8], [3, 6, 9], [0, 5, 8]]\n",
    "\n",
    "if (x1, x2, x3) == (0, 0, 0):\n",
    "    print('cheat code')\n",
    "elif (x1, x2, x3) in a:\n",
    "    print('kick')\n",
    "else:\n",
    "    print('block')"
   ]
  },
  {
   "cell_type": "markdown",
   "metadata": {},
   "source": [
    "n, k, d = k // 4\n",
    "\n",
    "1. 0 -> n\n",
    "2. 5 -> (n, n + 5)\n",
    "3. 2 -> 4 -> 8 -> 6 -> 2  \n",
    "   2 + 4 + 8 + 6 = 20\n",
    "   n = n + 20 * d\n",
    "   if r = k % 4 != 0:\n",
    "      r = 1: n += n % 10\n",
    "      r = 2: n += n % 10, n += n % 10\n",
    "      r = 3: n += n % 10, n += n % 10, n += n % 10\n",
    "4. 1 -> 2\n",
    "   3 -> 6\n",
    "   7 -> 4\n",
    "   9 -> 8"
   ]
  },
  {
   "cell_type": "markdown",
   "metadata": {},
   "source": [
    "10 2\n",
    "1 -> 8 + 1 = 9\n",
    "1 -> 7 + 1 = 8\n",
    "\n",
    "n, k = map(int, in\n",
    "ans = 0\n",
    "while n >= k:\n",
    "    c = n // k\n",
    "    ans += c\n",
    "    n = n % k\n",
    "    n += c\n",
    "print(ans)"
   ]
  }
 ],
 "metadata": {
  "kernelspec": {
   "display_name": "Python 3",
   "language": "python",
   "name": "python3"
  },
  "language_info": {
   "codemirror_mode": {
    "name": "ipython",
    "version": 3
   },
   "file_extension": ".py",
   "mimetype": "text/x-python",
   "name": "python",
   "nbconvert_exporter": "python",
   "pygments_lexer": "ipython3",
   "version": "3.7.2"
  }
 },
 "nbformat": 4,
 "nbformat_minor": 2
}
