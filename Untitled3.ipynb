{
 "cells": [
  {
   "cell_type": "code",
   "execution_count": 1,
   "metadata": {},
   "outputs": [],
   "source": [
    "def eratosthenes(n):\n",
    "    a = [True] * (n + 1)\n",
    "    a[0] = False\n",
    "    a[1] = False\n",
    "    p = []\n",
    "\n",
    "    for i in range(n + 1):\n",
    "        if a[i]:\n",
    "            p.append(i)\n",
    "            for j in range(i * i, n + 1, i):\n",
    "                a[j] = False\n",
    "    return p"
   ]
  },
  {
   "cell_type": "code",
   "execution_count": 6,
   "metadata": {},
   "outputs": [],
   "source": [
    "p = eratosthenes(1000)\n",
    "\n",
    "def is_prime_(n):\n",
    "    if n == 2:\n",
    "        return True\n",
    "    if n < 2 or n % 2 == 0:\n",
    "        return False\n",
    "    for x in p:\n",
    "        if x < 1 + int(n ** .5) and n % x == 0:\n",
    "            return False\n",
    "    return True"
   ]
  },
  {
   "cell_type": "code",
   "execution_count": 7,
   "metadata": {},
   "outputs": [
    {
     "name": "stdout",
     "output_type": "stream",
     "text": [
      "2 3 5 7 11 13 17 19 "
     ]
    }
   ],
   "source": [
    "m, n = 1, 20\n",
    "for i in range(m, n + 1):\n",
    "    if is_prime_(i):\n",
    "        print(i, end=' ')"
   ]
  },
  {
   "cell_type": "code",
   "execution_count": 12,
   "metadata": {},
   "outputs": [
    {
     "name": "stdout",
     "output_type": "stream",
     "text": [
      "1\n",
      "1 12\n",
      "1 2 3 4 5 6 7 8 10 11 12 "
     ]
    }
   ],
   "source": [
    "def eratosthenes(n):\n",
    "    a = [True] * (n + 1)\n",
    "    a[0] = False\n",
    "    a[1] = False\n",
    "    p = []\n",
    "\n",
    "    for i in range(n + 1):\n",
    "        if a[i]:\n",
    "            p.append(i)\n",
    "            for j in range(i * i, n + 1, i):\n",
    "                a[j] = False\n",
    "    return p\n",
    "\n",
    "\n",
    "def is_prime(n):\n",
    "    if n == 2:\n",
    "        return True\n",
    "    if n < 2 or n % 2 == 0:\n",
    "        return True\n",
    "    for x in p:\n",
    "        if x < 1 + int(n ** .5) and n % x == 0:\n",
    "            return False\n",
    "    return True\n",
    "\n",
    "p = eratosthenes(1000)\n",
    "#print(p)\n",
    "k = int(input())\n",
    "while k != 0:\n",
    "    k -= 1\n",
    "    n, m = map(int, input().split())\n",
    "    for i in range(n, m + 1):\n",
    "        if is_prime(i):\n",
    "            print(i, end=' ')\n",
    "    if k != 0: \n",
    "        print('')"
   ]
  },
  {
   "cell_type": "code",
   "execution_count": null,
   "metadata": {},
   "outputs": [],
   "source": [
    "def is_prime(n):\n",
    "    if n == 2:\n",
    "        return True\n",
    "    if n < 2 or n % 2 == 0:\n",
    "        return True\n",
    "    for x in p:\n",
    "        if x < 1 + int(n ** .5) and n % x == 0:\n",
    "            return False\n",
    "    return True\n",
    "\n",
    "\n",
    "def is_prime_(n):\n",
    "    if n == 2:\n",
    "        return True\n",
    "    if n < 2 or n % 2 == 0:\n",
    "        return False\n",
    "    for x in p:\n",
    "        if x < 1 + int(n ** .5) and n % x == 0:\n",
    "            return False\n",
    "    return True"
   ]
  },
  {
   "cell_type": "code",
   "execution_count": 13,
   "metadata": {},
   "outputs": [
    {
     "name": "stdout",
     "output_type": "stream",
     "text": [
      "d s f g h j k h g j k "
     ]
    }
   ],
   "source": [
    "s = 'dsfghjkhgjk'\n",
    "\n",
    "for i in range(len(s)):\n",
    "    print(s[i], s[i + 1], end=' ')"
   ]
  },
  {
   "cell_type": "code",
   "execution_count": 14,
   "metadata": {},
   "outputs": [
    {
     "name": "stdout",
     "output_type": "stream",
     "text": [
      "d s f g h j k h g j k "
     ]
    }
   ],
   "source": [
    "for i in s:\n",
    "    print(i, end=' ')\n",
    "    "
   ]
  },
  {
   "cell_type": "code",
   "execution_count": 16,
   "metadata": {},
   "outputs": [
    {
     "name": "stdout",
     "output_type": "stream",
     "text": [
      "a\n",
      "c\n",
      "e\n",
      "g\n",
      "i\n",
      "k\n",
      "m\n",
      "o\n"
     ]
    }
   ],
   "source": [
    "s = 'abcdefghijklmnop'\n",
    "for i in range(0, len(s), 2):\n",
    "    print(s[i])"
   ]
  },
  {
   "cell_type": "code",
   "execution_count": 20,
   "metadata": {},
   "outputs": [
    {
     "name": "stdout",
     "output_type": "stream",
     "text": [
      "243\n",
      "1.6666666666666667\n",
      "1\n",
      "2\n"
     ]
    }
   ],
   "source": [
    "a = 3\n",
    "b = 5\n",
    "print(a ** b)\n",
    "print(5 / 3)\n",
    "print(b // a)\n",
    "print(b % a)"
   ]
  },
  {
   "cell_type": "code",
   "execution_count": 29,
   "metadata": {},
   "outputs": [
    {
     "name": "stdout",
     "output_type": "stream",
     "text": [
      "0\n"
     ]
    }
   ],
   "source": [
    "n = 5686484566890948865432563865432145643\n",
    "\n",
    "ans = 0\n",
    "while n != 0:\n",
    "    a = n % 10\n",
    "    if a == 7:\n",
    "        ans = ans + 1\n",
    "    n = n // 10\n",
    "\n",
    "print(ans)"
   ]
  },
  {
   "cell_type": "code",
   "execution_count": 30,
   "metadata": {},
   "outputs": [
    {
     "name": "stdout",
     "output_type": "stream",
     "text": [
      "Привет!\n",
      "Привет!\n",
      "Привет!\n",
      "Привет!\n",
      "Привет!\n",
      "Привет!\n",
      "Привет!\n",
      "Привет!\n",
      "Привет!\n",
      "Привет!\n"
     ]
    }
   ],
   "source": [
    "for i in range(10):\n",
    "    print('Привет!')"
   ]
  },
  {
   "cell_type": "code",
   "execution_count": 31,
   "metadata": {},
   "outputs": [
    {
     "name": "stdout",
     "output_type": "stream",
     "text": [
      "Привет!\n",
      "Привет!\n",
      "Привет!\n",
      "Привет!\n",
      "Привет!\n",
      "Привет!\n",
      "Привет!\n",
      "Привет!\n",
      "Привет!\n",
      "Привет!\n"
     ]
    }
   ],
   "source": [
    "n = 10\n",
    "while n != 0:\n",
    "    print('Привет!')\n",
    "    n = n - 1\n"
   ]
  },
  {
   "cell_type": "code",
   "execution_count": 32,
   "metadata": {},
   "outputs": [
    {
     "name": "stdout",
     "output_type": "stream",
     "text": [
      "2\n",
      "4\n",
      "5\n",
      "25\n",
      "7\n",
      "49\n",
      "3\n",
      "9\n",
      "-1\n"
     ]
    }
   ],
   "source": [
    "while True:\n",
    "    a = input()\n",
    "    if a == 'КОНЕЦ':\n",
    "        break\n",
    "    print(a)"
   ]
  },
  {
   "cell_type": "code",
   "execution_count": null,
   "metadata": {},
   "outputs": [],
   "source": [
    "a = [1, 2, 3, 4, 5, 4, 3 ,2, 2]\n",
    "b = dict()\n",
    "\n",
    "for i in a:\n",
    "    if i in b.keys():\n",
    "        d[i] += 1\n",
    "    else:\n",
    "        d[i] = 1\n"
   ]
  },
  {
   "cell_type": "code",
   "execution_count": 34,
   "metadata": {},
   "outputs": [
    {
     "name": "stdout",
     "output_type": "stream",
     "text": [
      "2 3 10\n",
      "9\n"
     ]
    }
   ],
   "source": [
    "def good(w, h, m):\n",
    "    x = (m // h) * (m // w)\n",
    "    if x >= n:\n",
    "        return True\n",
    "    else:\n",
    "        return False\n",
    "\n",
    "\n",
    "def bin_search(w, h, n):\n",
    "    l, r = 0, n * max(w, h)\n",
    "    while r - l > 1:\n",
    "        m = (l + r) // 2\n",
    "        if good(w, h, m):\n",
    "            r = m\n",
    "        else:\n",
    "            l = m\n",
    "    return r\n",
    "        \n",
    "\n",
    "\n",
    "\n",
    "w, h, n = map(int, input().split())\n",
    "\n",
    "print(bin_search(w, h, n))"
   ]
  },
  {
   "cell_type": "code",
   "execution_count": null,
   "metadata": {},
   "outputs": [],
   "source": []
  }
 ],
 "metadata": {
  "kernelspec": {
   "display_name": "Python 3",
   "language": "python",
   "name": "python3"
  },
  "language_info": {
   "codemirror_mode": {
    "name": "ipython",
    "version": 3
   },
   "file_extension": ".py",
   "mimetype": "text/x-python",
   "name": "python",
   "nbconvert_exporter": "python",
   "pygments_lexer": "ipython3",
   "version": "3.7.2"
  }
 },
 "nbformat": 4,
 "nbformat_minor": 2
}
