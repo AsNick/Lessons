{
 "cells": [
  {
   "cell_type": "markdown",
   "metadata": {},
   "source": [
    "###### 24.11.2020 Волновой алгоритм"
   ]
  },
  {
   "cell_type": "code",
   "execution_count": 8,
   "metadata": {},
   "outputs": [
    {
     "name": "stdout",
     "output_type": "stream",
     "text": [
      "0 0\n",
      "0 1\n"
     ]
    }
   ],
   "source": [
    "import sys\n",
    "sys.stdin = open('input.txt', 'r')\n",
    "sys.stdout = open('output.txt', 'w')\n",
    "\n",
    "\n",
    "a, b = map(int, input().split())\n",
    "a = abs(a)\n",
    "b = abs(b)\n",
    "d1 = 1\n",
    "d2 = 0\n",
    "\n",
    "if a == 0 and b == 0:\n",
    "    pass\n",
    "elif a == 0 and b != 0:\n",
    "    if b % 2 == 0:\n",
    "        d2 = b\n",
    "    else:\n",
    "        for y in range(2, min(a, b) + 2, 2):\n",
    "            if a % y == 0 and b % y == 0:\n",
    "                d2 = y\n",
    "elif a != 0 and b == 0:\n",
    "    if a % 2 == 0:\n",
    "        d2 = a\n",
    "    else:\n",
    "        for x in range(1, min(a, b) + 2, 2):\n",
    "            if a % x == 0 and b % x == 0:\n",
    "                d1 = x\n",
    "else:\n",
    "    for x in range(1, min(a, b) + 2, 2):\n",
    "        if a % x == 0 and b % x == 0:\n",
    "            d1 = x\n",
    "\n",
    "    for y in range(2, min(a, b) + 2, 2):\n",
    "        if a % y == 0 and b % y == 0:\n",
    "            d2 = y\n",
    "print(d2, d1)"
   ]
  },
  {
   "cell_type": "code",
   "execution_count": 10,
   "metadata": {},
   "outputs": [
    {
     "name": "stdout",
     "output_type": "stream",
     "text": [
      "3\n",
      "3 6 9 12 15\n"
     ]
    }
   ],
   "source": [
    "x = int(input())\n",
    "print(x, 2 * x, 3 * x, 4 * x, 5 * x)"
   ]
  },
  {
   "cell_type": "code",
   "execution_count": 13,
   "metadata": {},
   "outputs": [
    {
     "name": "stdout",
     "output_type": "stream",
     "text": [
      "23\n",
      " The next number for 23 is 24.\n",
      " The previous number for 23 is 22.\n"
     ]
    }
   ],
   "source": [
    "a = int(input())\n",
    "v = a + 1\n",
    "d = a - 1\n",
    "print(f\" The next number for {a} is {v}.\")\n",
    "print(f\" The previous number for {a} is {d}.\")"
   ]
  },
  {
   "cell_type": "code",
   "execution_count": 25,
   "metadata": {},
   "outputs": [
    {
     "name": "stdout",
     "output_type": "stream",
     "text": [
      "['', '', '', '', '']\n",
      "['', '', '', '', '']\n",
      "['', '', '', '', '']\n",
      "['', '', '', '', '']\n",
      "['', '', '', '', '']\n"
     ]
    }
   ],
   "source": [
    "c = [[''] * 5 for i in range(5)]\n",
    "for i in c:\n",
    "    print(i)\n"
   ]
  },
  {
   "cell_type": "code",
   "execution_count": 22,
   "metadata": {},
   "outputs": [
    {
     "name": "stdout",
     "output_type": "stream",
     "text": [
      "2\n",
      "1 2 3 4\n",
      "5 6 7 8\n",
      "9 8 7 6\n",
      "5 4 3 2\n",
      "1 2 3 4\n",
      "5 6 7 8\n",
      "9 8 7 6\n",
      "5 4 3 2\n"
     ]
    }
   ],
   "source": [
    "n = int(input())\n",
    "d = []\n",
    "for i in range(n * n):\n",
    "    d.append(list(map(int, input().split())))\n",
    "    \n",
    "for i in d:\n",
    "    print(*i)\n"
   ]
  },
  {
   "cell_type": "code",
   "execution_count": null,
   "metadata": {},
   "outputs": [],
   "source": []
  },
  {
   "cell_type": "code",
   "execution_count": 23,
   "metadata": {},
   "outputs": [
    {
     "name": "stdout",
     "output_type": "stream",
     "text": [
      "8\n"
     ]
    }
   ],
   "source": [
    "print(d[1][3])\n"
   ]
  },
  {
   "cell_type": "code",
   "execution_count": 26,
   "metadata": {},
   "outputs": [
    {
     "name": "stdout",
     "output_type": "stream",
     "text": [
      "1\n",
      "2\n",
      "3\n",
      "4\n",
      "5\n",
      "6\n",
      "7\n",
      "8\n",
      "9\n",
      "8\n",
      "7\n",
      "6\n",
      "5\n",
      "4\n",
      "3\n",
      "2\n",
      "80\n"
     ]
    }
   ],
   "source": [
    "s = 0\n",
    "for i in range(4):\n",
    "    for j in range(4):\n",
    "        print(d[i][j])\n",
    "        s += d[i][j]\n",
    "\n",
    "print(s)"
   ]
  },
  {
   "cell_type": "code",
   "execution_count": 27,
   "metadata": {},
   "outputs": [
    {
     "name": "stdout",
     "output_type": "stream",
     "text": [
      "['a', 'b', 's', 'd']\n"
     ]
    }
   ],
   "source": [
    "s = 'absd'\n",
    "s = list(s)\n",
    "print(s)"
   ]
  },
  {
   "cell_type": "code",
   "execution_count": null,
   "metadata": {},
   "outputs": [],
   "source": [
    "dp = [[0] * m for i in range(n)]\n",
    "dp[0][0] = 1\n",
    "for i in range(1, n):\n",
    "    for j in range(1, m):\n",
    "        if 0 <= i - 2 and 0 <= j - 1:\n",
    "            dp[i][j] += dp[i - 2][j - 1]\n",
    "        if 0 <= i - 1 and 0 <= j - 2:\n",
    "            dp[i][j] += dp[i - 1][j - 2]\n",
    "  "
   ]
  },
  {
   "cell_type": "code",
   "execution_count": null,
   "metadata": {},
   "outputs": [],
   "source": [
    "n = int(input())\n",
    "k = 0\n",
    "for i map(int, input().split()):\n",
    "    k += 1\n",
    "    if i <= 437:\n",
    "        print('Crash', k)\n",
    "        exit()\n",
    "    \n",
    "print('No crash')\n"
   ]
  },
  {
   "cell_type": "code",
   "execution_count": null,
   "metadata": {},
   "outputs": [],
   "source": [
    "n = int(input())\n",
    "a = \"G\"\n",
    "b = \"C\"\n",
    "c = \"F\"\n",
    "\n",
    "for i in range(n):\n",
    "    "
   ]
  },
  {
   "cell_type": "code",
   "execution_count": null,
   "metadata": {},
   "outputs": [],
   "source": [
    "a = int(input())\n",
    "o = 0\n",
    "a1 = a % 10\n",
    "a2 = a // 10 % 10\n",
    "a3 = a // 100 % 10\n",
    "a4 = a // 1000 % 10\n",
    "a5 = a // 10000 % 10\n",
    "a6 = a // 100000 % 10\n",
    "\n",
    "if a1 == 0:\n",
    "    o += 1\n",
    "if a1 == 6:\n",
    "    o += 1\n",
    "if a1 == 8:\n",
    "    o += 2\n",
    "if a1 == 9:\n",
    "    o += 1\n",
    "\n",
    "if a2 == 0:\n",
    "    o += 1\n",
    "if a2 == 6:\n",
    "    o += 1\n",
    "if a2 == 8:\n",
    "    o += 2\n",
    "if a2 == 9:\n",
    "    o += 1\n",
    "\n",
    "if a3 == 0:\n",
    "    o += 1\n",
    "if a3 == 6:\n",
    "    o += 1\n",
    "if a3 == 8:\n",
    "    o += 2\n",
    "if a3 == 9:\n",
    "    o += 1\n",
    "\n",
    "if a4 == 0:\n",
    "    o += 1\n",
    "if a4 == 6:\n",
    "    o += 1\n",
    "if a4 == 8:\n",
    "    o += 2\n",
    "if a4 == 9:\n",
    "    o += 1\n",
    "\n",
    "if a5 == 0:\n",
    "    o += 1\n",
    "if a5 == 6:\n",
    "    o += 1\n",
    "if a5 == 8:\n",
    "    o += 2\n",
    "if a5 == 9:\n",
    "    o += 1\n",
    "    \n",
    "if a6 == 0:\n",
    "    o += 1\n",
    "if a6 == 6:\n",
    "    o += 1\n",
    "if a6 == 8:\n",
    "    o += 2\n",
    "if a6 == 9:\n",
    "    o += 1\n",
    "print(o)"
   ]
  },
  {
   "cell_type": "code",
   "execution_count": 30,
   "metadata": {},
   "outputs": [
    {
     "ename": "SyntaxError",
     "evalue": "unexpected EOF while parsing (<ipython-input-30-cf4393911237>, line 5)",
     "output_type": "error",
     "traceback": [
      "\u001b[0;36m  File \u001b[0;32m\"<ipython-input-30-cf4393911237>\"\u001b[0;36m, line \u001b[0;32m5\u001b[0m\n\u001b[0;31m    elif i == '6':\u001b[0m\n\u001b[0m                  ^\u001b[0m\n\u001b[0;31mSyntaxError\u001b[0m\u001b[0;31m:\u001b[0m unexpected EOF while parsing\n"
     ]
    }
   ],
   "source": [
    "o = 0\n",
    "for i in input():\n",
    "    if i == '0' or i == '6' or i == '9':\n",
    "        o += 1\n",
    "    elif i == '8':\n",
    "        o += 2\n",
    "        \n",
    "print(o)"
   ]
  },
  {
   "cell_type": "markdown",
   "metadata": {},
   "source": [
    "n = int(input())\n",
    "\n",
    "if n == 0:\n",
    "    print('зеленый')\n",
    "elif n > 36 or n < 0:\n",
    "    print('ошибка ввода')\n",
    "elif 1 <= n <= 10:\n",
    "        if n % 2 == 0:\n",
    "            print('черный')\n",
    "        else:\n",
    "            print('красный')\n",
    "            \n",
    "elif 11 <= n <= 18:\n",
    "        if n % 2 == 0:\n",
    "            print('красный')\n",
    "        else:\n",
    "            print('черный')\n",
    "            \n",
    "elif 19 <= n <= 28:\n",
    "        if n % 2 == 0:\n",
    "            print('черный')\n",
    "        else:\n",
    "            print('красный') \n",
    "            \n"
   ]
  },
  {
   "cell_type": "code",
   "execution_count": null,
   "metadata": {},
   "outputs": [],
   "source": [
    "n, m  = map(int, input().split())\n",
    "dp = [[0] * m for i in range(n)]\n",
    "\n",
    "for i in range(m):\n",
    "    dp[0][i] = 1\n",
    "\n",
    "for i in range(n):\n",
    "    dp[i][0] = 1\n",
    "    \n",
    "for i in range(1, n):\n",
    "    for j in range(1, m):\n",
    "        dp[i][j] = dp[i - 1][j] + dp[i][j - 1]\n",
    "        \n",
    "dp[n - 1][m - 1]"
   ]
  },
  {
   "cell_type": "code",
   "execution_count": null,
   "metadata": {},
   "outputs": [],
   "source": [
    "f = open('input.txt', 'r')\n",
    "s = 0\n",
    "for line in f:\n",
    "    s += line\n",
    "    "
   ]
  },
  {
   "cell_type": "code",
   "execution_count": 31,
   "metadata": {},
   "outputs": [
    {
     "name": "stdout",
     "output_type": "stream",
     "text": [
      "3 4\n",
      "5 9 4 3\n",
      "3 1 6 9\n",
      "8 6 8 12\n",
      "35\n"
     ]
    }
   ],
   "source": [
    "n, m = map(int, input().split())\n",
    "a = []\n",
    "for i in range(n):\n",
    "    a.append(list(map(int, input().split())))\n",
    "    \n",
    "for i in range(1, m):\n",
    "    a[0][i] += a[0][i - 1]\n",
    "    \n",
    "for i in range(1, n):\n",
    "    a[i][0] += a[i - 1][0]\n",
    "    \n",
    "for i in range(1, n):\n",
    "    for j in range(1, m):\n",
    "        a[i][j] += min(a[i - 1][j], a[i][j - 1])\n",
    "        \n",
    "print(a[n - 1][m - 1])\n",
    "print(n + m - 1)\n",
    "\n",
    "\n"
   ]
  },
  {
   "cell_type": "code",
   "execution_count": 34,
   "metadata": {},
   "outputs": [
    {
     "name": "stdout",
     "output_type": "stream",
     "text": [
      "$\n",
      "1\n",
      "2\n",
      "3\n",
      "1$2$3\n"
     ]
    }
   ],
   "source": [
    "a = input()\n",
    "b = input()\n",
    "c = input()\n",
    "d = input()\n",
    "print(b, c, d, sep= a)"
   ]
  },
  {
   "cell_type": "code",
   "execution_count": null,
   "metadata": {},
   "outputs": [],
   "source": [
    "import sys\n",
    "input = sys.stdin.readline\n",
    "\n",
    "n, m = map(int, input().split())\n",
    "a = []\n",
    "for i in range(n):\n",
    "    a.append(list(map(int, input().split())))\n",
    "\n",
    "for i in range(1, m):\n",
    "    a[0][i] += a[0][i - 1]\n",
    "\n",
    "for i in range(1, n):\n",
    "    a[i][0] += a[i - 1][0]\n",
    "\n",
    "for i in range(1, n):\n",
    "    for j in range(1, m):\n",
    "        a[i][j] += min(a[i - 1][j], a[i][j - 1])\n",
    "\n",
    "print(a[n - 1][m - 1])\n",
    "print(n + m - 1)\n",
    "\n",
    "track = [(n, m)]\n",
    "\n",
    "i = n - 1\n",
    "j = m - 1\n",
    "while True:\n",
    "    if 0 <= i - 1 and 0 <= j - 1:\n",
    "        if a[i - 1][j] < a[i][j - 1]:\n",
    "            i = i - 1\n",
    "            j = j\n",
    "        else:\n",
    "            i = i\n",
    "            j = j - 1\n",
    "        track.append((i + 1, j + 1))\n",
    "    elif 0 <= i - 1 and j - 1 == -1:\n",
    "        i = i - 1\n",
    "        track.append((i + 1, j + 1))\n",
    "    elif i - 1 == -1 and 0 <= j - 1:\n",
    "        j = j - 1\n",
    "        track.append((i + 1, j + 1))\n",
    "    elif i == 0 and j == 0:\n",
    "        break\n",
    "\n",
    "for i in track[::- 1]:\n",
    "    print(*i)"
   ]
  },
  {
   "cell_type": "code",
   "execution_count": null,
   "metadata": {},
   "outputs": [],
   "source": [
    "n, m = map(int, input().split())\n",
    "a = []\n",
    "for i in range(n):\n",
    "    a.append(list(map(int, input().split())))\n",
    "    \n",
    "for i in range(1, m):\n",
    "    a[0][i] += a[0][i - 1]\n",
    "    \n",
    "for i in range(1, n):\n",
    "    a[i][0] += a[i - 1][0]\n",
    "    \n",
    "for i in range(1, n):\n",
    "    for j in range(1, m):\n",
    "        a[i][j] += min(a[i - 1][j], a[i][j - 1])\n",
    "        \n",
    "\n",
    "for i in a:\n",
    "    print(i)"
   ]
  },
  {
   "cell_type": "code",
   "execution_count": 44,
   "metadata": {},
   "outputs": [
    {
     "name": "stdout",
     "output_type": "stream",
     "text": [
      "2\n"
     ]
    }
   ],
   "source": [
    "print(5 % 3)"
   ]
  },
  {
   "cell_type": "code",
   "execution_count": 45,
   "metadata": {},
   "outputs": [
    {
     "name": "stdout",
     "output_type": "stream",
     "text": [
      "Hello, World!\n"
     ]
    }
   ],
   "source": [
    "print('Hello, World!')"
   ]
  },
  {
   "cell_type": "code",
   "execution_count": 48,
   "metadata": {},
   "outputs": [
    {
     "name": "stdout",
     "output_type": "stream",
     "text": [
      "2\n",
      "2\n",
      "5\n",
      "Равнобедренный\n"
     ]
    }
   ],
   "source": [
    "a, b, c = int(input()), int(input()), int(input())\n",
    "if a == b == c:\n",
    "    print(\"Равносторонний\")\n",
    "elif a == b <= c:\n",
    "    print(\"Равнобедренный\")\n",
    "elif a == b >= c:\n",
    "    print(\"Равнобедренный\")\n",
    "else:\n",
    "    print(\"Разносторонний\")"
   ]
  },
  {
   "cell_type": "code",
   "execution_count": null,
   "metadata": {},
   "outputs": [],
   "source": [
    "import sys\n",
    "input = sys.stdin.readline"
   ]
  },
  {
   "cell_type": "code",
   "execution_count": 51,
   "metadata": {},
   "outputs": [
    {
     "name": "stdout",
     "output_type": "stream",
     "text": [
      "красный\n",
      "желтый\n"
     ]
    }
   ],
   "source": [
    "a = input()\n",
    "b = input()\n",
    "r = \"красный\"\n",
    "b2 = \"синий\"\n",
    "y = \"желтый\"\n",
    "\n",
    "g = \"зеленый\"\n",
    "p = \"фиолетовый\"\n",
    "o = \"оранжевый\"\n",
    "\n",
    "if (a == r and b == b2) or (b == r or a == b2):\n",
    "    print(p)\n",
    "elif (a == r and b2 == y) or (a == y or b2 == r):\n",
    "    print(o)\n",
    "elif (a == b2 and b == y) or (a == y and b == b2):\n",
    "    print(g)\n",
    "elif (a != r and a != b2 and a != y) or (b != r and b != b2 and b != y):\n",
    "    print(\"ошибка цвета\")"
   ]
  },
  {
   "cell_type": "code",
   "execution_count": 54,
   "metadata": {},
   "outputs": [
    {
     "name": "stdout",
     "output_type": "stream",
     "text": [
      "7.000000000000001 2.0\n",
      "5.000000000000001\n"
     ]
    }
   ],
   "source": [
    "a = (((11 / 4) / 1.1 + 10 / 3) / (2.5 - 0.4 * (10 / 3))) / (5 / 7)\n",
    "b = ((13 / 6 + 4.5) * 0.375) / (2.75 - 3/2)\n",
    "print(a, b)\n",
    "print(a - b)"
   ]
  },
  {
   "cell_type": "code",
   "execution_count": 7,
   "metadata": {},
   "outputs": [
    {
     "name": "stdout",
     "output_type": "stream",
     "text": [
      "5 3 2\n",
      "5\n"
     ]
    }
   ],
   "source": [
    "a, b, c = map(int, input().split())\n",
    "if a > b:\n",
    "    if a > c:\n",
    "        print(a)\n",
    "    else:\n",
    "        print(c)\n",
    "else:\n",
    "    if b > a:\n",
    "        if b > c:\n",
    "            print(b)\n",
    "        else:\n",
    "            print(c)"
   ]
  },
  {
   "cell_type": "code",
   "execution_count": 17,
   "metadata": {},
   "outputs": [
    {
     "name": "stdout",
     "output_type": "stream",
     "text": [
      "2B\n",
      "2 B\n",
      "2 2\n"
     ]
    }
   ],
   "source": [
    "a = input()\n",
    "print(a[0], a[1])\n",
    "x = int(a[0])\n",
    "y = ord(a[1]) - 64\n",
    "\n",
    "print(x, y)\n"
   ]
  },
  {
   "cell_type": "code",
   "execution_count": 15,
   "metadata": {},
   "outputs": [
    {
     "name": "stdout",
     "output_type": "stream",
     "text": [
      "65 66\n"
     ]
    }
   ],
   "source": [
    "print(ord('A'), ord('B'))"
   ]
  },
  {
   "cell_type": "code",
   "execution_count": 18,
   "metadata": {},
   "outputs": [
    {
     "name": "stdout",
     "output_type": "stream",
     "text": [
      "3\n",
      "1 2 3\n",
      "4\n",
      "2 1 3 5\n",
      "[0, 0, 0, 0, 0]\n",
      "[0, 0, 1, 1, 1]\n",
      "[0, 1, 1, 1, 1]\n",
      "[0, 1, 1, 2, 2]\n",
      "2\n"
     ]
    }
   ],
   "source": [
    "na = int(input())\n",
    "a = list(map(int, input().split()))\n",
    "nb = int(input())\n",
    "b = list(map(int, input().split()))\n",
    "dp = [[0] * (nb + 1) for i in range(na + 1)]\n",
    "for i in range(1, na + 1):\n",
    "    for j in range(1, nb + 1):\n",
    "        if a[i - 1] == b[j - 1]:\n",
    "            dp[i][j] = dp[i - 1][j - 1] + 1\n",
    "        else:\n",
    "            dp[i][j] = max(dp[i - 1][j], dp[i][j - 1])\n",
    "for i in dp:\n",
    "    print(i)\n",
    "print(dp[na][nb])"
   ]
  },
  {
   "cell_type": "markdown",
   "metadata": {},
   "source": [
    "Прямоугольный треугольник\n",
    "катет - сторона, которая выходить из прямого угла\n",
    "гипотенуза\n",
    "\n",
    " a**2 + b ** 2 = c ** 2\n",
    " c = sqrt(a ** 2 + b ** 2)\n",
    " A(1, 1)\n",
    " C(6, 4)\n",
    " B(6, 1)\n",
    " |AB| = 6 - 1 = 5\n",
    " |CB| = 4 - 1 = 3\n",
    " \n",
    " c = sqrt(5 ** 2 + 3 ** 2)"
   ]
  }
 ],
 "metadata": {
  "kernelspec": {
   "display_name": "Python 3",
   "language": "python",
   "name": "python3"
  },
  "language_info": {
   "codemirror_mode": {
    "name": "ipython",
    "version": 3
   },
   "file_extension": ".py",
   "mimetype": "text/x-python",
   "name": "python",
   "nbconvert_exporter": "python",
   "pygments_lexer": "ipython3",
   "version": "3.7.2"
  }
 },
 "nbformat": 4,
 "nbformat_minor": 2
}
