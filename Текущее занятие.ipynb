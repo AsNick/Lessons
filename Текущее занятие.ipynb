{
 "cells": [
  {
   "cell_type": "markdown",
   "metadata": {},
   "source": [
    "## Сортировки."
   ]
  },
  {
   "cell_type": "markdown",
   "metadata": {},
   "source": [
    "### 1. Квадратичные сортировки."
   ]
  },
  {
   "cell_type": "markdown",
   "metadata": {},
   "source": [
    "#### 1.1 Сортировка пузырьком"
   ]
  },
  {
   "cell_type": "code",
   "execution_count": 4,
   "metadata": {},
   "outputs": [
    {
     "name": "stdout",
     "output_type": "stream",
     "text": [
      "[1, 3, 3, 3, 6, 6, 7, 9, 12, 23, 44, 45, 65]\n"
     ]
    }
   ],
   "source": [
    "a = [1, 6, 7, 3, 9, 45, 3, 23, 65, 12, 6, 3, 44]\n",
    "n = len(a)\n",
    "\n",
    "for i in range(n):\n",
    "    for j in range(n - i - 1):\n",
    "        if a[j] > a[j + 1]:\n",
    "            a[j], a[j + 1] = a[j + 1], a[j]\n",
    "\n",
    "print(a)\n",
    "    "
   ]
  },
  {
   "cell_type": "markdown",
   "metadata": {},
   "source": [
    "Вычислительная сложность алгоритма $O(N^2)$."
   ]
  },
  {
   "cell_type": "markdown",
   "metadata": {},
   "source": [
    "### 1.2  Сортировки за $O(N \\cdot \\log N)$"
   ]
  },
  {
   "cell_type": "code",
   "execution_count": null,
   "metadata": {},
   "outputs": [],
   "source": []
  },
  {
   "cell_type": "markdown",
   "metadata": {},
   "source": [
    "### 1.3 Сортировка за $O(N)$."
   ]
  },
  {
   "cell_type": "markdown",
   "metadata": {},
   "source": [
    "Имеем массив $a, 0 \\leq a[i] \\leq 9 $."
   ]
  },
  {
   "cell_type": "code",
   "execution_count": 5,
   "metadata": {},
   "outputs": [
    {
     "name": "stdout",
     "output_type": "stream",
     "text": [
      "[3, 2, 4, 4, 3, 3, 3, 2, 1, 2]\n"
     ]
    }
   ],
   "source": [
    "b = [3, 1, 4, 6, 2, 9, 0, 5, 3, 7, 2, 5, 7, 4, 9, 0, 1, 2, 6, 8, 4, 5, 3, 0, 3, 2, 6]\n",
    "d =[0] * 10\n",
    "for i in b:\n",
    "    d[i] += 1\n",
    "    \n",
    "print(d)\n"
   ]
  },
  {
   "cell_type": "code",
   "execution_count": 8,
   "metadata": {},
   "outputs": [
    {
     "name": "stdout",
     "output_type": "stream",
     "text": [
      "[0, 0, 0, 1, 1, 2, 2, 2, 2, 3, 3, 3, 3, 4, 4, 4, 5, 5, 5, 6, 6, 6, 7, 7, 8, 9, 9]\n"
     ]
    }
   ],
   "source": [
    "ans = []\n",
    "for i in range(10):\n",
    "    ans += [i] * d[i]\n",
    "\n",
    "print(ans)"
   ]
  },
  {
   "cell_type": "code",
   "execution_count": null,
   "metadata": {},
   "outputs": [],
   "source": [
    "ans = 0\n",
    "while True:\n",
    "    a = int(input())\n",
    "    if a == 5:\n",
    "        ans += 1\n",
    "    elif a < 0 or a > 5:\n",
    "        break\n",
    "\n",
    "print(ans)\n",
    "    "
   ]
  },
  {
   "cell_type": "code",
   "execution_count": null,
   "metadata": {},
   "outputs": [],
   "source": [
    "n = int(input())\n",
    "ans = 0\n",
    "ans += n // 25\n",
    "n = n % 25\n",
    "ans += n // 10\n",
    "n %= 10\n",
    "ans += n // 5\n",
    "n %= 5\n",
    "ans += n\n",
    "print(ans)"
   ]
  },
  {
   "cell_type": "code",
   "execution_count": 16,
   "metadata": {},
   "outputs": [
    {
     "name": "stdout",
     "output_type": "stream",
     "text": [
      "49\n",
      "7\n"
     ]
    }
   ],
   "source": [
    "n = int(input())\n",
    "ans = 0\n",
    "a = [25, 10, 5, 1]\n",
    "while n > 1:\n",
    "    for i in a:\n",
    "        ans += n // i\n",
    "        n %= i\n",
    "print(ans)\n",
    "    \n",
    "    "
   ]
  },
  {
   "cell_type": "code",
   "execution_count": 18,
   "metadata": {},
   "outputs": [
    {
     "name": "stdout",
     "output_type": "stream",
     "text": [
      "1\n",
      "1\n"
     ]
    }
   ],
   "source": [
    "n = int(input())\n",
    "ans = 0\n",
    "a = [25, 10, 5, 1]\n",
    "while n >= 1:\n",
    "    for i in a:        \n",
    "        ans += n // i        \n",
    "        n %= i\n",
    "        \n",
    "print(ans)"
   ]
  },
  {
   "cell_type": "code",
   "execution_count": 21,
   "metadata": {},
   "outputs": [
    {
     "name": "stdout",
     "output_type": "stream",
     "text": [
      "26670\n",
      "Максимальная цифра равна 7\n",
      "Минимальная цифра равна 0\n"
     ]
    }
   ],
   "source": [
    "n = int(input())\n",
    "mx = 0\n",
    "mn = 9\n",
    "while n > 0:\n",
    "    a = n % 10\n",
    "    if a > mx:\n",
    "        mx = a\n",
    "    if a < mn:\n",
    "        mn = a\n",
    "    n //= 10\n",
    "    \n",
    "print('Максимальная цифра равна', mx)\n",
    "print('Минимальная цифра равна', mn)\n"
   ]
  },
  {
   "cell_type": "code",
   "execution_count": 27,
   "metadata": {},
   "outputs": [
    {
     "name": "stdout",
     "output_type": "stream",
     "text": [
      "1 2 3\n",
      "False\n"
     ]
    }
   ],
   "source": [
    "a, b, c = map(int, input().split())\n",
    "a *= a\n",
    "b *= b\n",
    "c *= c\n",
    "print(a == b + c or b == a + c or c == a + b)\n"
   ]
  },
  {
   "cell_type": "code",
   "execution_count": 32,
   "metadata": {},
   "outputs": [
    {
     "name": "stdout",
     "output_type": "stream",
     "text": [
      "1\n",
      "101010101\n",
      "No\n"
     ]
    }
   ],
   "source": [
    "for i in range(int(input())):  \n",
    "    print('No' if int(input(),2) % 7 else 'Yes') "
   ]
  },
  {
   "cell_type": "code",
   "execution_count": null,
   "metadata": {},
   "outputs": [],
   "source": []
  }
 ],
 "metadata": {
  "kernelspec": {
   "display_name": "Python 3",
   "language": "python",
   "name": "python3"
  },
  "language_info": {
   "codemirror_mode": {
    "name": "ipython",
    "version": 3
   },
   "file_extension": ".py",
   "mimetype": "text/x-python",
   "name": "python",
   "nbconvert_exporter": "python",
   "pygments_lexer": "ipython3",
   "version": "3.7.2"
  }
 },
 "nbformat": 4,
 "nbformat_minor": 2
}
