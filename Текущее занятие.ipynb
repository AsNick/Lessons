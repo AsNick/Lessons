{
 "cells": [
  {
   "cell_type": "markdown",
   "metadata": {},
   "source": [
    "###### 24.11.2020 Волновой алгоритм"
   ]
  },
  {
   "cell_type": "markdown",
   "metadata": {},
   "source": [
    "a = 2\n",
    "b = 4\n",
    "s = (a + b) / 2\n",
    "s = 3\n",
    "\n",
    "a = 3\n",
    "s = a / 1\n",
    "\n",
    "\n",
    "a = 2\n",
    "b = 4\n",
    "c = 6\n",
    "\n",
    "s = (a + b + c) / 3\n",
    "s = 4\n",
    "\n",
    "a\n",
    "b\n",
    "c\n",
    "d\n",
    "\n"
   ]
  },
  {
   "cell_type": "code",
   "execution_count": 109,
   "metadata": {},
   "outputs": [
    {
     "name": "stdout",
     "output_type": "stream",
     "text": [
      "257\n",
      "207499.05317695223\n",
      "1614.7786239451536\n"
     ]
    }
   ],
   "source": [
    "from math import pi\n",
    "\n",
    "r = float(input())\n",
    "print(pi * r * r)\n",
    "print(2 * pi * r)\n"
   ]
  },
  {
   "cell_type": "code",
   "execution_count": 8,
   "metadata": {},
   "outputs": [
    {
     "name": "stdout",
     "output_type": "stream",
     "text": [
      "0 0\n",
      "0 1\n"
     ]
    }
   ],
   "source": [
    "import sys\n",
    "sys.stdin = open('input.txt', 'r')\n",
    "sys.stdout = open('output.txt', 'w')\n",
    "\n",
    "\n",
    "a, b = map(int, input().split())\n",
    "a = abs(a)\n",
    "b = abs(b)\n",
    "d1 = 1\n",
    "d2 = 0\n",
    "\n",
    "if a == 0 and b == 0:\n",
    "    pass\n",
    "elif a == 0 and b != 0:\n",
    "    if b % 2 == 0:\n",
    "        d2 = b\n",
    "    else:\n",
    "        for y in range(2, min(a, b) + 2, 2):\n",
    "            if a % y == 0 and b % y == 0:\n",
    "                d2 = y\n",
    "elif a != 0 and b == 0:\n",
    "    if a % 2 == 0:\n",
    "        d2 = a\n",
    "    else:\n",
    "        for x in range(1, min(a, b) + 2, 2):\n",
    "            if a % x == 0 and b % x == 0:\n",
    "                d1 = x\n",
    "else:\n",
    "    for x in range(1, min(a, b) + 2, 2):\n",
    "        if a % x == 0 and b % x == 0:\n",
    "            d1 = x\n",
    "\n",
    "    for y in range(2, min(a, b) + 2, 2):\n",
    "        if a % y == 0 and b % y == 0:\n",
    "            d2 = y\n",
    "print(d2, d1)"
   ]
  },
  {
   "cell_type": "code",
   "execution_count": 10,
   "metadata": {},
   "outputs": [
    {
     "name": "stdout",
     "output_type": "stream",
     "text": [
      "3\n",
      "3 6 9 12 15\n"
     ]
    }
   ],
   "source": [
    "x = int(input())\n",
    "print(x, 2 * x, 3 * x, 4 * x, 5 * x)"
   ]
  },
  {
   "cell_type": "code",
   "execution_count": 13,
   "metadata": {},
   "outputs": [
    {
     "name": "stdout",
     "output_type": "stream",
     "text": [
      "23\n",
      " The next number for 23 is 24.\n",
      " The previous number for 23 is 22.\n"
     ]
    }
   ],
   "source": [
    "a = int(input())\n",
    "v = a + 1\n",
    "d = a - 1\n",
    "print(f\" The next number for {a} is {v}.\")\n",
    "print(f\" The previous number for {a} is {d}.\")"
   ]
  },
  {
   "cell_type": "code",
   "execution_count": 25,
   "metadata": {},
   "outputs": [
    {
     "name": "stdout",
     "output_type": "stream",
     "text": [
      "['', '', '', '', '']\n",
      "['', '', '', '', '']\n",
      "['', '', '', '', '']\n",
      "['', '', '', '', '']\n",
      "['', '', '', '', '']\n"
     ]
    }
   ],
   "source": [
    "c = [[''] * 5 for i in range(5)]\n",
    "for i in c:\n",
    "    print(i)\n"
   ]
  },
  {
   "cell_type": "code",
   "execution_count": 22,
   "metadata": {},
   "outputs": [
    {
     "name": "stdout",
     "output_type": "stream",
     "text": [
      "2\n",
      "1 2 3 4\n",
      "5 6 7 8\n",
      "9 8 7 6\n",
      "5 4 3 2\n",
      "1 2 3 4\n",
      "5 6 7 8\n",
      "9 8 7 6\n",
      "5 4 3 2\n"
     ]
    }
   ],
   "source": [
    "n = int(input())\n",
    "d = []\n",
    "for i in range(n * n):\n",
    "    d.append(list(map(int, input().split())))\n",
    "    \n",
    "for i in d:\n",
    "    print(*i)\n"
   ]
  },
  {
   "cell_type": "code",
   "execution_count": null,
   "metadata": {},
   "outputs": [],
   "source": []
  },
  {
   "cell_type": "code",
   "execution_count": 23,
   "metadata": {},
   "outputs": [
    {
     "name": "stdout",
     "output_type": "stream",
     "text": [
      "8\n"
     ]
    }
   ],
   "source": [
    "print(d[1][3])\n"
   ]
  },
  {
   "cell_type": "code",
   "execution_count": 26,
   "metadata": {},
   "outputs": [
    {
     "name": "stdout",
     "output_type": "stream",
     "text": [
      "1\n",
      "2\n",
      "3\n",
      "4\n",
      "5\n",
      "6\n",
      "7\n",
      "8\n",
      "9\n",
      "8\n",
      "7\n",
      "6\n",
      "5\n",
      "4\n",
      "3\n",
      "2\n",
      "80\n"
     ]
    }
   ],
   "source": [
    "s = 0\n",
    "for i in range(4):\n",
    "    for j in range(4):\n",
    "        print(d[i][j])\n",
    "        s += d[i][j]\n",
    "\n",
    "print(s)"
   ]
  },
  {
   "cell_type": "code",
   "execution_count": 27,
   "metadata": {},
   "outputs": [
    {
     "name": "stdout",
     "output_type": "stream",
     "text": [
      "['a', 'b', 's', 'd']\n"
     ]
    }
   ],
   "source": [
    "s = 'absd'\n",
    "s = list(s)\n",
    "print(s)"
   ]
  },
  {
   "cell_type": "code",
   "execution_count": null,
   "metadata": {},
   "outputs": [],
   "source": [
    "dp = [[0] * m for i in range(n)]\n",
    "dp[0][0] = 1\n",
    "for i in range(1, n):\n",
    "    for j in range(1, m):\n",
    "        if 0 <= i - 2 and 0 <= j - 1:\n",
    "            dp[i][j] += dp[i - 2][j - 1]\n",
    "        if 0 <= i - 1 and 0 <= j - 2:\n",
    "            dp[i][j] += dp[i - 1][j - 2]\n",
    "  "
   ]
  },
  {
   "cell_type": "code",
   "execution_count": null,
   "metadata": {},
   "outputs": [],
   "source": [
    "n = int(input())\n",
    "k = 0\n",
    "for i map(int, input().split()):\n",
    "    k += 1\n",
    "    if i <= 437:\n",
    "        print('Crash', k)\n",
    "        exit()\n",
    "    \n",
    "print('No crash')\n"
   ]
  },
  {
   "cell_type": "code",
   "execution_count": null,
   "metadata": {},
   "outputs": [],
   "source": [
    "n = int(input())\n",
    "a = \"G\"\n",
    "b = \"C\"\n",
    "c = \"F\"\n",
    "\n",
    "for i in range(n):\n",
    "    "
   ]
  },
  {
   "cell_type": "code",
   "execution_count": null,
   "metadata": {},
   "outputs": [],
   "source": [
    "a = int(input())\n",
    "o = 0\n",
    "a1 = a % 10\n",
    "a2 = a // 10 % 10\n",
    "a3 = a // 100 % 10\n",
    "a4 = a // 1000 % 10\n",
    "a5 = a // 10000 % 10\n",
    "a6 = a // 100000 % 10\n",
    "\n",
    "if a1 == 0:\n",
    "    o += 1\n",
    "if a1 == 6:\n",
    "    o += 1\n",
    "if a1 == 8:\n",
    "    o += 2\n",
    "if a1 == 9:\n",
    "    o += 1\n",
    "\n",
    "if a2 == 0:\n",
    "    o += 1\n",
    "if a2 == 6:\n",
    "    o += 1\n",
    "if a2 == 8:\n",
    "    o += 2\n",
    "if a2 == 9:\n",
    "    o += 1\n",
    "\n",
    "if a3 == 0:\n",
    "    o += 1\n",
    "if a3 == 6:\n",
    "    o += 1\n",
    "if a3 == 8:\n",
    "    o += 2\n",
    "if a3 == 9:\n",
    "    o += 1\n",
    "\n",
    "if a4 == 0:\n",
    "    o += 1\n",
    "if a4 == 6:\n",
    "    o += 1\n",
    "if a4 == 8:\n",
    "    o += 2\n",
    "if a4 == 9:\n",
    "    o += 1\n",
    "\n",
    "if a5 == 0:\n",
    "    o += 1\n",
    "if a5 == 6:\n",
    "    o += 1\n",
    "if a5 == 8:\n",
    "    o += 2\n",
    "if a5 == 9:\n",
    "    o += 1\n",
    "    \n",
    "if a6 == 0:\n",
    "    o += 1\n",
    "if a6 == 6:\n",
    "    o += 1\n",
    "if a6 == 8:\n",
    "    o += 2\n",
    "if a6 == 9:\n",
    "    o += 1\n",
    "print(o)"
   ]
  },
  {
   "cell_type": "code",
   "execution_count": 30,
   "metadata": {},
   "outputs": [
    {
     "ename": "SyntaxError",
     "evalue": "unexpected EOF while parsing (<ipython-input-30-cf4393911237>, line 5)",
     "output_type": "error",
     "traceback": [
      "\u001b[0;36m  File \u001b[0;32m\"<ipython-input-30-cf4393911237>\"\u001b[0;36m, line \u001b[0;32m5\u001b[0m\n\u001b[0;31m    elif i == '6':\u001b[0m\n\u001b[0m                  ^\u001b[0m\n\u001b[0;31mSyntaxError\u001b[0m\u001b[0;31m:\u001b[0m unexpected EOF while parsing\n"
     ]
    }
   ],
   "source": [
    "o = 0\n",
    "for i in input():\n",
    "    if i == '0' or i == '6' or i == '9':\n",
    "        o += 1\n",
    "    elif i == '8':\n",
    "        o += 2\n",
    "        \n",
    "print(o)"
   ]
  },
  {
   "cell_type": "markdown",
   "metadata": {},
   "source": [
    "n = int(input())\n",
    "\n",
    "if n == 0:\n",
    "    print('зеленый')\n",
    "elif n > 36 or n < 0:\n",
    "    print('ошибка ввода')\n",
    "elif 1 <= n <= 10:\n",
    "        if n % 2 == 0:\n",
    "            print('черный')\n",
    "        else:\n",
    "            print('красный')\n",
    "            \n",
    "elif 11 <= n <= 18:\n",
    "        if n % 2 == 0:\n",
    "            print('красный')\n",
    "        else:\n",
    "            print('черный')\n",
    "            \n",
    "elif 19 <= n <= 28:\n",
    "        if n % 2 == 0:\n",
    "            print('черный')\n",
    "        else:\n",
    "            print('красный') \n",
    "            \n"
   ]
  },
  {
   "cell_type": "code",
   "execution_count": null,
   "metadata": {},
   "outputs": [],
   "source": [
    "n, m  = map(int, input().split())\n",
    "dp = [[0] * m for i in range(n)]\n",
    "\n",
    "for i in range(m):\n",
    "    dp[0][i] = 1\n",
    "\n",
    "for i in range(n):\n",
    "    dp[i][0] = 1\n",
    "    \n",
    "for i in range(1, n):\n",
    "    for j in range(1, m):\n",
    "        dp[i][j] = dp[i - 1][j] + dp[i][j - 1]\n",
    "        \n",
    "dp[n - 1][m - 1]"
   ]
  },
  {
   "cell_type": "code",
   "execution_count": null,
   "metadata": {},
   "outputs": [],
   "source": [
    "f = open('input.txt', 'r')\n",
    "s = 0\n",
    "for line in f:\n",
    "    s += line\n",
    "    "
   ]
  },
  {
   "cell_type": "code",
   "execution_count": 31,
   "metadata": {},
   "outputs": [
    {
     "name": "stdout",
     "output_type": "stream",
     "text": [
      "3 4\n",
      "5 9 4 3\n",
      "3 1 6 9\n",
      "8 6 8 12\n",
      "35\n"
     ]
    }
   ],
   "source": [
    "n, m = map(int, input().split())\n",
    "a = []\n",
    "for i in range(n):\n",
    "    a.append(list(map(int, input().split())))\n",
    "    \n",
    "for i in range(1, m):\n",
    "    a[0][i] += a[0][i - 1]\n",
    "    \n",
    "for i in range(1, n):\n",
    "    a[i][0] += a[i - 1][0]\n",
    "    \n",
    "for i in range(1, n):\n",
    "    for j in range(1, m):\n",
    "        a[i][j] += min(a[i - 1][j], a[i][j - 1])\n",
    "        \n",
    "print(a[n - 1][m - 1])\n",
    "print(n + m - 1)\n",
    "\n",
    "\n"
   ]
  },
  {
   "cell_type": "code",
   "execution_count": 34,
   "metadata": {},
   "outputs": [
    {
     "name": "stdout",
     "output_type": "stream",
     "text": [
      "$\n",
      "1\n",
      "2\n",
      "3\n",
      "1$2$3\n"
     ]
    }
   ],
   "source": [
    "a = input()\n",
    "b = input()\n",
    "c = input()\n",
    "d = input()\n",
    "print(b, c, d, sep= a)"
   ]
  },
  {
   "cell_type": "code",
   "execution_count": null,
   "metadata": {},
   "outputs": [],
   "source": [
    "import sys\n",
    "input = sys.stdin.readline\n",
    "\n",
    "n, m = map(int, input().split())\n",
    "a = []\n",
    "for i in range(n):\n",
    "    a.append(list(map(int, input().split())))\n",
    "\n",
    "for i in range(1, m):\n",
    "    a[0][i] += a[0][i - 1]\n",
    "\n",
    "for i in range(1, n):\n",
    "    a[i][0] += a[i - 1][0]\n",
    "\n",
    "for i in range(1, n):\n",
    "    for j in range(1, m):\n",
    "        a[i][j] += min(a[i - 1][j], a[i][j - 1])\n",
    "\n",
    "print(a[n - 1][m - 1])\n",
    "print(n + m - 1)\n",
    "\n",
    "track = [(n, m)]\n",
    "\n",
    "i = n - 1\n",
    "j = m - 1\n",
    "while True:\n",
    "    if 0 <= i - 1 and 0 <= j - 1:\n",
    "        if a[i - 1][j] < a[i][j - 1]:\n",
    "            i = i - 1\n",
    "            j = j\n",
    "        else:\n",
    "            i = i\n",
    "            j = j - 1\n",
    "        track.append((i + 1, j + 1))\n",
    "    elif 0 <= i - 1 and j - 1 == -1:\n",
    "        i = i - 1\n",
    "        track.append((i + 1, j + 1))\n",
    "    elif i - 1 == -1 and 0 <= j - 1:\n",
    "        j = j - 1\n",
    "        track.append((i + 1, j + 1))\n",
    "    elif i == 0 and j == 0:\n",
    "        break\n",
    "\n",
    "for i in track[::- 1]:\n",
    "    print(*i)"
   ]
  },
  {
   "cell_type": "code",
   "execution_count": null,
   "metadata": {},
   "outputs": [],
   "source": [
    "n, m = map(int, input().split())\n",
    "a = []\n",
    "for i in range(n):\n",
    "    a.append(list(map(int, input().split())))\n",
    "    \n",
    "for i in range(1, m):\n",
    "    a[0][i] += a[0][i - 1]\n",
    "    \n",
    "for i in range(1, n):\n",
    "    a[i][0] += a[i - 1][0]\n",
    "    \n",
    "for i in range(1, n):\n",
    "    for j in range(1, m):\n",
    "        a[i][j] += min(a[i - 1][j], a[i][j - 1])\n",
    "        \n",
    "\n",
    "for i in a:\n",
    "    print(i)"
   ]
  },
  {
   "cell_type": "code",
   "execution_count": 44,
   "metadata": {},
   "outputs": [
    {
     "name": "stdout",
     "output_type": "stream",
     "text": [
      "2\n"
     ]
    }
   ],
   "source": [
    "print(5 % 3)"
   ]
  },
  {
   "cell_type": "code",
   "execution_count": 45,
   "metadata": {},
   "outputs": [
    {
     "name": "stdout",
     "output_type": "stream",
     "text": [
      "Hello, World!\n"
     ]
    }
   ],
   "source": [
    "print('Hello, World!')"
   ]
  },
  {
   "cell_type": "code",
   "execution_count": 48,
   "metadata": {},
   "outputs": [
    {
     "name": "stdout",
     "output_type": "stream",
     "text": [
      "2\n",
      "2\n",
      "5\n",
      "Равнобедренный\n"
     ]
    }
   ],
   "source": [
    "a, b, c = int(input()), int(input()), int(input())\n",
    "if a == b == c:\n",
    "    print(\"Равносторонний\")\n",
    "elif a == b <= c:\n",
    "    print(\"Равнобедренный\")\n",
    "elif a == b >= c:\n",
    "    print(\"Равнобедренный\")\n",
    "else:\n",
    "    print(\"Разносторонний\")"
   ]
  },
  {
   "cell_type": "code",
   "execution_count": null,
   "metadata": {},
   "outputs": [],
   "source": [
    "import sys\n",
    "input = sys.stdin.readline"
   ]
  },
  {
   "cell_type": "code",
   "execution_count": 51,
   "metadata": {},
   "outputs": [
    {
     "name": "stdout",
     "output_type": "stream",
     "text": [
      "красный\n",
      "желтый\n"
     ]
    }
   ],
   "source": [
    "a = input()\n",
    "b = input()\n",
    "r = \"красный\"\n",
    "b2 = \"синий\"\n",
    "y = \"желтый\"\n",
    "\n",
    "g = \"зеленый\"\n",
    "p = \"фиолетовый\"\n",
    "o = \"оранжевый\"\n",
    "\n",
    "if (a == r and b == b2) or (b == r or a == b2):\n",
    "    print(p)\n",
    "elif (a == r and b2 == y) or (a == y or b2 == r):\n",
    "    print(o)\n",
    "elif (a == b2 and b == y) or (a == y and b == b2):\n",
    "    print(g)\n",
    "elif (a != r and a != b2 and a != y) or (b != r and b != b2 and b != y):\n",
    "    print(\"ошибка цвета\")"
   ]
  },
  {
   "cell_type": "code",
   "execution_count": 54,
   "metadata": {},
   "outputs": [
    {
     "name": "stdout",
     "output_type": "stream",
     "text": [
      "7.000000000000001 2.0\n",
      "5.000000000000001\n"
     ]
    }
   ],
   "source": [
    "a = (((11 / 4) / 1.1 + 10 / 3) / (2.5 - 0.4 * (10 / 3))) / (5 / 7)\n",
    "b = ((13 / 6 + 4.5) * 0.375) / (2.75 - 3/2)\n",
    "print(a, b)\n",
    "print(a - b)"
   ]
  },
  {
   "cell_type": "code",
   "execution_count": 7,
   "metadata": {},
   "outputs": [
    {
     "name": "stdout",
     "output_type": "stream",
     "text": [
      "5 3 2\n",
      "5\n"
     ]
    }
   ],
   "source": [
    "a, b, c = map(int, input().split())\n",
    "if a > b:\n",
    "    if a > c:\n",
    "        print(a)\n",
    "    else:\n",
    "        print(c)\n",
    "else:\n",
    "    if b > a:\n",
    "        if b > c:\n",
    "            print(b)\n",
    "        else:\n",
    "            print(c)"
   ]
  },
  {
   "cell_type": "code",
   "execution_count": 17,
   "metadata": {},
   "outputs": [
    {
     "name": "stdout",
     "output_type": "stream",
     "text": [
      "2B\n",
      "2 B\n",
      "2 2\n"
     ]
    }
   ],
   "source": [
    "a = input()\n",
    "print(a[0], a[1])\n",
    "x = int(a[0])\n",
    "y = ord(a[1]) - 64\n",
    "\n",
    "print(x, y)\n"
   ]
  },
  {
   "cell_type": "code",
   "execution_count": 15,
   "metadata": {},
   "outputs": [
    {
     "name": "stdout",
     "output_type": "stream",
     "text": [
      "65 66\n"
     ]
    }
   ],
   "source": [
    "print(ord('A'), ord('B'))"
   ]
  },
  {
   "cell_type": "code",
   "execution_count": 18,
   "metadata": {},
   "outputs": [
    {
     "name": "stdout",
     "output_type": "stream",
     "text": [
      "3\n",
      "1 2 3\n",
      "4\n",
      "2 1 3 5\n",
      "[0, 0, 0, 0, 0]\n",
      "[0, 0, 1, 1, 1]\n",
      "[0, 1, 1, 1, 1]\n",
      "[0, 1, 1, 2, 2]\n",
      "2\n"
     ]
    }
   ],
   "source": [
    "na = int(input())\n",
    "a = list(map(int, input().split()))\n",
    "nb = int(input())\n",
    "b = list(map(int, input().split()))\n",
    "dp = [[0] * (nb + 1) for i in range(na + 1)]\n",
    "for i in range(1, na + 1):\n",
    "    for j in range(1, nb + 1):\n",
    "        if a[i - 1] == b[j - 1]:\n",
    "            dp[i][j] = dp[i - 1][j - 1] + 1\n",
    "        else:\n",
    "            dp[i][j] = max(dp[i - 1][j], dp[i][j - 1])\n",
    "for i in dp:\n",
    "    print(i)\n",
    "print(dp[na][nb])"
   ]
  },
  {
   "cell_type": "markdown",
   "metadata": {},
   "source": [
    "Прямоугольный треугольник\n",
    "катет - сторона, которая выходить из прямого угла\n",
    "гипотенуза\n",
    "\n",
    " a**2 + b ** 2 = c ** 2\n",
    " c = sqrt(a ** 2 + b ** 2)\n",
    " A(1, 1)\n",
    " C(6, 4)\n",
    " B(6, 1)\n",
    " |AB| = 6 - 1 = 5\n",
    " |CB| = 4 - 1 = 3\n",
    " \n",
    " c = sqrt(5 ** 2 + 3 ** 2)"
   ]
  },
  {
   "cell_type": "code",
   "execution_count": 10,
   "metadata": {},
   "outputs": [
    {
     "name": "stdout",
     "output_type": "stream",
     "text": [
      "A1\n",
      "A 1\n"
     ]
    }
   ],
   "source": [
    "x, y = list(input())\n",
    "y = int(y)\n",
    "if x == 'A':\n",
    "    x = 1\n",
    "elif x == 'B':\n",
    "    x = 2\n",
    "\n",
    "    \n",
    "if (x + y) % 2:\n",
    "    print('BLACK')\n",
    "else:\n",
    "    print('WHITE')\n"
   ]
  },
  {
   "cell_type": "code",
   "execution_count": 12,
   "metadata": {},
   "outputs": [
    {
     "name": "stdout",
     "output_type": "stream",
     "text": [
      "150\n",
      "150 мин - это 2 час 30 минут.\n"
     ]
    }
   ],
   "source": [
    "m = int(input())\n",
    "h = m // 60\n",
    "m1 = m % 60\n",
    "\n",
    "# 150 мин - это 2 час 30 минут.\n",
    "print(f'{m} мин - это {h} час {m1} минут.')\n"
   ]
  },
  {
   "cell_type": "code",
   "execution_count": 15,
   "metadata": {},
   "outputs": [
    {
     "name": "stdout",
     "output_type": "stream",
     "text": [
      "123\n",
      "123\n",
      "132\n"
     ]
    }
   ],
   "source": [
    "n = int(input())\n",
    "a = n // 100\n",
    "b = n // 10 % 10\n",
    "c = n % 10\n",
    "#abc,acb,bac,bca,cab,cba.\n",
    "print(a * 100 + b * 10 + c)\n",
    "print(a * 100 + c * 10 + b)"
   ]
  },
  {
   "cell_type": "code",
   "execution_count": 31,
   "metadata": {
    "scrolled": true
   },
   "outputs": [
    {
     "name": "stdout",
     "output_type": "stream",
     "text": [
      "[0, 2, 6, 13, 15, 20, 28, 29, 38, 61]\n",
      "1\n",
      "1 9\n",
      "61\n"
     ]
    }
   ],
   "source": [
    "a = [2, 4, 7, 2, 5, 8, 1, 9, 23]\n",
    "m = len(a)\n",
    "dp = [0] * (m + 1)\n",
    "\n",
    "for i in range(1, m + 1):\n",
    "    dp[i] = a[i - 1] + dp[i - 1] \n",
    "print(dp)\n",
    "\n",
    "n = int(input())\n",
    "for k in range(n):\n",
    "    i, j = map(int, input().split())\n",
    "    print(dp[j] - dp[i - 1])\n",
    "# O(n * m)\n",
    "# O(n + m)"
   ]
  },
  {
   "cell_type": "code",
   "execution_count": null,
   "metadata": {},
   "outputs": [],
   "source": [
    "d, m, y = map(int, input().split())\n",
    "if m == 2:\n",
    "    if d < 27:\n",
    "        print(d + 2, m, y)\n",
    "    elif d == 27:\n",
    "        if y % 400 == 0 or (y % 4 == 0 and y % 100 != 0):\n",
    "            print(d + 2, m, y)\n",
    "        else:\n",
    "            print(1, m + 1, y)\n",
    "    elif d == 28:\n",
    "        if y % 400 == 0 or (y % 4 == 0 and y % 100 != 0):\n",
    "            print(1, m + 1, y)\n",
    "        else:\n",
    "            print(2, m + 1, y)\n",
    "    else:\n",
    "        print(2, m + 1, y)\n",
    "elif m == 12:\n",
    "    if d < 30:\n",
    "        print(d + 2, m, y)\n",
    "    elif d == 30:\n",
    "        print(1, 1, y + 1)\n",
    "    else:\n",
    "        print(2, 1, y + 1)\n",
    "elif m == 4 or m == 6 or m == 9 or m == 11:\n",
    "    if d < 29:\n",
    "        print(d + 2, m, y)\n",
    "    else d == 29:\n",
    "        print(1, m + 1, y)\n",
    "    else:\n",
    "        print(2, m + 1, y)\n",
    "else:\n",
    "    if d < 30:\n",
    "        print(d + 2, m, y)\n",
    "    elif d == 30:\n",
    "        print(1, m + 1, y)\n",
    "    else:\n",
    "        print(2, m + 1, y)\n",
    "            "
   ]
  },
  {
   "cell_type": "code",
   "execution_count": null,
   "metadata": {},
   "outputs": [],
   "source": [
    "d, m, g = map(int, input().split())\n",
    "if d < 27:\n",
    "    print(d + 2, m, g)\n",
    "elif d == 27:\n",
    "    if m != 2:\n",
    "        print(d + 2, m, g)\n",
    "    else:\n",
    "        if g % 400 == 0 or (g % 4 == 0 and g % 100 != 0):\n",
    "            print(d + 2, m, g)\n",
    "        else:\n",
    "            print(1, m + 1, g)\n",
    "elif d == 28:\n",
    "    if m != 2:\n",
    "        print(d + 2, m, g)\n",
    "    else:\n",
    "        if g % 400 == 0 or (g % 4 == 0 and g % 100 != 0):\n",
    "            print(1, m + 1, g)\n",
    "        else:\n",
    "            print(2, m + 1, g)\n",
    "elif d == 29 and m in (1, 3, 5, 7, 8, 10, 12):\n",
    "    print(d + 2, m, g)\n",
    "elif d == 29 and m in (4, 6, 9, 11):\n",
    "    print(1, m + 1, g)\n",
    "elif d == 29 and m == 2:\n",
    "    print(2, m + 1, g)\n",
    "elif d == 30 and m in (4, 6, 9, 11):\n",
    "    print(2, m + 1, g)\n",
    "elif d == 30 and m in (1, 3, 5, 7, 8, 10):\n",
    "    print(1, m + 1, g)\n",
    "elif d == 30 and m == 12:\n",
    "    print(1, 1, g + 1)\n",
    "elif d == 31 and m in (1, 3, 5, 7, 8, 10):\n",
    "    print(2, m + 1, g)\n",
    "else:\n",
    "    print(2, 1, g + 1)\n",
    "    \n",
    "    \n",
    "    \n",
    "    \n",
    "        "
   ]
  },
  {
   "cell_type": "code",
   "execution_count": null,
   "metadata": {},
   "outputs": [],
   "source": [
    "a = int(input())\n",
    "\n",
    "elif a % 2 == 1:\n",
    "    print(\"YES\")\n",
    "else:\n",
    "    if 2 <= a <= 5:\n",
    "        print('NO')\n",
    "    elif 6 <= a <= 20:\n",
    "        print('YES')\n",
    "    elif 20 < a:\n",
    "        print('NO')\n",
    "        "
   ]
  },
  {
   "cell_type": "code",
   "execution_count": 1,
   "metadata": {},
   "outputs": [
    {
     "name": "stdout",
     "output_type": "stream",
     "text": [
      "Гвидо*Ван*Россум-Основатель_Питона!"
     ]
    }
   ],
   "source": [
    "print('Гвидо', 'Ван', 'Россум', sep='*', end='-')\n",
    "print('Основатель', 'Питона', sep='_', end='!')"
   ]
  },
  {
   "cell_type": "code",
   "execution_count": 4,
   "metadata": {},
   "outputs": [
    {
     "name": "stdout",
     "output_type": "stream",
     "text": [
      "-5 -5 12\n",
      "144\n",
      "25\n"
     ]
    }
   ],
   "source": [
    "a, b, c = map(int, input().split())\n",
    "print(max(a, b, c) ** 2, min(a, b, c) ** 2, sep='\\n')\n"
   ]
  },
  {
   "cell_type": "code",
   "execution_count": 5,
   "metadata": {},
   "outputs": [
    {
     "name": "stdout",
     "output_type": "stream",
     "text": [
      "23\n",
      "21\n",
      "27\n",
      "255\n",
      "300\n",
      "NO\n",
      "YES\n",
      "YES\n",
      "NO\n",
      "NO\n"
     ]
    }
   ],
   "source": [
    "a = int(input())\n",
    "b = int(input())\n",
    "c = int(input())\n",
    "d = int(input())\n",
    "e = int(input())\n",
    "\n",
    "if a % 3 == 0 and a % 2 and a % 5:\n",
    "    print('YES')\n",
    "else:\n",
    "    print('NO')\n",
    "    \n",
    "if b % 3 == 0 and b % 2 and b % 5:\n",
    "    print('YES')\n",
    "else:\n",
    "    print('NO')\n",
    "    \n",
    "if c % 3 == 0 and c % 2 and c % 5:\n",
    "    print('YES')\n",
    "else:\n",
    "    print('NO')\n",
    "    \n",
    "if d % 3 == 0 and d % 2 and d % 5:\n",
    "    print('YES')\n",
    "else:\n",
    "    print('NO')\n",
    "\n",
    "if e % 3 == 0 and e % 2 and e % 5:\n",
    "    print('YES')\n",
    "else:\n",
    "    print('NO')\n"
   ]
  },
  {
   "cell_type": "code",
   "execution_count": 7,
   "metadata": {},
   "outputs": [
    {
     "name": "stdout",
     "output_type": "stream",
     "text": [
      "23\n",
      "NO\n",
      "21\n",
      "YES\n",
      "27\n",
      "YES\n",
      "255\n",
      "NO\n",
      "300\n",
      "NO\n"
     ]
    }
   ],
   "source": [
    "for x in range(5):\n",
    "    a = int(input())\n",
    "    if a % 3 == 0 and a % 2 and a % 5:\n",
    "        print('YES')\n",
    "    else:\n",
    "        print('NO')\n"
   ]
  },
  {
   "cell_type": "code",
   "execution_count": null,
   "metadata": {},
   "outputs": [],
   "source": [
    "d, m, y = map(int, input().split())\n",
    "\n",
    "if d < 27:\n",
    "    print(d + 2, m, y)\n",
    "elif d == 27:\n",
    "    if m != 2:\n",
    "        print(d + 2, m, y)\n",
    "    else:\n",
    "        if y % 400 == 0 or (y % 4 == 0 and y % 100 != 0):\n",
    "            print(d + 2, m, y)\n",
    "        else:\n",
    "            print(1, m + 1, y)\n",
    "elif d == 28:\n",
    "    if m != 2:\n",
    "        print(d + 2, m, y)\n",
    "    else:\n",
    "        if y % 400 == 0 or (y % 4 == 0 and y % 100 != 0):\n",
    "            print(1, m + 1, y)\n",
    "        else:\n",
    "            print(2, m + 1, y)\n",
    "elif d == 29:\n",
    "    if m in (1, 3, 5, 7, 8, 10, 12):\n",
    "        print(d + 2, m, y)\n",
    "    elif m != 2:\n",
    "        print(1, m + 1, y)\n",
    "    else:\n",
    "        print(2, m + 1, y)\n",
    "        \n",
    "elif d == 30:\n",
    "    if m in (4, 6, 9, 11):\n",
    "        print(2, m + 1, y)\n",
    "    else:\n",
    "        if m == 12:\n",
    "            print(1, 1, y + 1)\n",
    "        else:\n",
    "            print(1, m + 1, y)\n",
    "else:\n",
    "    if m == 12:\n",
    "        print(2, 1, y + 1)\n",
    "    else:\n",
    "        print(2, m + 1, y)\n"
   ]
  },
  {
   "cell_type": "markdown",
   "metadata": {},
   "source": [
    "| январь   | 31      |\n",
    "|----------|---------|\n",
    "| февраль  | 28 - 29 |\n",
    "| март     | 31      |\n",
    "| апрель   | 30      |\n",
    "| май      | 31      |\n",
    "| июнь     | 30      |\n",
    "| июль     | 31      |\n",
    "| август   | 31      |\n",
    "| сентябрь | 30      |\n",
    "| октябрь  | 31      |\n",
    "| ноябрь   | 30      |\n",
    "| декабрь  | 31      |"
   ]
  },
  {
   "cell_type": "code",
   "execution_count": 2,
   "metadata": {},
   "outputs": [
    {
     "name": "stdout",
     "output_type": "stream",
     "text": [
      "5 6\n",
      "2 3\n"
     ]
    }
   ],
   "source": [
    "# 1 <= x, y <= 1000\n",
    "# (x, y)  (1, 1) (1, 2) (1, 3) (1, 4) ... (1, 1000)\n",
    "# 1000 000\n",
    "# x + y = s\n",
    "s, p = map(int, input().split())\n",
    "\n",
    "for x in range(1, 1001):\n",
    "    y = s - x\n",
    "    if x + y == s and x * y == p:\n",
    "        print(x, y)\n",
    "        break"
   ]
  },
  {
   "cell_type": "markdown",
   "metadata": {},
   "source": [
    "$A*X^3 + B*X^2 + C*X + D = 0$"
   ]
  },
  {
   "cell_type": "code",
   "execution_count": 5,
   "metadata": {},
   "outputs": [
    {
     "name": "stdout",
     "output_type": "stream",
     "text": [
      "3 -15 18 0\n",
      "0 2 3 "
     ]
    }
   ],
   "source": [
    "# -100 <= x <= 100\n",
    "a, b, c, d = map(int, input().split())\n",
    "\n",
    "for x in range(-100, 101):\n",
    "    if a * x ** 3 + b * x ** 2 + x * c + d == 0:\n",
    "        print(x, end=' ')"
   ]
  },
  {
   "cell_type": "code",
   "execution_count": null,
   "metadata": {},
   "outputs": [],
   "source": [
    "0, 1, 1, 2, 3, 5, 8, 13, 21 ..."
   ]
  },
  {
   "cell_type": "code",
   "execution_count": 6,
   "metadata": {},
   "outputs": [
    {
     "name": "stdout",
     "output_type": "stream",
     "text": [
      "5\n",
      "6 3 9 2 1\n",
      "5\n",
      "[6, 3, 9, 2, 1]\n"
     ]
    }
   ],
   "source": [
    "n = int(input())\n",
    "a = list(map(int, input().split()))\n",
    "\n",
    "print(n)\n",
    "print(a)"
   ]
  },
  {
   "cell_type": "code",
   "execution_count": 8,
   "metadata": {},
   "outputs": [
    {
     "name": "stdout",
     "output_type": "stream",
     "text": [
      "1234\n",
      "10\n"
     ]
    }
   ],
   "source": [
    "def f(x):\n",
    "    s = 0\n",
    "    while x != 0:\n",
    "        s += x % 10\n",
    "        x //= 10\n",
    "    return s\n",
    "    \n",
    "\n",
    "n = int(input())\n",
    "a = f(n)"
   ]
  },
  {
   "cell_type": "code",
   "execution_count": 10,
   "metadata": {},
   "outputs": [
    {
     "name": "stdout",
     "output_type": "stream",
     "text": [
      "[1, 2, 3, 4, 5]\n"
     ]
    }
   ],
   "source": [
    "n = 12345\n",
    "a = list(map(int, list(str(n))))\n",
    "print(a)"
   ]
  },
  {
   "cell_type": "code",
   "execution_count": 15,
   "metadata": {},
   "outputs": [
    {
     "name": "stdout",
     "output_type": "stream",
     "text": [
      "3\n",
      "Нечетное\n"
     ]
    }
   ],
   "source": [
    "n = int(input())\n",
    "if n % 2 == 0:\n",
    "    print('Четное')\n",
    "else:\n",
    "    print('Нечетное')\n"
   ]
  },
  {
   "cell_type": "code",
   "execution_count": null,
   "metadata": {},
   "outputs": [],
   "source": [
    "p = intput()\n",
    "p2 = input()\n",
    "\n",
    "if p == p2:\n",
    "    print('Пароль принят')\n",
    "else:\n",
    "    print('Пароль не принят')"
   ]
  },
  {
   "cell_type": "code",
   "execution_count": 20,
   "metadata": {},
   "outputs": [
    {
     "name": "stdout",
     "output_type": "stream",
     "text": [
      "1 2 3 4\n"
     ]
    }
   ],
   "source": [
    "n = 1234\n",
    "a = n // 1000\n",
    "b = n // 100 % 10\n",
    "c = n // 10 % 10\n",
    "d = n % 10\n",
    "print(a, b, c, d)"
   ]
  },
  {
   "cell_type": "code",
   "execution_count": null,
   "metadata": {},
   "outputs": [],
   "source": [
    "a = int(input())\n",
    "b = int(input())\n",
    "c = int(input())\n",
    "d = int(input())\n",
    "\n",
    "if a <= b and a <= c and a <= d:\n",
    "    print(a)\n",
    "elif b < a < c < d:\n",
    "    print(b)\n",
    "elif c < a < b < d:\n",
    "    print(c)\n",
    "elif d < a < b < c:\n",
    "    print(d)"
   ]
  },
  {
   "cell_type": "code",
   "execution_count": null,
   "metadata": {},
   "outputs": [],
   "source": [
    "n, m = map(int, input().split())\n",
    "\n",
    "dp = [[0] * (m + 2)]\n",
    "\n",
    "for i in range(n):\n",
    "    dp.append([0] + list(map(int, input().split())) + [0])\n",
    "    \n",
    "dp.append([0] * (m + 2))\n",
    "\n",
    "\n"
   ]
  },
  {
   "cell_type": "code",
   "execution_count": 1,
   "metadata": {},
   "outputs": [
    {
     "name": "stdout",
     "output_type": "stream",
     "text": [
      "5\n",
      "*****\n",
      "****\n",
      "***\n",
      "**\n",
      "*\n"
     ]
    }
   ],
   "source": [
    "n = int(input())\n",
    "\n",
    "a = '*'\n",
    "b = n\n",
    "for i in range(n):\n",
    "    print(a * b)\n",
    "    b -= 1\n",
    "   "
   ]
  },
  {
   "cell_type": "code",
   "execution_count": 2,
   "metadata": {},
   "outputs": [
    {
     "name": "stdout",
     "output_type": "stream",
     "text": [
      "dfghjf\n",
      "ghf\n",
      "sdfghjkl\n",
      "3 6 8\n"
     ]
    }
   ],
   "source": [
    "a = len(input())\n",
    "b = len(input())\n",
    "c = len(input())\n",
    "\n",
    "if a > b:\n",
    "    a, b, = b, a\n",
    "if a > c:\n",
    "    a, c = c, a\n",
    "if b > c:\n",
    "    b, c = c, b\n",
    "    \n",
    "d = b - a\n",
    "if b + d == c:\n",
    "    print('YES')\n",
    "else:\n",
    "    print('NO')\n"
   ]
  },
  {
   "cell_type": "code",
   "execution_count": 8,
   "metadata": {},
   "outputs": [
    {
     "name": "stdout",
     "output_type": "stream",
     "text": [
      "3 3\n",
      "3 None\n"
     ]
    }
   ],
   "source": [
    "def abs_(x):\n",
    "    if x <= 0:\n",
    "        return -x\n",
    "    else:\n",
    "        \n",
    "\n",
    "\n",
    "n = 3\n",
    "a = abs(n)\n",
    "print(n, a)\n",
    "print(n, abs_(n))"
   ]
  },
  {
   "cell_type": "code",
   "execution_count": 11,
   "metadata": {},
   "outputs": [
    {
     "name": "stdout",
     "output_type": "stream",
     "text": [
      "7 2\n",
      "2\n"
     ]
    }
   ],
   "source": [
    "def min_max(x, y):\n",
    "    if x <= y:\n",
    "        return x, y\n",
    "    else:\n",
    "        return y, x\n",
    "    \n",
    "\n",
    "a, b = map(int, input().split())\n",
    "print(min_max(a, b)[1])\n"
   ]
  },
  {
   "cell_type": "code",
   "execution_count": 20,
   "metadata": {},
   "outputs": [
    {
     "name": "stdout",
     "output_type": "stream",
     "text": [
      "[2, 3, 4, 5]\n"
     ]
    }
   ],
   "source": [
    "def f():\n",
    "    for i in range(len(a)):\n",
    "        a[i] += 1\n",
    "\n",
    "a = [1, 2, 3, 4]\n",
    "f()\n",
    "print(a)"
   ]
  },
  {
   "cell_type": "code",
   "execution_count": 21,
   "metadata": {},
   "outputs": [
    {
     "name": "stdout",
     "output_type": "stream",
     "text": [
      "27\n",
      "3\n"
     ]
    }
   ],
   "source": [
    "n = int(input())\n",
    "\n",
    "ans = 0\n",
    "while n > 1:\n",
    "    if n == 1:\n",
    "        break\n",
    "    elif n == 2:\n",
    "        ans += 1\n",
    "        break\n",
    "    elif n % 3 == 0:\n",
    "        n //= 3\n",
    "    elif n % 3 == 1:\n",
    "        n -= 1\n",
    "    elif n % 3 == 2:\n",
    "        n += 1\n",
    "    ans += 1\n",
    "    \n",
    "print(ans)\n",
    "    "
   ]
  },
  {
   "cell_type": "markdown",
   "metadata": {},
   "source": [
    "1 3 9 27 81 243 729"
   ]
  },
  {
   "cell_type": "code",
   "execution_count": 42,
   "metadata": {},
   "outputs": [
    {
     "name": "stdout",
     "output_type": "stream",
     "text": [
      "123\n",
      "123\n",
      "132\n",
      "213\n",
      "231\n"
     ]
    }
   ],
   "source": [
    "# abc,acb,bac,bca,cab,cba.\n",
    "n = int(input())\n",
    "a = n // 100\n",
    "b = n // 10 % 10\n",
    "c = n % 10\n",
    "\n",
    "\n",
    "print(a * 100 + b * 10 + c)\n",
    "print(a * 100 + c * 10 + b)\n",
    "print(b * 100 + a * 10 + c)\n",
    "print(b * 100 + c * 10 + a)"
   ]
  },
  {
   "cell_type": "code",
   "execution_count": 46,
   "metadata": {},
   "outputs": [
    {
     "name": "stdout",
     "output_type": "stream",
     "text": [
      "123456\n",
      "1 2 3 4 5 6\n"
     ]
    }
   ],
   "source": [
    "n = int(input())\n",
    "\n",
    "n1 = n // 100000 % 10\n",
    "n2 = n // 10000 % 10\n",
    "n3 = n // 1000 % 10\n",
    "n4 = n // 100 % 10\n",
    "n5 = n // 10 % 10\n",
    "n6 = n % 10\n",
    "\n",
    "if n1 + n2 + n3 == n4 + n5 + n6:\n",
    "    print('Yes')\n",
    "else:\n",
    "    print('No')\n"
   ]
  },
  {
   "cell_type": "code",
   "execution_count": 49,
   "metadata": {},
   "outputs": [
    {
     "name": "stdout",
     "output_type": "stream",
     "text": [
      "1234\n",
      "Цифра в позиции тысяч равна 1\n"
     ]
    }
   ],
   "source": [
    "n = int(input())\n",
    "a = n // 1000\n",
    "b = n // 100 % 10\n",
    "c = n // 10 % 10\n",
    "d = n % 10\n",
    "\n",
    "print(f'Цифра в позиции тысяч равна {a}')"
   ]
  },
  {
   "cell_type": "code",
   "execution_count": 54,
   "metadata": {},
   "outputs": [
    {
     "name": "stdout",
     "output_type": "stream",
     "text": [
      "9\n",
      "Квадрат числа  0  равен 0\n",
      "Квадрат числа  1  равен 1\n",
      "Квадрат числа  2  равен 4\n",
      "Квадрат числа  3  равен 9\n",
      "Квадрат числа  4  равен 16\n",
      "Квадрат числа  5  равен 25\n",
      "Квадрат числа  6  равен 36\n",
      "Квадрат числа  7  равен 49\n",
      "Квадрат числа  8  равен 64\n",
      "Квадрат числа  9  равен 81\n"
     ]
    }
   ],
   "source": [
    "n = int(input())\n",
    "\n",
    "for i in range(n + 1):\n",
    "    print(f'Квадрат числа {i} равен {i * i}')"
   ]
  },
  {
   "cell_type": "code",
   "execution_count": 53,
   "metadata": {},
   "outputs": [
    {
     "name": "stdout",
     "output_type": "stream",
     "text": [
      "9\n",
      "Квадрат числа 0 равен 0\n",
      "Квадрат числа 1 равен 1\n",
      "Квадрат числа 2 равен 4\n",
      "Квадрат числа 3 равен 9\n",
      "Квадрат числа 4 равен 16\n",
      "Квадрат числа 5 равен 25\n",
      "Квадрат числа 6 равен 36\n",
      "Квадрат числа 7 равен 49\n",
      "Квадрат числа 8 равен 64\n",
      "Квадрат числа 9 равен 81\n"
     ]
    }
   ],
   "source": [
    "n = int(input())\n",
    "\n",
    "for i in range(n + 1):\n",
    "    print('Квадрат числа',i, 'равен', i * i)"
   ]
  },
  {
   "cell_type": "markdown",
   "metadata": {},
   "source": [
    "n = 10\n",
    "$d = [1, 2, 5, 10]$"
   ]
  },
  {
   "cell_type": "code",
   "execution_count": 58,
   "metadata": {},
   "outputs": [
    {
     "name": "stdout",
     "output_type": "stream",
     "text": [
      "1000000\n",
      "2480437\n"
     ]
    }
   ],
   "source": [
    "n = int(input())\n",
    "total = 0\n",
    "\n",
    "for d in range(1, n + 1):\n",
    "    if n % d == 0:\n",
    "        total += d\n",
    "print(total)"
   ]
  },
  {
   "cell_type": "code",
   "execution_count": 60,
   "metadata": {},
   "outputs": [
    {
     "name": "stdout",
     "output_type": "stream",
     "text": [
      "5\n",
      "*****\n",
      "****\n",
      "***\n",
      "**\n",
      "*\n"
     ]
    }
   ],
   "source": [
    "n = int(input())\n",
    "\n",
    "for i in range(n):\n",
    "    print('*' * (n - i))"
   ]
  },
  {
   "cell_type": "code",
   "execution_count": 67,
   "metadata": {},
   "outputs": [
    {
     "name": "stdout",
     "output_type": "stream",
     "text": [
      "*****\n",
      "***\n",
      "*\n"
     ]
    }
   ],
   "source": [
    "n = 5\n",
    "for i in range(n, -1, -2):\n",
    "    print('*' * i)"
   ]
  },
  {
   "cell_type": "code",
   "execution_count": 68,
   "metadata": {},
   "outputs": [
    {
     "name": "stdout",
     "output_type": "stream",
     "text": [
      "23\n",
      "Принадлежит\n"
     ]
    }
   ],
   "source": [
    "n = int(input())\n",
    "if -1 < n < 17:\n",
    "    print('Принадлежит')\n",
    "else:\n",
    "    print('Принадлежит')"
   ]
  },
  {
   "cell_type": "code",
   "execution_count": null,
   "metadata": {},
   "outputs": [],
   "source": [
    "a = input()\n",
    "b = input()\n",
    "c = input()\n",
    "\n",
    "aa = len(a)\n",
    "bb = len(b)\n",
    "cc = len(c)\n",
    "\n",
    "if aa > bb:\n",
    "    aa, bb = bb, aa\n",
    "    a, b = b, a\n",
    "if aa > cc:\n",
    "    aa, cc = cc, aa\n",
    "    a, c = c, a\n",
    "\n",
    "print(a)\n",
    "\n",
    "if bb > cc:\n",
    "    print(b)\n",
    "else:\n",
    "    print(c)"
   ]
  },
  {
   "cell_type": "code",
   "execution_count": 73,
   "metadata": {},
   "outputs": [
    {
     "name": "stdout",
     "output_type": "stream",
     "text": [
      "*****\n",
      "****\n",
      "***\n",
      "**\n",
      "*\n"
     ]
    }
   ],
   "source": [
    "n = 5\n",
    "for i in range(n):\n",
    "    print('*' * n)\n",
    "    n -= 1"
   ]
  },
  {
   "cell_type": "code",
   "execution_count": 76,
   "metadata": {},
   "outputs": [
    {
     "name": "stdout",
     "output_type": "stream",
     "text": [
      "4\n",
      "6\n",
      "1 3 7 9\n",
      "2 4 5 8 9 10 12\n",
      "[]\n",
      "[10, 12]\n",
      "[1, 2, 3, 4, 5, 7, 8, 9, 9, 10, 12]\n"
     ]
    }
   ],
   "source": [
    "n = int(input())\n",
    "m = int(input())\n",
    "a = list(map(int, input().split()))\n",
    "b = list(map(int, input().split()))\n",
    "\n",
    "i, j = 0, 0\n",
    "c = []\n",
    "while i < n and j < m:\n",
    "    if a[i] < b[j]:\n",
    "        c.append(a[i])\n",
    "        i += 1\n",
    "    else:\n",
    "        c.append(b[j])\n",
    "        j += 1\n",
    "\n",
    "if len(a[i:]):\n",
    "    c += a[i:]\n",
    "if len(b[j:]):\n",
    "    c += b[j:]\n",
    "\n",
    "print(a[i:])\n",
    "print(b[j:])\n",
    "print(c)"
   ]
  },
  {
   "cell_type": "code",
   "execution_count": null,
   "metadata": {},
   "outputs": [],
   "source": [
    "n = int(input())\n",
    "a = list(int, input().split())\n",
    "\n",
    "i, j = 0, n - 1\n",
    "serg = 0\n",
    "dim = 0\n",
    "for k in range(n):\n",
    "    if k % 2 == 0:\n",
    "        if a[i] > a[j]:\n",
    "            serg += a[i]\n",
    "            i += 1\n",
    "        else:\n",
    "            serg += a[j]\n",
    "            j -= 1\n",
    "    else:\n",
    "        if a[i] > a[j]:\n",
    "            dim += a[i]\n",
    "            i += 1\n",
    "        else:\n",
    "            dim += a[j]\n",
    "            j -= 1\n",
    "\n",
    "print(serg, dim)"
   ]
  },
  {
   "cell_type": "code",
   "execution_count": null,
   "metadata": {},
   "outputs": [],
   "source": [
    "s = input()\n",
    "\n",
    "if 'суббота' in s or 'воскресенье' in s:\n",
    "    print('YES')\n",
    "else:\n",
    "    print('NO')"
   ]
  },
  {
   "cell_type": "code",
   "execution_count": null,
   "metadata": {},
   "outputs": [],
   "source": [
    "n = int(input())\n",
    "\n",
    "if n <= 13:\n",
    "    print('')\n",
    "elif 14 <= n <= 24:\n",
    "    p"
   ]
  },
  {
   "cell_type": "code",
   "execution_count": null,
   "metadata": {},
   "outputs": [],
   "source": [
    "s1 = input()\n",
    "s2 = input()\n",
    "\n",
    "if s1 == s2:\n",
    "    print('Пароль принят')\n",
    "else:\n",
    "    print('Пароль не принят')"
   ]
  },
  {
   "cell_type": "code",
   "execution_count": 91,
   "metadata": {},
   "outputs": [
    {
     "name": "stdout",
     "output_type": "stream",
     "text": [
      "&&&\n",
      "1\n",
      "2\n",
      "3\n",
      "1&&&2&&&3\n"
     ]
    }
   ],
   "source": [
    "s1 = input()\n",
    "s2 = input()\n",
    "s3 = input()\n",
    "s4 = input()\n",
    "\n",
    "print(s2, s3, s4, sep=s1)"
   ]
  },
  {
   "cell_type": "code",
   "execution_count": 97,
   "metadata": {},
   "outputs": [
    {
     "name": "stdout",
     "output_type": "stream",
     "text": [
      "0 Привет!\n",
      "1 Привет!\n",
      "2 Привет!\n",
      "3 Привет!\n",
      "4 Привет!\n",
      "5 Привет!\n",
      "6 Привет!\n",
      "7 Привет!\n",
      "8 Привет!\n",
      "9 Привет!\n",
      "10 Привет!\n",
      "11 Привет!\n",
      "12 Привет!\n",
      "13 Привет!\n",
      "14 Привет!\n",
      "15 Привет!\n",
      "16 Привет!\n",
      "17 Привет!\n",
      "18 Привет!\n",
      "19 Привет!\n",
      "20 Привет!\n",
      "21 Привет!\n",
      "22 Привет!\n",
      "23 Привет!\n",
      "24 Привет!\n",
      "25 Привет!\n",
      "26 Привет!\n",
      "27 Привет!\n",
      "28 Привет!\n",
      "29 Привет!\n",
      "30 Привет!\n",
      "31 Привет!\n",
      "32 Привет!\n",
      "33 Привет!\n",
      "34 Привет!\n",
      "35 Привет!\n",
      "36 Привет!\n",
      "37 Привет!\n",
      "38 Привет!\n",
      "39 Привет!\n",
      "40 Привет!\n",
      "41 Привет!\n",
      "42 Привет!\n",
      "43 Привет!\n",
      "44 Привет!\n",
      "45 Привет!\n",
      "46 Привет!\n",
      "47 Привет!\n",
      "48 Привет!\n",
      "49 Привет!\n",
      "50 Привет!\n",
      "51 Привет!\n",
      "52 Привет!\n",
      "53 Привет!\n",
      "54 Привет!\n",
      "55 Привет!\n",
      "56 Привет!\n",
      "57 Привет!\n",
      "58 Привет!\n",
      "59 Привет!\n",
      "60 Привет!\n",
      "61 Привет!\n",
      "62 Привет!\n",
      "63 Привет!\n",
      "64 Привет!\n",
      "65 Привет!\n",
      "66 Привет!\n",
      "67 Привет!\n",
      "68 Привет!\n",
      "69 Привет!\n",
      "70 Привет!\n",
      "71 Привет!\n",
      "72 Привет!\n",
      "73 Привет!\n",
      "74 Привет!\n",
      "75 Привет!\n",
      "76 Привет!\n",
      "77 Привет!\n",
      "78 Привет!\n",
      "79 Привет!\n",
      "80 Привет!\n",
      "81 Привет!\n",
      "82 Привет!\n",
      "83 Привет!\n",
      "84 Привет!\n",
      "85 Привет!\n",
      "86 Привет!\n",
      "87 Привет!\n",
      "88 Привет!\n",
      "89 Привет!\n",
      "90 Привет!\n",
      "91 Привет!\n",
      "92 Привет!\n",
      "93 Привет!\n",
      "94 Привет!\n",
      "95 Привет!\n",
      "96 Привет!\n",
      "97 Привет!\n",
      "98 Привет!\n",
      "99 Привет!\n"
     ]
    }
   ],
   "source": [
    "for i in range(100):\n",
    "    print(i, 'Привет!')\n"
   ]
  },
  {
   "cell_type": "code",
   "execution_count": 105,
   "metadata": {},
   "outputs": [
    {
     "name": "stdout",
     "output_type": "stream",
     "text": [
      "0 8 16 24 32 40 48 56 64 72 80 88 96 104 112 120 128 136 144 152 160 168 176 184 192 200 208 216 224 232 240 248 256 264 272 280 288 296\n"
     ]
    }
   ],
   "source": [
    "print(*range(8))"
   ]
  },
  {
   "cell_type": "code",
   "execution_count": 110,
   "metadata": {},
   "outputs": [
    {
     "name": "stdout",
     "output_type": "stream",
     "text": [
      "2\n",
      "Четное\n"
     ]
    }
   ],
   "source": [
    "n = int(input())\n",
    "\n",
    "if n % 2 == 0:\n",
    "    print('Четное')\n",
    "else:\n",
    "    print('Нечетное')"
   ]
  },
  {
   "cell_type": "code",
   "execution_count": 114,
   "metadata": {},
   "outputs": [
    {
     "name": "stdout",
     "output_type": "stream",
     "text": [
      "1\n",
      "2\n",
      "1.5\n",
      "1.4142135623730951\n",
      "1.3333333333333333\n",
      "1.5811388300841898\n"
     ]
    }
   ],
   "source": [
    "from math import sqrt\n",
    "\n",
    "a = float(input())\n",
    "b = float(input())\n",
    "\n",
    "t1 = (a + b) / 2\n",
    "t2 = sqrt(a * b)\n",
    "t3 = 2 * a * b / (a + b)\n",
    "t4 = sqrt((a * a + b * b) / 2)\n",
    "\n",
    "print(t1, t2, t3, t4, sep='\\n')"
   ]
  },
  {
   "cell_type": "code",
   "execution_count": 119,
   "metadata": {},
   "outputs": [
    {
     "name": "stdout",
     "output_type": "stream",
     "text": [
      "5\n",
      "1\n",
      "5\n",
      "4\n",
      "3\n"
     ]
    }
   ],
   "source": [
    "m = int(input())\n",
    "n = int(input())\n",
    "\n",
    "if m < n:\n",
    "    for i in range(m, n + 1):\n",
    "        print(i)\n",
    "else:\n",
    "    for i in range(m, n - 1, -1):\n",
    "        print(i)"
   ]
  },
  {
   "cell_type": "code",
   "execution_count": 122,
   "metadata": {},
   "outputs": [
    {
     "name": "stdout",
     "output_type": "stream",
     "text": [
      "23\n",
      "45\n",
      "YES\n"
     ]
    }
   ],
   "source": [
    "n = int(input())\n",
    "k = int(input())\n",
    "\n",
    "if n > k:\n",
    "    print('NO')\n",
    "elif n < k:\n",
    "    print('YES')\n",
    "else:\n",
    "    print(\"Don't know\")"
   ]
  },
  {
   "cell_type": "code",
   "execution_count": 124,
   "metadata": {},
   "outputs": [
    {
     "name": "stdout",
     "output_type": "stream",
     "text": [
      "3\n",
      "10\n",
      "3\n",
      "4\n",
      "5\n",
      "6\n",
      "7\n",
      "8\n",
      "9\n",
      "10\n"
     ]
    }
   ],
   "source": [
    "m = int(input())\n",
    "n = int(input())\n",
    "\n",
    "for i in range(m, n + 1):\n",
    "    print(i)"
   ]
  },
  {
   "cell_type": "code",
   "execution_count": 126,
   "metadata": {},
   "outputs": [
    {
     "name": "stdout",
     "output_type": "stream",
     "text": [
      "4 6 8 10 12 14 16 18 20 22 24 26 28 "
     ]
    }
   ],
   "source": [
    "m = 3\n",
    "n = 28\n",
    "\n",
    "if m % 2 == 1:\n",
    "    m += 1\n",
    "for i in range(m, n + 1, 2):\n",
    "    print(i, end=' ')"
   ]
  },
  {
   "cell_type": "code",
   "execution_count": 127,
   "metadata": {},
   "outputs": [
    {
     "name": "stdout",
     "output_type": "stream",
     "text": [
      "2 6 10 14 18 22 26\n"
     ]
    }
   ],
   "source": [
    "print(*range(2, 29, 4))"
   ]
  },
  {
   "cell_type": "code",
   "execution_count": null,
   "metadata": {},
   "outputs": [],
   "source": []
  }
 ],
 "metadata": {
  "kernelspec": {
   "display_name": "Python 3",
   "language": "python",
   "name": "python3"
  },
  "language_info": {
   "codemirror_mode": {
    "name": "ipython",
    "version": 3
   },
   "file_extension": ".py",
   "mimetype": "text/x-python",
   "name": "python",
   "nbconvert_exporter": "python",
   "pygments_lexer": "ipython3",
   "version": "3.7.2"
  }
 },
 "nbformat": 4,
 "nbformat_minor": 2
}
