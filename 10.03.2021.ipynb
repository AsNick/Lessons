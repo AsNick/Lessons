{
 "cells": [
  {
   "cell_type": "code",
   "execution_count": 3,
   "metadata": {},
   "outputs": [
    {
     "name": "stdout",
     "output_type": "stream",
     "text": [
      "Hello\n",
      "Hello\n",
      "Hello\n",
      "Hello\n",
      "Hello\n",
      "Hello\n",
      "Hello\n",
      "Hello\n",
      "Hello\n",
      "Hello\n"
     ]
    }
   ],
   "source": [
    "for i in range(10):\n",
    "    print('Hello')"
   ]
  },
  {
   "cell_type": "code",
   "execution_count": 6,
   "metadata": {},
   "outputs": [
    {
     "name": "stdout",
     "output_type": "stream",
     "text": [
      "0 1 2 3 4 5 6 7 8 9\n"
     ]
    }
   ],
   "source": [
    "print(*range(10))"
   ]
  },
  {
   "cell_type": "code",
   "execution_count": 7,
   "metadata": {},
   "outputs": [
    {
     "name": "stdout",
     "output_type": "stream",
     "text": [
      "dfghjk\n",
      "10\n",
      "dfghjk\n",
      "dfghjk\n",
      "dfghjk\n",
      "dfghjk\n",
      "dfghjk\n",
      "dfghjk\n",
      "dfghjk\n",
      "dfghjk\n",
      "dfghjk\n",
      "dfghjk\n"
     ]
    }
   ],
   "source": [
    "a = input()\n",
    "n = int(input())\n",
    "\n",
    "for i in range(n):\n",
    "    print(a)"
   ]
  },
  {
   "cell_type": "code",
   "execution_count": 10,
   "metadata": {},
   "outputs": [
    {
     "name": "stdout",
     "output_type": "stream",
     "text": [
      "356478976\n",
      "14259160\n",
      "14259160\n"
     ]
    }
   ],
   "source": [
    "s = int(input())\n",
    "i = 0\n",
    "k = 0\n",
    "while s > 0:\n",
    "    while s >= 25:\n",
    "        i += 1\n",
    "        s -= 25\n",
    "        k += 1\n",
    "    while s >= 10:          \n",
    "        i += 1\n",
    "        s -= 10 \n",
    "        k += 1\n",
    "    while s >= 5:          \n",
    "        i += 1\n",
    "        s -= 5\n",
    "        k += 1\n",
    "    while s >= 1:          \n",
    "        i += 1\n",
    "        s -= 1\n",
    "        k += 1\n",
    "print(i)\n",
    "print(k)\n"
   ]
  },
  {
   "cell_type": "code",
   "execution_count": 12,
   "metadata": {},
   "outputs": [
    {
     "name": "stdout",
     "output_type": "stream",
     "text": [
      "356478976\n",
      "14259160\n",
      "10\n"
     ]
    }
   ],
   "source": [
    "s = int(input())\n",
    "i = 0\n",
    "k = 0\n",
    "while s > 0:\n",
    "    i += s // 25\n",
    "    k += 3\n",
    "    s = s % 25\n",
    "                 \n",
    "    i += s // 10 \n",
    "    k += 3\n",
    "    s = s % 10\n",
    "    \n",
    "    i += s // 5          \n",
    "    s = s % 5\n",
    "    k += 3\n",
    "    \n",
    "    i += s \n",
    "    k += 1\n",
    "    s = 0\n",
    "print(i)\n",
    "print(k)"
   ]
  },
  {
   "cell_type": "code",
   "execution_count": 13,
   "metadata": {},
   "outputs": [
    {
     "name": "stdout",
     "output_type": "stream",
     "text": [
      "AAA\n",
      "AAA\n",
      "AAA\n",
      "AAA\n",
      "AAA\n",
      "AAA\n"
     ]
    }
   ],
   "source": [
    "for i in range(6):\n",
    "    print('AAA')"
   ]
  },
  {
   "cell_type": "code",
   "execution_count": 24,
   "metadata": {},
   "outputs": [
    {
     "name": "stdout",
     "output_type": "stream",
     "text": [
      "237\n"
     ]
    }
   ],
   "source": [
    "print(2, end='')\n",
    "print(3, end='')\n",
    "print(7)"
   ]
  },
  {
   "cell_type": "code",
   "execution_count": 23,
   "metadata": {},
   "outputs": [
    {
     "name": "stdout",
     "output_type": "stream",
     "text": [
      "237\n"
     ]
    }
   ],
   "source": [
    "print(2, 3, 7, sep='')"
   ]
  },
  {
   "cell_type": "code",
   "execution_count": 29,
   "metadata": {},
   "outputs": [
    {
     "name": "stdout",
     "output_type": "stream",
     "text": [
      "098765432"
     ]
    }
   ],
   "source": [
    "n = 234567890\n",
    "\n",
    "while n > 0:\n",
    "    print(n % 10, end='')\n",
    "    n = n // 10\n"
   ]
  },
  {
   "cell_type": "code",
   "execution_count": 31,
   "metadata": {},
   "outputs": [
    {
     "name": "stdout",
     "output_type": "stream",
     "text": [
      "5\n",
      "*******************\n",
      "*******************\n",
      "*******************\n",
      "*******************\n",
      "*******************\n"
     ]
    }
   ],
   "source": [
    "n = int(input())\n",
    "\n",
    "for i in range(n):\n",
    "    print('*' * 19)"
   ]
  },
  {
   "cell_type": "code",
   "execution_count": 34,
   "metadata": {},
   "outputs": [
    {
     "name": "stdout",
     "output_type": "stream",
     "text": [
      "123456789\n",
      "987654321\n"
     ]
    }
   ],
   "source": [
    "print(input()[::-1])"
   ]
  },
  {
   "cell_type": "code",
   "execution_count": 36,
   "metadata": {},
   "outputs": [
    {
     "name": "stdout",
     "output_type": "stream",
     "text": [
      "4 11\n",
      "808\n",
      "234\n",
      "45\n",
      "67\n",
      "89\n"
     ]
    }
   ],
   "source": [
    "def good(y):\n",
    "    s = 0\n",
    "    for i in a:\n",
    "        s += i // y\n",
    "    return s >= k\n",
    "\n",
    "\n",
    "def bin_search(x):\n",
    "    l, r = 0, max(a) + 1\n",
    "    while r - l > 1:\n",
    "        m = (r + l) // 2\n",
    "        if good(m):\n",
    "            l = m\n",
    "        else:\n",
    "            r = m\n",
    "    return l\n",
    "\n",
    "\n",
    "n, k = map(int, input().split())\n",
    "a = []\n",
    "for i in range(n):\n",
    "    a.append(int(input()))\n",
    "    \n",
    "print(bin_search(k))"
   ]
  },
  {
   "cell_type": "code",
   "execution_count": 40,
   "metadata": {},
   "outputs": [
    {
     "name": "stdout",
     "output_type": "stream",
     "text": [
      "3\n",
      "6\n",
      "2\n",
      "0\n"
     ]
    }
   ],
   "source": [
    "n = int(input())\n",
    "k = int(input())\n",
    "\n",
    "print(k // n, k % n, sep='\\n')"
   ]
  },
  {
   "cell_type": "code",
   "execution_count": 43,
   "metadata": {},
   "outputs": [
    {
     "name": "stdout",
     "output_type": "stream",
     "text": [
      "123\n"
     ]
    },
    {
     "ename": "ValueError",
     "evalue": "not enough values to unpack (expected 3, got 1)",
     "output_type": "error",
     "traceback": [
      "\u001b[0;31m---------------------------------------------------------------------------\u001b[0m",
      "\u001b[0;31mValueError\u001b[0m                                Traceback (most recent call last)",
      "\u001b[0;32m<ipython-input-43-fa75ad4f4e25>\u001b[0m in \u001b[0;36m<module>\u001b[0;34m\u001b[0m\n\u001b[0;32m----> 1\u001b[0;31m \u001b[0ma\u001b[0m\u001b[0;34m,\u001b[0m \u001b[0mb\u001b[0m\u001b[0;34m,\u001b[0m \u001b[0mc\u001b[0m \u001b[0;34m=\u001b[0m \u001b[0mmap\u001b[0m\u001b[0;34m(\u001b[0m\u001b[0mint\u001b[0m\u001b[0;34m,\u001b[0m\u001b[0minput\u001b[0m\u001b[0;34m(\u001b[0m\u001b[0;34m)\u001b[0m\u001b[0;34m.\u001b[0m\u001b[0msplit\u001b[0m\u001b[0;34m(\u001b[0m\u001b[0;34m)\u001b[0m\u001b[0;34m)\u001b[0m\u001b[0;34m\u001b[0m\u001b[0;34m\u001b[0m\u001b[0m\n\u001b[0m\u001b[1;32m      2\u001b[0m \u001b[0mprint\u001b[0m\u001b[0;34m(\u001b[0m\u001b[0;34mf'Сумма цифр = {a+b+c}'\u001b[0m\u001b[0;34m,\u001b[0m \u001b[0;34mf'Произведение цифр = {a*b*c}'\u001b[0m\u001b[0;34m,\u001b[0m \u001b[0msep\u001b[0m\u001b[0;34m=\u001b[0m\u001b[0;34m'\\n'\u001b[0m\u001b[0;34m)\u001b[0m\u001b[0;34m\u001b[0m\u001b[0;34m\u001b[0m\u001b[0m\n",
      "\u001b[0;31mValueError\u001b[0m: not enough values to unpack (expected 3, got 1)"
     ]
    }
   ],
   "source": [
    "n = int(input())\n",
    "print(f'Сумма цифр = {a+b+c}', f'Произведение цифр = {a*b*c}', sep='\\n')"
   ]
  },
  {
   "cell_type": "code",
   "execution_count": 53,
   "metadata": {},
   "outputs": [
    {
     "name": "stdout",
     "output_type": "stream",
     "text": [
      "123\n",
      "Сумма цифр = 6\n",
      "Произведение цифр = 6\n"
     ]
    }
   ],
   "source": [
    "n = int(input())\n",
    "a = n // 100 % 10\n",
    "b = n // 10 % 10\n",
    "c = n % 10\n",
    "\n",
    "print(f'Сумма цифр = {a + b + c}', f'Произведение цифр = {a * b * c}', sep='\\n')"
   ]
  },
  {
   "cell_type": "code",
   "execution_count": 59,
   "metadata": {},
   "outputs": [
    {
     "name": "stdout",
     "output_type": "stream",
     "text": [
      "1\n",
      "1\n",
      "10\n",
      "1\n"
     ]
    }
   ],
   "source": [
    "n = int(input())\n",
    "a = n // 100 % 10\n",
    "b = n // 10 % 10\n",
    "c = n % 10\n",
    "\n",
    "\n",
    "print(a * 100 + b * 10 + c)\n",
    "#abc,acb,bac,bca,cab,cba.\n",
    "print(a * 100 + c * 10 + b)\n",
    "print(b * 100 + a * 10 + c)"
   ]
  },
  {
   "cell_type": "markdown",
   "metadata": {},
   "source": [
    "общее количество символов в строке;\n",
    "исходную строку повторенную 3 раза;\n",
    "первый символ строки;\n",
    "первые три символа строки;\n",
    "последние три символа строки;\n",
    "строку в обратном порядке;\n",
    "строку с удаленным первым и последним символом.\n"
   ]
  },
  {
   "cell_type": "code",
   "execution_count": 64,
   "metadata": {},
   "outputs": [
    {
     "name": "stdout",
     "output_type": "stream",
     "text": [
      "abcdefghijklmnopqrstuvwxyz\n",
      "26\n",
      "abcdefghijklmnopqrstuvwxyzabcdefghijklmnopqrstuvwxyzabcdefghijklmnopqrstuvwxyz\n",
      "a\n",
      "abc\n",
      "xyz\n",
      "zyxwvutsrqponmlkjihgfedcba\n",
      "defghijklmnopqrstuvwxy\n"
     ]
    }
   ],
   "source": [
    "a = input()\n",
    "\n",
    "print(len(a))\n",
    "print(a * 3)\n",
    "print(a[0])\n",
    "print(a[:3])\n",
    "print(a[-3:])\n",
    "print(a[::-1])\n",
    "print(a[3:-1])"
   ]
  },
  {
   "cell_type": "code",
   "execution_count": null,
   "metadata": {},
   "outputs": [],
   "source": [
    "n = int(input())\n",
    "\n",
    "a = []\n",
    "c = []\n",
    "for i in range(n):\n",
    "    s = input()\n",
    "    c.append(s)\n",
    "    a.append(s.lower())\n",
    "    \n",
    "b = input().lower()\n",
    "\n",
    "for i in range(len(a)):\n",
    "    if b in a[i]:\n",
    "        print(c[i])\n"
   ]
  },
  {
   "cell_type": "code",
   "execution_count": 78,
   "metadata": {},
   "outputs": [
    {
     "name": "stdout",
     "output_type": "stream",
     "text": [
      "19\n",
      "<generator object <genexpr> at 0x1121952a0>\n"
     ]
    }
   ],
   "source": [
    "n = int(input())\n",
    "print('*' for i in range(n, 0, -1))"
   ]
  },
  {
   "cell_type": "code",
   "execution_count": null,
   "metadata": {},
   "outputs": [],
   "source": [
    "n = int(input())\n",
    "mx = 0\n",
    "mn = 1\n",
    "\n",
    "while n > 0:\n",
    "    a = n % 10\n",
    "    if a > nx\n",
    "    \n"
   ]
  },
  {
   "cell_type": "code",
   "execution_count": 80,
   "metadata": {},
   "outputs": [
    {
     "name": "stdout",
     "output_type": "stream",
     "text": [
      "345\n",
      "111\n",
      "222\n",
      "345\n",
      "222\n",
      "111\n"
     ]
    }
   ],
   "source": [
    "a = int(input())\n",
    "b = int(input())\n",
    "c = int(input())\n",
    "\n",
    "if a < b:\n",
    "    a, b = b, a\n",
    "if a < c:\n",
    "    a, c =c, a\n",
    "if b < c:\n",
    "    b, c = c, b\n",
    "    \n",
    "print(a, b, c, sep='\\n')"
   ]
  },
  {
   "cell_type": "code",
   "execution_count": 83,
   "metadata": {},
   "outputs": [
    {
     "name": "stdout",
     "output_type": "stream",
     "text": [
      "10\n",
      "0 0 0 0 1 1 1 1 1 1\n",
      "4\n"
     ]
    }
   ],
   "source": [
    "def good(x):\n",
    "    if a[x] == 0:\n",
    "        return True\n",
    "    return False\n",
    "\n",
    "\n",
    "def bin_search():\n",
    "    l, r = -1, n\n",
    "    while r - l > 1:\n",
    "        m = (l + r) // 2\n",
    "        if good(m):\n",
    "            l = m\n",
    "        else:\n",
    "            r = m\n",
    "    return r\n",
    "\n",
    "\n",
    "n = int(input())\n",
    "a = list(map(int, input().split()))\n",
    "\n",
    "print(bin_search())"
   ]
  },
  {
   "cell_type": "code",
   "execution_count": 85,
   "metadata": {},
   "outputs": [
    {
     "name": "stdout",
     "output_type": "stream",
     "text": [
      "7\n",
      "10 47 50 63 89 90 99\n",
      "4\n",
      "84 33 10 82\n",
      "NO\n",
      "NO\n",
      "YES\n",
      "NO\n"
     ]
    }
   ],
   "source": [
    "def good(y, z):\n",
    "    if a[y] <= z:\n",
    "        return True\n",
    "    return False\n",
    "\n",
    "\n",
    "def bin_search2(x):\n",
    "    l, r = -1, n\n",
    "    while r - l > 1:\n",
    "        m = (l + r) // 2\n",
    "        if good(m, x):\n",
    "            l = m\n",
    "        else:\n",
    "            r = m\n",
    "    return a[l] == x\n",
    "\n",
    "\n",
    "n = int(input())\n",
    "a = list(map(int, input().split()))\n",
    "m = int(input())\n",
    "b = list(map(int, input().split()))\n",
    "\n",
    "for i in b:\n",
    "    print('YES' if bin_search2(i) else 'NO')"
   ]
  },
  {
   "cell_type": "code",
   "execution_count": 91,
   "metadata": {},
   "outputs": [
    {
     "name": "stdout",
     "output_type": "stream",
     "text": [
      "2 3 10\n",
      "9\n"
     ]
    }
   ],
   "source": [
    "def good(x, w, h, n):\n",
    "    m = (x // w)  * (x // h)\n",
    "    if m >= n:\n",
    "        return True\n",
    "    return False\n",
    "\n",
    "\n",
    "def bin_search3(w, h, n):\n",
    "    l, r = 1, n * max(w, h)\n",
    "    while r - l > 1:\n",
    "        m = (l + r) // 2\n",
    "        if good(m, w, h, n):\n",
    "            r = m\n",
    "        else:\n",
    "            l = m\n",
    "    return r\n",
    "\n",
    "\n",
    "w, h, n = map(int, input().split())\n",
    "\n",
    "print(bin_search3(w, h, n))"
   ]
  },
  {
   "cell_type": "markdown",
   "metadata": {},
   "source": []
  }
 ],
 "metadata": {
  "kernelspec": {
   "display_name": "Python 3",
   "language": "python",
   "name": "python3"
  },
  "language_info": {
   "codemirror_mode": {
    "name": "ipython",
    "version": 3
   },
   "file_extension": ".py",
   "mimetype": "text/x-python",
   "name": "python",
   "nbconvert_exporter": "python",
   "pygments_lexer": "ipython3",
   "version": "3.7.2"
  }
 },
 "nbformat": 4,
 "nbformat_minor": 2
}
