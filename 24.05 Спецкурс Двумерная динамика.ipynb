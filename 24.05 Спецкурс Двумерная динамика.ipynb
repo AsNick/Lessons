{
 "cells": [
  {
   "cell_type": "code",
   "execution_count": 5,
   "metadata": {},
   "outputs": [
    {
     "name": "stdout",
     "output_type": "stream",
     "text": [
      "9 7\n",
      "[1, 1, 1, 1, 1, 1, 1]\n",
      "[1, 2, 3, 4, 5, 6, 7]\n",
      "[1, 3, 6, 10, 15, 21, 28]\n",
      "[1, 4, 10, 20, 35, 56, 84]\n",
      "[1, 5, 15, 35, 70, 126, 210]\n",
      "[1, 6, 21, 56, 126, 252, 462]\n",
      "[1, 7, 28, 84, 210, 462, 924]\n",
      "[1, 8, 36, 120, 330, 792, 1716]\n",
      "[1, 9, 45, 165, 495, 1287, 3003]\n"
     ]
    }
   ],
   "source": [
    "n, m = map(int, input().split())\n",
    "dp = [[0] * m for i in range(n)]\n",
    "\n",
    "dp[0][0] = 1\n",
    "for i in range(m):\n",
    "    dp[0][i] = 1\n",
    "for i in range(n):\n",
    "    dp[i][0] = 1\n",
    "    \n",
    "\n",
    "for i in range(1, n):\n",
    "    for j in range(1, m):\n",
    "        dp[i][j] = dp[i - 1][j] + dp[i][j - 1]\n",
    "        \n",
    "for i in dp:\n",
    "    print(i)"
   ]
  },
  {
   "cell_type": "code",
   "execution_count": 9,
   "metadata": {},
   "outputs": [
    {
     "name": "stdout",
     "output_type": "stream",
     "text": [
      "4 5\n",
      "1 2 3 4 5\n",
      "6 7 8 9 10\n",
      "11 12 13 14 15\n",
      "16 17 18 19 20\n",
      "[1, 3, 6, 10, 15]\n",
      "[7, 10, 14, 19, 25]\n",
      "[18, 22, 27, 33, 40]\n",
      "[34, 39, 45, 52, 60]\n",
      "[0, 'L', 'L', 'L', 'L']\n",
      "['U', 'U', 'U', 'U', 'U']\n",
      "['U', 'U', 'U', 'U', 'U']\n",
      "['U', 'U', 'U', 'U', 'U']\n"
     ]
    }
   ],
   "source": [
    "n, m = map(int, input().split())\n",
    "dp = []\n",
    "\n",
    "for i in range(n):\n",
    "    dp.append(list(map(int, input().split())))\n",
    "\n",
    "from_ = [[0] * m for i in range(n)]\n",
    "\n",
    "for i in range(1, m):\n",
    "    dp[0][i] += dp[0][i - 1]\n",
    "    from_[0][i] = 'L'\n",
    "for i in range(1, n):\n",
    "    dp[i][0] += dp[i - 1][0]\n",
    "    from_[i][0] = 'U'\n",
    "    \n",
    "\n",
    "for i in range(1, n):\n",
    "    for j in range(1, m):\n",
    "        if dp[i - 1][j] < dp[i][j - 1]:\n",
    "            dp[i][j] += dp[i - 1][j]\n",
    "            from_[i][j] = 'U'\n",
    "        else:\n",
    "            dp[i][j] += dp[i][j - 1]\n",
    "            from_[i][j] = 'L'\n",
    "        \n",
    "for i in dp:\n",
    "    print(i)\n",
    "    \n",
    "for i in from_:\n",
    "    print(i)"
   ]
  },
  {
   "cell_type": "code",
   "execution_count": null,
   "metadata": {},
   "outputs": [],
   "source": []
  }
 ],
 "metadata": {
  "kernelspec": {
   "display_name": "Python 3",
   "language": "python",
   "name": "python3"
  },
  "language_info": {
   "codemirror_mode": {
    "name": "ipython",
    "version": 3
   },
   "file_extension": ".py",
   "mimetype": "text/x-python",
   "name": "python",
   "nbconvert_exporter": "python",
   "pygments_lexer": "ipython3",
   "version": "3.7.2"
  }
 },
 "nbformat": 4,
 "nbformat_minor": 2
}
