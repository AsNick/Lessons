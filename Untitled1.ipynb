{
 "cells": [
  {
   "cell_type": "code",
   "execution_count": 3,
   "metadata": {},
   "outputs": [
    {
     "name": "stdout",
     "output_type": "stream",
     "text": [
      "5678\n",
      "5 4\n",
      "26\n",
      "4\n",
      "1680\n",
      "6.5\n",
      "5\n",
      "13\n"
     ]
    }
   ],
   "source": [
    "a = int(input())\n",
    "totalsum = 0\n",
    "totallen = len(str(a))\n",
    "totalproiz = 1\n",
    "totalaref = 1\n",
    "last = a % 10\n",
    "first = a // (10 ** (totallen - 1))\n",
    "while a > 0:\n",
    "    last_d = a % 10\n",
    "    a = a // 10\n",
    "    totalsum += last_d\n",
    "    totalproiz = totalproiz * last_d\n",
    "\n",
    "print(totalsum, totallen, totalproiz, totalsum / totallen, first, first + last, sep='\\n')"
   ]
  },
  {
   "cell_type": "code",
   "execution_count": 8,
   "metadata": {},
   "outputs": [
    {
     "name": "stdout",
     "output_type": "stream",
     "text": [
      "5678\n",
      "26\n",
      "4\n",
      "1680\n",
      "6.5\n",
      "13\n"
     ]
    }
   ],
   "source": [
    "n = int(input())\n",
    "s = 0\n",
    "ln = len(str(n))\n",
    "p = 1\n",
    "f = n // (10 ** (ln - 1))\n",
    "l = n % 10\n",
    "while n:\n",
    "    s += n % 10\n",
    "    p *= n % 10\n",
    "    n //= 10\n",
    "    \n",
    "print(s, ln, p, s / ln, f + l, sep='\\n')"
   ]
  },
  {
   "cell_type": "code",
   "execution_count": 9,
   "metadata": {},
   "outputs": [
    {
     "name": "stdout",
     "output_type": "stream",
     "text": [
      "12345678\n",
      "2\n"
     ]
    }
   ],
   "source": [
    "a = int(input())\n",
    "\n",
    "while a > 100:\n",
    "    a //= 10\n",
    "print(a % 10)"
   ]
  },
  {
   "cell_type": "code",
   "execution_count": 15,
   "metadata": {},
   "outputs": [
    {
     "name": "stdout",
     "output_type": "stream",
     "text": [
      "121111\n",
      "NO\n"
     ]
    }
   ],
   "source": [
    "a = int(input())\n",
    "\n",
    "last = a % 10\n",
    "\n",
    "while last == a % 10:\n",
    "    a //= 10\n",
    "    \n",
    "if a == 0:\n",
    "    print(\"YES\")\n",
    "else:\n",
    "    print(\"NO\")"
   ]
  },
  {
   "cell_type": "code",
   "execution_count": 22,
   "metadata": {},
   "outputs": [
    {
     "name": "stdout",
     "output_type": "stream",
     "text": [
      "qwerty\n",
      "eqrtwy\n",
      "ywtrqe\n"
     ]
    }
   ],
   "source": [
    "a = list(input())\n",
    "\n",
    "print(*sorted(a), sep='')\n",
    "print(*sorted(a, reverse=True), sep='')"
   ]
  },
  {
   "cell_type": "code",
   "execution_count": 25,
   "metadata": {},
   "outputs": [
    {
     "name": "stdout",
     "output_type": "stream",
     "text": [
      "10\n",
      "1 8\n",
      "8 9\n",
      "2 10\n",
      "1 11\n",
      "4 2\n",
      "7 2\n",
      "3 11\n",
      "2 23\n",
      "3 3\n",
      "6 7\n",
      "[1, 0, 8]\n",
      "[1, 3, 11]\n",
      "[2, 2, 10]\n",
      "[2, 7, 23]\n",
      "[3, 6, 11]\n",
      "[3, 8, 3]\n",
      "[4, 4, 2]\n",
      "[6, 9, 7]\n",
      "[7, 5, 2]\n",
      "[8, 1, 9]\n"
     ]
    }
   ],
   "source": [
    "n = int(input())\n",
    "a = []\n",
    "for i in range(n):\n",
    "    x, y = map(int, input().split())\n",
    "    a.append([x, i, y])\n",
    "\n",
    "a.sort()\n",
    "for i in a:\n",
    "    print(i[0], i[2])"
   ]
  },
  {
   "cell_type": "code",
   "execution_count": null,
   "metadata": {},
   "outputs": [],
   "source": []
  }
 ],
 "metadata": {
  "kernelspec": {
   "display_name": "Python 3",
   "language": "python",
   "name": "python3"
  },
  "language_info": {
   "codemirror_mode": {
    "name": "ipython",
    "version": 3
   },
   "file_extension": ".py",
   "mimetype": "text/x-python",
   "name": "python",
   "nbconvert_exporter": "python",
   "pygments_lexer": "ipython3",
   "version": "3.7.2"
  }
 },
 "nbformat": 4,
 "nbformat_minor": 2
}
