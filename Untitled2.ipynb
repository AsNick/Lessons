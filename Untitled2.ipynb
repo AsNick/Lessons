{
 "cells": [
  {
   "cell_type": "markdown",
   "metadata": {},
   "source": [
    "Числа Фибоначчи:\n",
    "$F_0 = 0$  \n",
    "$F_1 = 1$ \n",
    "\n",
    "\n",
    "$F_2 = F_1 + F-0 = 1$  \n",
    "\n",
    "$F_3 = F_2 + F_1 = 2$  \n",
    "\n",
    "F4 = F3 + F2 = 3\n",
    "F5 = F4 + F3 = 5\n",
    "F6 = F5 + F4 = 8\n",
    "F7 = F6 + F5 = 13\n",
    "\n",
    "$F_n = F_{n- 1} + F_{n - 2}$"
   ]
  },
  {
   "cell_type": "code",
   "execution_count": 1,
   "metadata": {},
   "outputs": [
    {
     "name": "stdout",
     "output_type": "stream",
     "text": [
      "[0, 1, 1, 2, 3, 5, 8, 13, 21, 34, 55, 89, 144, 233, 377, 610, 987, 1597, 2584, 4181, 6765]\n"
     ]
    }
   ],
   "source": [
    "n = 20\n",
    "f = [0] * 21\n",
    "f[1] = 1\n",
    "\n",
    "for i in range(2, 21):\n",
    "    f[i] = f[i - 1] + f[i - 2]\n",
    "\n",
    "print(f)"
   ]
  },
  {
   "cell_type": "markdown",
   "metadata": {},
   "source": [
    "2 3 5 13 ..."
   ]
  },
  {
   "cell_type": "code",
   "execution_count": null,
   "metadata": {},
   "outputs": [],
   "source": [
    "n = int(input())\n",
    "\n",
    "if n % 400 == 0 or (n % 4 == 0 and n % 100 != 0):\n",
    "    print('YES')\n",
    "else:\n",
    "    print('NO')"
   ]
  }
 ],
 "metadata": {
  "kernelspec": {
   "display_name": "Python 3",
   "language": "python",
   "name": "python3"
  },
  "language_info": {
   "codemirror_mode": {
    "name": "ipython",
    "version": 3
   },
   "file_extension": ".py",
   "mimetype": "text/x-python",
   "name": "python",
   "nbconvert_exporter": "python",
   "pygments_lexer": "ipython3",
   "version": "3.7.2"
  }
 },
 "nbformat": 4,
 "nbformat_minor": 2
}
